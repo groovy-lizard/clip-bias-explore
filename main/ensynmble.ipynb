{
 "cells": [
  {
   "cell_type": "markdown",
   "metadata": {},
   "source": [
    "# Synthetic Caption Structure\n",
    "\n",
    "Each component should have a list of synonyms, a list of combinations should be generated.\n",
    "\n",
    "## Caption Structure:\n",
    "\n",
    "(age) (race) (gender)\n",
    "\n",
    "**Age**:\n",
    "\n",
    "- Old\n",
    "- Young\n",
    "- Middle-aged\n",
    "\n",
    "**Race**:\n",
    "\n",
    "- White\n",
    "- Black\n",
    "- Asian\n",
    "- Latino_Hispanic\n",
    "- Indian\n",
    "- East Asian\n",
    "- Southeast Asian\n",
    "- Middle Eastern\n",
    "\n",
    "**Gender**:\n",
    "\n",
    "- Man\n",
    "- Woman\n",
    "\n"
   ]
  },
  {
   "cell_type": "code",
   "execution_count": 20,
   "metadata": {},
   "outputs": [],
   "source": [
    "from nltk.corpus import wordnet as wn\n",
    "import json"
   ]
  },
  {
   "cell_type": "code",
   "execution_count": 2,
   "metadata": {},
   "outputs": [],
   "source": [
    "def get_synonyms(word):\n",
    "    synonyms = set()\n",
    "    for syn in wn.synsets(word):\n",
    "        for l in syn.lemmas():\n",
    "            synonyms.add(l.name())\n",
    "        for hyp in syn.hyponyms():\n",
    "            for l in hyp.lemmas():\n",
    "                synonyms.add(l.name())\n",
    "    return synonyms"
   ]
  },
  {
   "cell_type": "code",
   "execution_count": 22,
   "metadata": {},
   "outputs": [],
   "source": [
    "def arg_combiner(a_list, r_list, g_list):\n",
    "    \"\"\"Combine the elements of a,r,g lists containing\n",
    "    ages, races and genders, respectively.\"\"\"\n",
    "    final_set = set()\n",
    "\n",
    "    for age in a_list:\n",
    "        for race in r_list:\n",
    "            for gender in g_list:\n",
    "                final_set.add(gender)\n",
    "                final_set.add(f\"{age}_{gender}\")\n",
    "                final_set.add(f\"{race}_{gender}\")\n",
    "                final_set.add(f\"{age}_{race}_{gender}\")\n",
    "    \n",
    "    return final_set"
   ]
  },
  {
   "cell_type": "code",
   "execution_count": 16,
   "metadata": {},
   "outputs": [],
   "source": [
    "age_list = ['young', 'old', 'middle-aged']\n",
    "race_list = ['black', 'white', 'hispanic', 'latino', 'indian', 'asian', 'arabic']\n",
    "gender_list = ['man', 'woman']"
   ]
  },
  {
   "cell_type": "code",
   "execution_count": 17,
   "metadata": {},
   "outputs": [],
   "source": [
    "arg_set = arg_combiner(a_list=age_list, r_list=race_list, g_list=gender_list)"
   ]
  },
  {
   "cell_type": "code",
   "execution_count": 18,
   "metadata": {},
   "outputs": [],
   "source": [
    "arg_dict = {}\n",
    "\n",
    "for word in arg_set:\n",
    "    word_set = get_synonyms(word)\n",
    "    if len(word_set):\n",
    "        arg_dict[word] = word_set\n",
    "    else:\n",
    "        arg_dict[word] = word"
   ]
  },
  {
   "cell_type": "code",
   "execution_count": 23,
   "metadata": {},
   "outputs": [
    {
     "data": {
      "text/plain": [
       "{'arabic_man',\n",
       " 'arabic_woman',\n",
       " 'asian_man',\n",
       " 'asian_woman',\n",
       " 'black_man',\n",
       " 'black_woman',\n",
       " 'hispanic_man',\n",
       " 'hispanic_woman',\n",
       " 'indian_man',\n",
       " 'indian_woman',\n",
       " 'latino_man',\n",
       " 'latino_woman',\n",
       " 'man',\n",
       " 'middle-aged_arabic_man',\n",
       " 'middle-aged_arabic_woman',\n",
       " 'middle-aged_asian_man',\n",
       " 'middle-aged_asian_woman',\n",
       " 'middle-aged_black_man',\n",
       " 'middle-aged_black_woman',\n",
       " 'middle-aged_hispanic_man',\n",
       " 'middle-aged_hispanic_woman',\n",
       " 'middle-aged_indian_man',\n",
       " 'middle-aged_indian_woman',\n",
       " 'middle-aged_latino_man',\n",
       " 'middle-aged_latino_woman',\n",
       " 'middle-aged_man',\n",
       " 'middle-aged_white_man',\n",
       " 'middle-aged_white_woman',\n",
       " 'middle-aged_woman',\n",
       " 'old_arabic_man',\n",
       " 'old_arabic_woman',\n",
       " 'old_asian_man',\n",
       " 'old_asian_woman',\n",
       " 'old_black_man',\n",
       " 'old_black_woman',\n",
       " 'old_hispanic_man',\n",
       " 'old_hispanic_woman',\n",
       " 'old_indian_man',\n",
       " 'old_indian_woman',\n",
       " 'old_latino_man',\n",
       " 'old_latino_woman',\n",
       " 'old_man',\n",
       " 'old_white_man',\n",
       " 'old_white_woman',\n",
       " 'old_woman',\n",
       " 'white_man',\n",
       " 'white_woman',\n",
       " 'woman',\n",
       " 'young_arabic_man',\n",
       " 'young_arabic_woman',\n",
       " 'young_asian_man',\n",
       " 'young_asian_woman',\n",
       " 'young_black_man',\n",
       " 'young_black_woman',\n",
       " 'young_hispanic_man',\n",
       " 'young_hispanic_woman',\n",
       " 'young_indian_man',\n",
       " 'young_indian_woman',\n",
       " 'young_latino_man',\n",
       " 'young_latino_woman',\n",
       " 'young_man',\n",
       " 'young_white_man',\n",
       " 'young_white_woman',\n",
       " 'young_woman'}"
      ]
     },
     "execution_count": 23,
     "metadata": {},
     "output_type": "execute_result"
    }
   ],
   "source": [
    "arg_set"
   ]
  }
 ],
 "metadata": {
  "kernelspec": {
   "display_name": "clipenv",
   "language": "python",
   "name": "python3"
  },
  "language_info": {
   "codemirror_mode": {
    "name": "ipython",
    "version": 3
   },
   "file_extension": ".py",
   "mimetype": "text/x-python",
   "name": "python",
   "nbconvert_exporter": "python",
   "pygments_lexer": "ipython3",
   "version": "3.8.18"
  }
 },
 "nbformat": 4,
 "nbformat_minor": 2
}

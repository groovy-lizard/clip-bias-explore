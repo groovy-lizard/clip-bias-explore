{
 "cells": [
  {
   "cell_type": "markdown",
   "metadata": {},
   "source": [
    "# Synthetic Caption Structure\n",
    "\n",
    "Each component should have a list of synonyms, a list of combinations should be generated.\n",
    "\n",
    "## Caption Structure:\n",
    "\n",
    "(age) (race) (gender)\n",
    "\n",
    "**Age**:\n",
    "\n",
    "- Old\n",
    "- Young\n",
    "- Middle-aged\n",
    "\n",
    "**Race**:\n",
    "\n",
    "- White\n",
    "- Black\n",
    "- Asian\n",
    "- Latino_Hispanic\n",
    "- Indian\n",
    "- East Asian\n",
    "- Southeast Asian\n",
    "- Middle Eastern\n",
    "\n",
    "**Gender**:\n",
    "\n",
    "- Man\n",
    "- Woman\n",
    "\n"
   ]
  },
  {
   "cell_type": "code",
   "execution_count": 1,
   "metadata": {},
   "outputs": [],
   "source": [
    "from nltk.corpus import wordnet as wn\n",
    "import json"
   ]
  },
  {
   "cell_type": "code",
   "execution_count": 2,
   "metadata": {},
   "outputs": [],
   "source": [
    "def a_or_an(word):\n",
    "    vowels = ['a', 'e', 'i', 'o', 'u']\n",
    "    if word[0] in vowels:\n",
    "        return \"an\"\n",
    "    else:\n",
    "        return \"a\""
   ]
  },
  {
   "cell_type": "code",
   "execution_count": 3,
   "metadata": {},
   "outputs": [],
   "source": [
    "def get_synonyms(word):\n",
    "    synonyms = set()\n",
    "    for syn in wn.synsets(word):\n",
    "        for l in syn.lemmas():\n",
    "            synonyms.add(l.name())\n",
    "        for hyp in syn.hyponyms():\n",
    "            for l in hyp.lemmas():\n",
    "                synonyms.add(l.name())\n",
    "    return synonyms"
   ]
  },
  {
   "cell_type": "code",
   "execution_count": 11,
   "metadata": {},
   "outputs": [],
   "source": [
    "def arg_combiner(a_list, r_list, g_list):\n",
    "    \"\"\"Combine the elements of a,r,g lists containing\n",
    "    ages, races and genders, respectively.\"\"\"\n",
    "    arg_d = {}\n",
    "\n",
    "    for gender in g_list:\n",
    "        arg_d[gender] = f\"a photo of a {gender}\"\n",
    "        for race in r_list:\n",
    "            arg_d[f\"{race}_{gender}\"] = \"a photo of \" + a_or_an(race) + f\" {race} {gender}\"\n",
    "            for age in a_list:\n",
    "                arg_d[f\"{age}_{race}_{gender}\"] = \"a photo of \" + a_or_an(age) + f\" {age} {race} {gender}\"\n",
    "        for age in a_list:\n",
    "            arg_d[f\"{age}_{gender}\"] = \"a photo of \" + a_or_an(age) + f\" {age} {gender}\"\n",
    "\n",
    "    return arg_d"
   ]
  },
  {
   "cell_type": "code",
   "execution_count": 5,
   "metadata": {},
   "outputs": [],
   "source": [
    "age_list = ['young', 'old', 'middle-aged']\n",
    "race_list = ['black', 'white', 'hispanic', 'latino', 'indian', 'asian', 'arabic']\n",
    "gender_list = ['man', 'woman']"
   ]
  },
  {
   "cell_type": "code",
   "execution_count": 12,
   "metadata": {},
   "outputs": [],
   "source": [
    "arg_d = arg_combiner(a_list=age_list, r_list=race_list, g_list=gender_list)"
   ]
  },
  {
   "cell_type": "code",
   "execution_count": 13,
   "metadata": {},
   "outputs": [
    {
     "data": {
      "text/plain": [
       "{'man': 'a photo of a man',\n",
       " 'black_man': 'a photo of a black man',\n",
       " 'young_black_man': 'a photo of a young black man',\n",
       " 'old_black_man': 'a photo of an old black man',\n",
       " 'middle-aged_black_man': 'a photo of a middle-aged black man',\n",
       " 'white_man': 'a photo of a white man',\n",
       " 'young_white_man': 'a photo of a young white man',\n",
       " 'old_white_man': 'a photo of an old white man',\n",
       " 'middle-aged_white_man': 'a photo of a middle-aged white man',\n",
       " 'hispanic_man': 'a photo of a hispanic man',\n",
       " 'young_hispanic_man': 'a photo of a young hispanic man',\n",
       " 'old_hispanic_man': 'a photo of an old hispanic man',\n",
       " 'middle-aged_hispanic_man': 'a photo of a middle-aged hispanic man',\n",
       " 'latino_man': 'a photo of a latino man',\n",
       " 'young_latino_man': 'a photo of a young latino man',\n",
       " 'old_latino_man': 'a photo of an old latino man',\n",
       " 'middle-aged_latino_man': 'a photo of a middle-aged latino man',\n",
       " 'indian_man': 'a photo of an indian man',\n",
       " 'young_indian_man': 'a photo of a young indian man',\n",
       " 'old_indian_man': 'a photo of an old indian man',\n",
       " 'middle-aged_indian_man': 'a photo of a middle-aged indian man',\n",
       " 'asian_man': 'a photo of an asian man',\n",
       " 'young_asian_man': 'a photo of a young asian man',\n",
       " 'old_asian_man': 'a photo of an old asian man',\n",
       " 'middle-aged_asian_man': 'a photo of a middle-aged asian man',\n",
       " 'arabic_man': 'a photo of an arabic man',\n",
       " 'young_arabic_man': 'a photo of a young arabic man',\n",
       " 'old_arabic_man': 'a photo of an old arabic man',\n",
       " 'middle-aged_arabic_man': 'a photo of a middle-aged arabic man',\n",
       " 'young_man': 'a photo of a young man',\n",
       " 'old_man': 'a photo of an old man',\n",
       " 'middle-aged_man': 'a photo of a middle-aged man',\n",
       " 'woman': 'a photo of a woman',\n",
       " 'black_woman': 'a photo of a black woman',\n",
       " 'young_black_woman': 'a photo of a young black woman',\n",
       " 'old_black_woman': 'a photo of an old black woman',\n",
       " 'middle-aged_black_woman': 'a photo of a middle-aged black woman',\n",
       " 'white_woman': 'a photo of a white woman',\n",
       " 'young_white_woman': 'a photo of a young white woman',\n",
       " 'old_white_woman': 'a photo of an old white woman',\n",
       " 'middle-aged_white_woman': 'a photo of a middle-aged white woman',\n",
       " 'hispanic_woman': 'a photo of a hispanic woman',\n",
       " 'young_hispanic_woman': 'a photo of a young hispanic woman',\n",
       " 'old_hispanic_woman': 'a photo of an old hispanic woman',\n",
       " 'middle-aged_hispanic_woman': 'a photo of a middle-aged hispanic woman',\n",
       " 'latino_woman': 'a photo of a latino woman',\n",
       " 'young_latino_woman': 'a photo of a young latino woman',\n",
       " 'old_latino_woman': 'a photo of an old latino woman',\n",
       " 'middle-aged_latino_woman': 'a photo of a middle-aged latino woman',\n",
       " 'indian_woman': 'a photo of an indian woman',\n",
       " 'young_indian_woman': 'a photo of a young indian woman',\n",
       " 'old_indian_woman': 'a photo of an old indian woman',\n",
       " 'middle-aged_indian_woman': 'a photo of a middle-aged indian woman',\n",
       " 'asian_woman': 'a photo of an asian woman',\n",
       " 'young_asian_woman': 'a photo of a young asian woman',\n",
       " 'old_asian_woman': 'a photo of an old asian woman',\n",
       " 'middle-aged_asian_woman': 'a photo of a middle-aged asian woman',\n",
       " 'arabic_woman': 'a photo of an arabic woman',\n",
       " 'young_arabic_woman': 'a photo of a young arabic woman',\n",
       " 'old_arabic_woman': 'a photo of an old arabic woman',\n",
       " 'middle-aged_arabic_woman': 'a photo of a middle-aged arabic woman',\n",
       " 'young_woman': 'a photo of a young woman',\n",
       " 'old_woman': 'a photo of an old woman',\n",
       " 'middle-aged_woman': 'a photo of a middle-aged woman'}"
      ]
     },
     "execution_count": 13,
     "metadata": {},
     "output_type": "execute_result"
    }
   ],
   "source": [
    "arg_d"
   ]
  },
  {
   "cell_type": "code",
   "execution_count": 14,
   "metadata": {},
   "outputs": [],
   "source": [
    "with open('caption_rad.json', 'w', encoding='utf-8') as f:\n",
    "    json.dump(arg_d, f, ensure_ascii=False, indent=4)"
   ]
  },
  {
   "cell_type": "markdown",
   "metadata": {},
   "source": [
    "## TODO\n",
    "\n",
    "- botar soh os combo sem os sinonimos em um json e criar os embeddings (foi)\n",
    "- filtrar os sinonimos dos combos e achar como visualizar melhor eles pra decidir como filtrar"
   ]
  },
  {
   "cell_type": "markdown",
   "metadata": {},
   "source": []
  }
 ],
 "metadata": {
  "kernelspec": {
   "display_name": "clipenv",
   "language": "python",
   "name": "python3"
  },
  "language_info": {
   "codemirror_mode": {
    "name": "ipython",
    "version": 3
   },
   "file_extension": ".py",
   "mimetype": "text/x-python",
   "name": "python",
   "nbconvert_exporter": "python",
   "pygments_lexer": "ipython3",
   "version": "3.8.18"
  }
 },
 "nbformat": 4,
 "nbformat_minor": 2
}

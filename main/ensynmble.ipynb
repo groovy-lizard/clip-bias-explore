{
 "cells": [
  {
   "cell_type": "markdown",
   "metadata": {},
   "source": [
    "# Synthetic Caption Structure\n",
    "\n",
    "Each component should have a list of synonyms, a list of combinations should be generated.\n",
    "\n",
    "## Caption Structure:\n",
    "\n",
    "(age) (race) (gender)\n",
    "\n",
    "**Age**:\n",
    "\n",
    "- Old\n",
    "- Young\n",
    "- Middle-aged\n",
    "\n",
    "**Race**:\n",
    "\n",
    "- White\n",
    "- Black\n",
    "- Asian\n",
    "- Latino_Hispanic\n",
    "- Indian\n",
    "- East Asian\n",
    "- Southeast Asian\n",
    "- Middle Eastern\n",
    "\n",
    "**Gender**:\n",
    "\n",
    "- Man\n",
    "- Woman\n",
    "\n"
   ]
  },
  {
   "cell_type": "code",
   "execution_count": 20,
   "metadata": {},
   "outputs": [],
   "source": [
    "from nltk.corpus import wordnet as wn\n",
    "import json"
   ]
  },
  {
   "cell_type": "code",
   "execution_count": 2,
   "metadata": {},
   "outputs": [],
   "source": [
    "def get_synonyms(word):\n",
    "    synonyms = set()\n",
    "    for syn in wn.synsets(word):\n",
    "        for l in syn.lemmas():\n",
    "            synonyms.add(l.name())\n",
    "        for hyp in syn.hyponyms():\n",
    "            for l in hyp.lemmas():\n",
    "                synonyms.add(l.name())\n",
    "    return synonyms"
   ]
  },
  {
   "cell_type": "code",
   "execution_count": 22,
   "metadata": {},
   "outputs": [],
   "source": [
    "def arg_combiner(a_list, r_list, g_list):\n",
    "    \"\"\"Combine the elements of a,r,g lists containing\n",
    "    ages, races and genders, respectively.\"\"\"\n",
    "    final_set = set()\n",
    "\n",
    "    for age in a_list:\n",
    "        for race in r_list:\n",
    "            for gender in g_list:\n",
    "                final_set.add(gender)\n",
    "                final_set.add(f\"{age}_{gender}\")\n",
    "                final_set.add(f\"{race}_{gender}\")\n",
    "                final_set.add(f\"{age}_{race}_{gender}\")\n",
    "    \n",
    "    return final_set"
   ]
  },
  {
   "cell_type": "code",
   "execution_count": 16,
   "metadata": {},
   "outputs": [],
   "source": [
    "age_list = ['young', 'old', 'middle-aged']\n",
    "race_list = ['black', 'white', 'hispanic', 'latino', 'indian', 'asian', 'arabic']\n",
    "gender_list = ['man', 'woman']"
   ]
  },
  {
   "cell_type": "code",
   "execution_count": 17,
   "metadata": {},
   "outputs": [],
   "source": [
    "arg_set = arg_combiner(a_list=age_list, r_list=race_list, g_list=gender_list)"
   ]
  },
  {
   "cell_type": "code",
   "execution_count": 18,
   "metadata": {},
   "outputs": [],
   "source": [
    "arg_dict = {}\n",
    "\n",
    "for word in arg_set:\n",
    "    word_set = get_synonyms(word)\n",
    "    if len(word_set):\n",
    "        arg_dict[word] = word_set\n",
    "    else:\n",
    "        arg_dict[word] = word"
   ]
  },
  {
   "cell_type": "markdown",
   "metadata": {},
   "source": [
    "## TODO\n",
    "\n",
    "- botar soh os combo sem os sinonimos em um json e criar os embeddings\n",
    "- filtrar os sinonimos dos combos e achar como visualizar melhor eles pra decidir como filtrar"
   ]
  }
 ],
 "metadata": {
  "kernelspec": {
   "display_name": "clipenv",
   "language": "python",
   "name": "python3"
  },
  "language_info": {
   "codemirror_mode": {
    "name": "ipython",
    "version": 3
   },
   "file_extension": ".py",
   "mimetype": "text/x-python",
   "name": "python",
   "nbconvert_exporter": "python",
   "pygments_lexer": "ipython3",
   "version": "3.8.18"
  }
 },
 "nbformat": 4,
 "nbformat_minor": 2
}

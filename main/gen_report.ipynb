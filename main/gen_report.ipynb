{
 "cells": [
  {
   "cell_type": "code",
   "execution_count": 1,
   "metadata": {},
   "outputs": [],
   "source": [
    "import pandas as pd"
   ]
  },
  {
   "cell_type": "code",
   "execution_count": 13,
   "metadata": {},
   "outputs": [],
   "source": [
    "ROOT = \"/home/lazye/Documents/ufrgs/mcs/clip/clip-bias-explore/\\\n",
    "fair-face-classification\"\n",
    "RESULTS_PATH = ROOT + \"/data/results\"\n",
    "\n",
    "# original paper preds df with race_gender preds\n",
    "opd_df = pd.read_csv(RESULTS_PATH+\"/original_paper_preds.csv\")\n",
    "\n",
    "# top synm preds df\n",
    "topk_df = pd.read_csv(RESULTS_PATH+\"/top_k_synms.csv\")\n",
    "\n",
    "# avg sum synm preds df\n",
    "avg_df = pd.read_csv(RESULTS_PATH+\"/avg_sum_synms.csv\") \n"
   ]
  },
  {
   "cell_type": "markdown",
   "metadata": {},
   "source": [
    "## Original CLIP Paper Predictions Analysis"
   ]
  },
  {
   "cell_type": "code",
   "execution_count": 14,
   "metadata": {},
   "outputs": [
    {
     "name": "stdout",
     "output_type": "stream",
     "text": [
      "        file  age gender        race          gender_preds\n",
      "0  val/1.jpg  3-9   Male  East Asian  Southeast Asian_Male\n",
      "\n",
      "transforming gender_preds to binary classes...\n",
      "\n",
      "        file  age gender        race gender_preds\n",
      "0  val/1.jpg  3-9   Male  East Asian         Male\n"
     ]
    }
   ],
   "source": [
    "opd_df.drop(columns=['service_test'], inplace=True)\n",
    "print(opd_df.head(1))\n",
    "print('\\ntransforming gender_preds to binary classes...\\n')\n",
    "opd_df['gender_preds'] = opd_df['gender_preds'].map(lambda x: x.split('_')[-1])\n",
    "print(opd_df.head(1))\n"
   ]
  },
  {
   "cell_type": "code",
   "execution_count": 16,
   "metadata": {},
   "outputs": [
    {
     "name": "stdout",
     "output_type": "stream",
     "text": [
      "Validation set info:\n",
      "\n",
      "race\n",
      "White              19.0%\n",
      "Latino_Hispanic    14.8%\n",
      "Black              14.2%\n",
      "East Asian         14.2%\n",
      "Indian             13.8%\n",
      "Southeast Asian    12.9%\n",
      "Middle Eastern     11.0%\n",
      "Name: proportion, dtype: object\n"
     ]
    }
   ],
   "source": [
    "print(\"Validation set info:\\n\")\n",
    "print(opd_df.race.value_counts(\n",
    "    normalize=True).mul(100).round(1).astype(str) + '%')\n"
   ]
  },
  {
   "cell_type": "code",
   "execution_count": 26,
   "metadata": {},
   "outputs": [
    {
     "name": "stdout",
     "output_type": "stream",
     "text": [
      "Race info\n",
      "                 race_count race_percent\n",
      "race                                    \n",
      "White                  2085        19.0%\n",
      "Latino_Hispanic        1623        14.8%\n",
      "Black                  1556        14.2%\n",
      "East Asian             1550        14.2%\n",
      "Indian                 1516        13.8%\n",
      "\n",
      "Gender info\n",
      "        gender_count gender_percent\n",
      "gender                             \n",
      "Male            5792          52.9%\n",
      "Female          5162          47.1%\n"
     ]
    }
   ],
   "source": [
    "race_count = opd_df.race.value_counts()\n",
    "race_percent = opd_df.race.value_counts(normalize=True).mul(100).round(1).astype(str) + '%'\n",
    "gender_count = opd_df.gender.value_counts()\n",
    "gender_percent = opd_df.gender.value_counts(normalize=True).mul(100).round(1).astype(str) + '%'\n",
    "\n",
    "val_info_race = {\"race_count\": race_count,\n",
    "                 \"race_percent\": race_percent}\n",
    "\n",
    "val_info_race_df = pd.DataFrame(val_info_race)\n",
    "print(\"Race info\")\n",
    "print(val_info_race_df.head())\n",
    "\n",
    "val_info_gender = {\"gender_count\": gender_count,\n",
    "                   \"gender_percent\": gender_percent}\n",
    "\n",
    "val_info_gender_df = pd.DataFrame(val_info_gender)\n",
    "print(\"\\nGender info\")\n",
    "print(val_info_gender_df.head())\n"
   ]
  },
  {
   "cell_type": "code",
   "execution_count": null,
   "metadata": {},
   "outputs": [],
   "source": []
  }
 ],
 "metadata": {
  "kernelspec": {
   "display_name": "clipenv",
   "language": "python",
   "name": "python3"
  },
  "language_info": {
   "codemirror_mode": {
    "name": "ipython",
    "version": 3
   },
   "file_extension": ".py",
   "mimetype": "text/x-python",
   "name": "python",
   "nbconvert_exporter": "python",
   "pygments_lexer": "ipython3",
   "version": "3.8.18"
  }
 },
 "nbformat": 4,
 "nbformat_minor": 2
}

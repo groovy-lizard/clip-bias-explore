{
 "cells": [
  {
   "cell_type": "markdown",
   "metadata": {},
   "source": [
    "# Evaluate Gender Synonyms"
   ]
  },
  {
   "cell_type": "markdown",
   "metadata": {},
   "source": [
    "## Imports"
   ]
  },
  {
   "cell_type": "code",
   "execution_count": 1,
   "metadata": {},
   "outputs": [],
   "source": [
    "import torch\n",
    "import clip\n",
    "import numpy as np\n",
    "import pandas as pd\n",
    "import json"
   ]
  },
  {
   "cell_type": "markdown",
   "metadata": {},
   "source": [
    "## Aux Classes"
   ]
  },
  {
   "cell_type": "code",
   "execution_count": 19,
   "metadata": {},
   "outputs": [],
   "source": [
    "def model_setup(model):\n",
    "    \"\"\"Initial loading of CLIP model.\"\"\"\n",
    "\n",
    "    available_models = clip.available_models()\n",
    "\n",
    "    if model in available_models:\n",
    "        print(f'Loading model: {model}')\n",
    "        chosen_model = model\n",
    "    else:\n",
    "        print(f'{model} unavailable! Using default model: ViT-L/14@336px')\n",
    "        chosen_model = available_models[0]\n",
    "\n",
    "    device = 'cuda' if torch.cuda.is_available() else 'cpu'\n",
    "\n",
    "    model, pps = clip.load(chosen_model, device=device, jit=False)\n",
    "\n",
    "    print(f'Done! Model loaded to {device} device')\n",
    "    return model, pps\n",
    "\n",
    "\n",
    "def get_similarities(img, txts):\n",
    "    \"\"\"Grab similarity between text and image embeddings.\"\"\"\n",
    "    image_features = torch.from_numpy(img).to('cuda')\n",
    "    similarity = 100.0 * image_features @ txts.T\n",
    "\n",
    "    return similarity\n",
    "\n",
    "\n",
    "def get_sims_dict(img_embs, txt_prompts, txt_embs):\n",
    "    \"\"\"Generate dictionary with filename and similarities\n",
    "    scores between text prompts\"\"\"\n",
    "    final_dict = {}\n",
    "    for _, emb in img_embs.iterrows():\n",
    "        name = emb['file']\n",
    "        img_features = emb['embeddings']\n",
    "        img_sims = get_similarities(img_features, txt_embs)\n",
    "        sims_dict = {}\n",
    "        for label, score in zip(txt_prompts, img_sims[0]):\n",
    "            sims_dict[label] = score.cpu().numpy().item()\n",
    "        final_dict[name] = sims_dict\n",
    "    return final_dict\n",
    "\n",
    "\n",
    "def get_top_synm(final_dict):\n",
    "    \"\"\"Grab most similar synonym\"\"\"\n",
    "    files = final_dict.keys()\n",
    "    wins = []\n",
    "    for val in final_dict.values():\n",
    "        scores_list = list(val.values())\n",
    "        label_list = list(val.keys())\n",
    "        np_scores = np.asarray(scores_list)\n",
    "        windex = np.where(np_scores == np_scores.max())[0][0]\n",
    "        wins.append(label_list[windex])\n",
    "\n",
    "    top_synm_dict = {'file': files, 'winner': wins}\n",
    "    return top_synm_dict\n",
    "\n",
    "\n",
    "def get_sum_synms(final_dict, man_prompts):\n",
    "    \"\"\"Ensemble over avg sum of similarities\n",
    "    between male and female synms\"\"\"\n",
    "    files = final_dict.keys()\n",
    "    preds = []\n",
    "\n",
    "    for key, val in final_dict.items():\n",
    "        man_score = 0\n",
    "        woman_score = 0\n",
    "        for k, v in val.items():\n",
    "            if k in man_prompts:\n",
    "                man_score += v\n",
    "            else:\n",
    "                woman_score += v\n",
    "        preds.append('Male' if man_score > woman_score else 'Female')\n",
    "\n",
    "    sum_dict = {'file': files, 'preds': preds}\n",
    "    return sum_dict\n",
    "\n",
    "\n",
    "def synm_to_gender(synm, man_prompts):\n",
    "    \"\"\"Mapper function to eval between Male and Female\n",
    "    synonyms\"\"\"\n",
    "    if synm in man_prompts:\n",
    "        return 'Male'\n",
    "    else:\n",
    "        return 'Female'\n",
    "\n",
    "\n",
    "def generate_final_df(fface_df, score_df):\n",
    "    \"\"\"Join the winning class df with the original df\"\"\"\n",
    "    new_df = fface_df.set_index(\n",
    "        'file').join(score_df.set_index('file'))\n",
    "    return new_df\n",
    "\n",
    "\n",
    "def map_synm_to_gender(df, man_prompts):\n",
    "    \"\"\"Use sub-set of man synms to evaluate and map\n",
    "    synms to Male or Female\"\"\"\n",
    "    new_df = df.copy()\n",
    "    new_df['winner'] = df['winner'].map(lambda x: synm_to_gender(x, man_prompts))\n",
    "    return new_df\n"
   ]
  },
  {
   "cell_type": "markdown",
   "metadata": {},
   "source": [
    "## Load Variables"
   ]
  },
  {
   "cell_type": "code",
   "execution_count": 3,
   "metadata": {},
   "outputs": [
    {
     "name": "stdout",
     "output_type": "stream",
     "text": [
      "Loading model: ViT-B/16\n",
      "Done! Model loaded to cuda device\n"
     ]
    }
   ],
   "source": [
    "ROOT = \"/home/lazye/Documents/ufrgs/mcs/clip/clip-bias-explore/\\\n",
    "fair-face-classification\"\n",
    "LABELS_PATH = ROOT + \"/data/labels\"\n",
    "EMBS_PATH = ROOT + \"/data/embeddings\"\n",
    "\n",
    "fface_df = pd.read_csv(ROOT+\"/data/fface_val.csv\")\n",
    "vit_model = model_setup('ViT-B/16')\n",
    "img_embs = pd.read_pickle(EMBS_PATH+\"/fface_val_img_embs.pkl\")\n",
    "txt_embs = torch.load(EMBS_PATH+\"/synms_labels.pt\")\n",
    "\n",
    "with open(LABELS_PATH+\"/bots_synms_prompts.json\") as f:\n",
    "    data = json.load(f)\n",
    "\n",
    "prompt_list = list(data.values())\n",
    "man_prompts = prompt_list[:10]\n",
    "woman_prompts = prompt_list[10:]"
   ]
  },
  {
   "cell_type": "code",
   "execution_count": null,
   "metadata": {},
   "outputs": [],
   "source": [
    "sims_dict = get_sims_dict(img_embs, prompt_list, txt_embs)"
   ]
  },
  {
   "cell_type": "code",
   "execution_count": 32,
   "metadata": {},
   "outputs": [
    {
     "name": "stdout",
     "output_type": "stream",
     "text": [
      "Prompt sum predictions\n",
      "        file   preds\n",
      "0  val/1.jpg    Male\n",
      "1  val/2.jpg  Female\n",
      "2  val/3.jpg    Male\n",
      "3  val/4.jpg  Female\n",
      "4  val/5.jpg    Male\n",
      "\n",
      "Final prompt sum df\n",
      "             age  gender             race gender_preds\n",
      "file                                                  \n",
      "val/1.jpg    3-9    Male       East Asian         Male\n",
      "val/2.jpg  50-59  Female       East Asian       Female\n",
      "val/3.jpg  30-39    Male            White         Male\n",
      "val/4.jpg  20-29  Female  Latino_Hispanic       Female\n",
      "val/5.jpg  20-29    Male  Southeast Asian         Male\n"
     ]
    }
   ],
   "source": [
    "sum_dict = get_sum_synms(sims_dict, man_prompts)\n",
    "sum_df = pd.DataFrame(data=sum_dict)\n",
    "print(\"Prompt sum predictions\")\n",
    "print(sum_df.head())\n",
    "\n",
    "final_sum_df = generate_final_df(fface_df, sum_df)\n",
    "final_sum_df.rename(columns={'preds': 'gender_preds'}, inplace=True)\n",
    "final_sum_df.drop(columns=['service_test'], inplace=True)\n",
    "print(\"\\nFinal prompt sum df\")\n",
    "print(final_sum_df.head())\n",
    "final_sum_df.to_csv(\"avg_sum_synms.csv\")"
   ]
  },
  {
   "cell_type": "code",
   "execution_count": 29,
   "metadata": {},
   "outputs": [
    {
     "name": "stdout",
     "output_type": "stream",
     "text": [
      "Top[k] predictions\n",
      "        file                        winner\n",
      "0  val/1.jpg              a photo of a boy\n",
      "1  val/2.jpg       a photo of an old woman\n",
      "2  val/3.jpg  a photo of a middle-aged man\n",
      "3  val/4.jpg    a photo of a female person\n",
      "4  val/5.jpg      a photo of a male person\n",
      "\n",
      " Top[k] final df\n",
      "             age  gender             race gender_preds\n",
      "file                                                  \n",
      "val/1.jpg    3-9    Male       East Asian         Male\n",
      "val/2.jpg  50-59  Female       East Asian       Female\n",
      "val/3.jpg  30-39    Male            White         Male\n",
      "val/4.jpg  20-29  Female  Latino_Hispanic       Female\n",
      "val/5.jpg  20-29    Male  Southeast Asian         Male\n"
     ]
    }
   ],
   "source": [
    "top_dict = get_top_synm(final_dict=sims_dict)\n",
    "top_df = pd.DataFrame(data=top_dict)\n",
    "print(\"Top[k] predictions\")\n",
    "print(top_df.head())\n",
    "\n",
    "bin_top_df = map_synm_to_gender(top_df, man_prompts)\n",
    "final_top_df = generate_final_df(fface_df, bin_top_df)\n",
    "final_top_df.rename(\n",
    "    columns={'winner': 'gender_preds'}, inplace=True)\n",
    "final_top_df.drop(columns=['service_test'], inplace=True)\n",
    "print(\"\\n Top[k] final df\")\n",
    "print(final_top_df.head())\n",
    "final_top_df.to_csv('top_k_synms.csv')\n"
   ]
  }
 ],
 "metadata": {
  "kernelspec": {
   "display_name": "clipenv",
   "language": "python",
   "name": "python3"
  },
  "language_info": {
   "codemirror_mode": {
    "name": "ipython",
    "version": 3
   },
   "file_extension": ".py",
   "mimetype": "text/x-python",
   "name": "python",
   "nbconvert_exporter": "python",
   "pygments_lexer": "ipython3",
   "version": "3.8.18"
  }
 },
 "nbformat": 4,
 "nbformat_minor": 2
}

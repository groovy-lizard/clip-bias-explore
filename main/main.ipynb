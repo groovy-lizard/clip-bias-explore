{
 "cells": [
  {
   "cell_type": "code",
   "execution_count": 16,
   "metadata": {},
   "outputs": [],
   "source": [
    "import torch\n",
    "import clip\n",
    "import numpy as np\n",
    "import pandas as pd\n",
    "import json"
   ]
  },
  {
   "cell_type": "code",
   "execution_count": 38,
   "metadata": {},
   "outputs": [],
   "source": [
    "def model_setup(model):\n",
    "    \"\"\"Initial loading of CLIP model.\"\"\"\n",
    "\n",
    "    available_models = clip.available_models()\n",
    "\n",
    "    if model in available_models:\n",
    "        print(f'Loading model: {model}')\n",
    "        chosen_model = model\n",
    "    else:\n",
    "        print(f'{model} unavailable! Using default model: ViT-L/14@336px')\n",
    "        chosen_model = available_models[0]\n",
    "\n",
    "    device = 'cuda' if torch.cuda.is_available() else 'cpu'\n",
    "\n",
    "    model, pps = clip.load(chosen_model, device=device, jit=False)\n",
    "\n",
    "    print(f'Done! Model loaded to {device} device')\n",
    "    return model, pps\n",
    "\n",
    "\n",
    "def get_similarities(img, txts):\n",
    "    \"\"\"Grab similarity between text and image embeddings.\"\"\"\n",
    "    image_features = torch.from_numpy(img).to('cuda')\n",
    "    similarity = 100.0 * image_features @ txts.T\n",
    "\n",
    "    return similarity\n",
    "\n",
    "\n",
    "def get_sims_dict(img_embs, txt_prompts, txt_embs):\n",
    "    final_dict = {}\n",
    "    for _, emb in img_embs.iterrows():\n",
    "        name = emb['file']\n",
    "        img_features = emb['embeddings']\n",
    "        img_sims = get_similarities(img_features, txt_embs)\n",
    "        sims_dict = {}\n",
    "        for label, score in zip(txt_prompts, img_sims[0]):\n",
    "            sims_dict[label] = score.cpu().numpy().item()\n",
    "        final_dict[name] = sims_dict\n",
    "    return final_dict\n",
    "\n",
    "\n",
    "def get_top_synm(final_dict):\n",
    "    files = final_dict.keys()\n",
    "    wins = []\n",
    "    for val in final_dict.values():\n",
    "        scores_list = list(val.values())\n",
    "        label_list = list(val.keys())\n",
    "        np_scores = np.asarray(scores_list)\n",
    "        windex = np.where(np_scores == np_scores.max())[0][0]\n",
    "        wins.append(label_list[windex])\n",
    "\n",
    "    top_synm_dict = {'file': files, 'winner': wins}\n",
    "    return top_synm_dict\n",
    "\n",
    "\n",
    "def get_sum_synms(final_dict, man_prompts):\n",
    "    files = final_dict.keys()\n",
    "    preds = []\n",
    "\n",
    "    for key, val in final_dict.items():\n",
    "        man_score = 0\n",
    "        woman_score = 0\n",
    "        for k, v in val.items():\n",
    "            if k in man_prompts:\n",
    "                man_score += v\n",
    "            else:\n",
    "                woman_score += v\n",
    "        preds.append(f'Male' if man_score > woman_score else f'Female')\n",
    "\n",
    "    sum_dict = {'file': files, 'preds': preds}\n",
    "    return (sum_dict)\n",
    "\n",
    "\n",
    "def synm_to_gender(synm, man_prompts):\n",
    "    if synm in man_prompts:\n",
    "        return 'Male'\n",
    "    else:\n",
    "        return 'Female'\n",
    "    "
   ]
  },
  {
   "cell_type": "code",
   "execution_count": 72,
   "metadata": {},
   "outputs": [
    {
     "name": "stdout",
     "output_type": "stream",
     "text": [
      "Loading model: ViT-B/16\n",
      "Done! Model loaded to cuda device\n"
     ]
    }
   ],
   "source": [
    "ROOT = \"/home/lazye/Documents/ufrgs/mcs/clip/clip-bias-explore/\\\n",
    "fair-face-classification\"\n",
    "LABELS_PATH = ROOT + \"/data/labels\"\n",
    "EMBS_PATH = ROOT + \"/data/embeddings\"\n",
    "\n",
    "fface_df = pd.read_csv(ROOT+\"/data/fface_val.csv\")\n",
    "vit_model = model_setup('ViT-B/16')\n",
    "img_embs = pd.read_pickle(EMBS_PATH+\"/fface_val_img_embs.pkl\")\n",
    "txt_embs = torch.load(EMBS_PATH+\"/synms_labels.pt\")\n",
    "\n",
    "with open(LABELS_PATH+\"/bots_synms_prompts.json\") as f:\n",
    "    data = json.load(f)\n",
    "\n",
    "prompt_list = list(data.values())\n",
    "man_prompts = prompt_list[:10]\n",
    "woman_prompts = prompt_list[10:]"
   ]
  },
  {
   "cell_type": "code",
   "execution_count": 73,
   "metadata": {},
   "outputs": [],
   "source": [
    "sims_dict = get_sims_dict(img_embs, prompt_list, txt_embs)"
   ]
  },
  {
   "cell_type": "code",
   "execution_count": 77,
   "metadata": {},
   "outputs": [
    {
     "name": "stdout",
     "output_type": "stream",
     "text": [
      "        file   preds\n",
      "0  val/1.jpg    Male\n",
      "1  val/2.jpg  Female\n",
      "2  val/3.jpg    Male\n",
      "3  val/4.jpg  Female\n",
      "4  val/5.jpg    Male\n"
     ]
    }
   ],
   "source": [
    "sum_dict = get_sum_synms(sims_dict, man_prompts)\n",
    "sum_df = pd.DataFrame(data=sum_dict)\n",
    "print(sum_df.head())"
   ]
  },
  {
   "cell_type": "code",
   "execution_count": 78,
   "metadata": {},
   "outputs": [
    {
     "name": "stdout",
     "output_type": "stream",
     "text": [
      "        file                        winner\n",
      "0  val/1.jpg              a photo of a boy\n",
      "1  val/2.jpg       a photo of an old woman\n",
      "2  val/3.jpg  a photo of a middle-aged man\n",
      "3  val/4.jpg    a photo of a female person\n",
      "4  val/5.jpg      a photo of a male person\n"
     ]
    }
   ],
   "source": [
    "top_dict = get_top_synm(final_dict=sims_dict)\n",
    "top_df = pd.DataFrame(data=top_dict)\n",
    "print(top_df.head())"
   ]
  },
  {
   "cell_type": "code",
   "execution_count": null,
   "metadata": {},
   "outputs": [],
   "source": []
  }
 ],
 "metadata": {
  "kernelspec": {
   "display_name": "clipenv",
   "language": "python",
   "name": "python3"
  },
  "language_info": {
   "codemirror_mode": {
    "name": "ipython",
    "version": 3
   },
   "file_extension": ".py",
   "mimetype": "text/x-python",
   "name": "python",
   "nbconvert_exporter": "python",
   "pygments_lexer": "ipython3",
   "version": "3.8.18"
  }
 },
 "nbformat": 4,
 "nbformat_minor": 2
}

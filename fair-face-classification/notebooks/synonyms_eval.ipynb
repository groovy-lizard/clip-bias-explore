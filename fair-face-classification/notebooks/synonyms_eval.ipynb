{
 "cells": [
  {
   "cell_type": "code",
   "execution_count": 1,
   "metadata": {},
   "outputs": [],
   "source": [
    "import torch\n",
    "import clip\n",
    "import pandas as pd\n",
    "import numpy as np\n",
    "import json"
   ]
  },
  {
   "cell_type": "code",
   "execution_count": 2,
   "metadata": {},
   "outputs": [
    {
     "name": "stdout",
     "output_type": "stream",
     "text": [
      "['RN50', 'RN101', 'RN50x4', 'RN50x16', 'RN50x64', 'ViT-B/32', 'ViT-B/16', 'ViT-L/14', 'ViT-L/14@336px']\n"
     ]
    }
   ],
   "source": [
    "available_models = clip.available_models()\n",
    "print(available_models)"
   ]
  },
  {
   "cell_type": "code",
   "execution_count": 3,
   "metadata": {},
   "outputs": [
    {
     "name": "stdout",
     "output_type": "stream",
     "text": [
      "\n",
      "Loading model...\n",
      "Done! Model ViT-B/16 loaded to cuda device\n"
     ]
    }
   ],
   "source": [
    "print('\\nLoading model...')\n",
    "\n",
    "clip_model = 'ViT-B/16'\n",
    "\n",
    "device = \"cuda\" if torch.cuda.is_available() else \"cpu\"\n",
    "model, preprocess = clip.load(clip_model, device=device, jit=False)\n",
    "print(f\"Done! Model {clip_model} loaded to {device} device\")"
   ]
  },
  {
   "cell_type": "code",
   "execution_count": 4,
   "metadata": {},
   "outputs": [],
   "source": [
    "img_embs = pd.read_pickle('../data/fface_val_img_embs.pkl')\n",
    "\n",
    "txt_embs = torch.load('../data/synms-gender-labels.pt')\n",
    "\n",
    "with open('../data/synms_gender_labels.json', encoding='utf-8') as json_data:\n",
    "    data = json.load(json_data)\n",
    "    fface_classes = list(data.keys())\n",
    "    prompts = list(data.values())\n",
    "    fface_prompts = prompts[0] + prompts[1]\n",
    "\n",
    "fface_df = pd.read_csv('../data/fface_val.csv')"
   ]
  },
  {
   "cell_type": "code",
   "execution_count": 5,
   "metadata": {},
   "outputs": [],
   "source": [
    "def get_similarities(img, txts):\n",
    "    \"\"\"Grab similarity between text and image embeddings.\"\"\"\n",
    "    image_features = torch.from_numpy(img).to('cuda')\n",
    "    similarity = 100.0 * image_features @ txts.T\n",
    "\n",
    "    return similarity"
   ]
  },
  {
   "cell_type": "code",
   "execution_count": 6,
   "metadata": {},
   "outputs": [
    {
     "data": {
      "text/html": [
       "<div>\n",
       "<style scoped>\n",
       "    .dataframe tbody tr th:only-of-type {\n",
       "        vertical-align: middle;\n",
       "    }\n",
       "\n",
       "    .dataframe tbody tr th {\n",
       "        vertical-align: top;\n",
       "    }\n",
       "\n",
       "    .dataframe thead th {\n",
       "        text-align: right;\n",
       "    }\n",
       "</style>\n",
       "<table border=\"1\" class=\"dataframe\">\n",
       "  <thead>\n",
       "    <tr style=\"text-align: right;\">\n",
       "      <th></th>\n",
       "      <th>file</th>\n",
       "      <th>age</th>\n",
       "      <th>gender</th>\n",
       "      <th>race</th>\n",
       "    </tr>\n",
       "  </thead>\n",
       "  <tbody>\n",
       "    <tr>\n",
       "      <th>0</th>\n",
       "      <td>val/1.jpg</td>\n",
       "      <td>3-9</td>\n",
       "      <td>Male</td>\n",
       "      <td>East Asian</td>\n",
       "    </tr>\n",
       "    <tr>\n",
       "      <th>1</th>\n",
       "      <td>val/2.jpg</td>\n",
       "      <td>50-59</td>\n",
       "      <td>Female</td>\n",
       "      <td>East Asian</td>\n",
       "    </tr>\n",
       "    <tr>\n",
       "      <th>2</th>\n",
       "      <td>val/3.jpg</td>\n",
       "      <td>30-39</td>\n",
       "      <td>Male</td>\n",
       "      <td>White</td>\n",
       "    </tr>\n",
       "    <tr>\n",
       "      <th>3</th>\n",
       "      <td>val/4.jpg</td>\n",
       "      <td>20-29</td>\n",
       "      <td>Female</td>\n",
       "      <td>Latino_Hispanic</td>\n",
       "    </tr>\n",
       "    <tr>\n",
       "      <th>4</th>\n",
       "      <td>val/5.jpg</td>\n",
       "      <td>20-29</td>\n",
       "      <td>Male</td>\n",
       "      <td>Southeast Asian</td>\n",
       "    </tr>\n",
       "  </tbody>\n",
       "</table>\n",
       "</div>"
      ],
      "text/plain": [
       "        file    age  gender             race\n",
       "0  val/1.jpg    3-9    Male       East Asian\n",
       "1  val/2.jpg  50-59  Female       East Asian\n",
       "2  val/3.jpg  30-39    Male            White\n",
       "3  val/4.jpg  20-29  Female  Latino_Hispanic\n",
       "4  val/5.jpg  20-29    Male  Southeast Asian"
      ]
     },
     "execution_count": 6,
     "metadata": {},
     "output_type": "execute_result"
    }
   ],
   "source": [
    "fface_df.drop(columns=['service_test'], inplace=True)\n",
    "fface_df.head()"
   ]
  },
  {
   "cell_type": "code",
   "execution_count": 7,
   "metadata": {},
   "outputs": [],
   "source": [
    "single_img_emb = img_embs.iloc[0]['embeddings']\n",
    "single_img_sims = get_similarities(single_img_emb, txt_embs)"
   ]
  },
  {
   "cell_type": "code",
   "execution_count": 8,
   "metadata": {},
   "outputs": [
    {
     "data": {
      "text/plain": [
       "tensor([[24.6875, 18.7656, 21.6719, 22.2500, 24.4375, 25.9688, 23.2969, 22.4688,\n",
       "         22.8906, 22.3125, 19.5938, 16.0938, 17.7656, 20.6406, 19.7344, 22.2656,\n",
       "         21.2344, 21.4531, 21.6719, 21.3594]], device='cuda:0',\n",
       "       dtype=torch.float16)"
      ]
     },
     "execution_count": 8,
     "metadata": {},
     "output_type": "execute_result"
    }
   ],
   "source": [
    "single_img_sims"
   ]
  },
  {
   "cell_type": "code",
   "execution_count": 9,
   "metadata": {},
   "outputs": [],
   "source": [
    "sims_dict = {}\n",
    "final_dict = {}\n",
    "for label, score in zip(fface_prompts, single_img_sims[0]):\n",
    "    sims_dict[label] = score.cpu().numpy().item()\n",
    "final_dict[img_embs.iloc[0]['file']] = sims_dict"
   ]
  },
  {
   "cell_type": "code",
   "execution_count": 10,
   "metadata": {},
   "outputs": [
    {
     "data": {
      "text/plain": [
       "{'val/1.jpg': {'young man': 24.6875,\n",
       "  'adult male': 18.765625,\n",
       "  'male': 21.671875,\n",
       "  'man': 22.25,\n",
       "  'guy': 24.4375,\n",
       "  'boy': 25.96875,\n",
       "  'middle-aged man': 23.296875,\n",
       "  'old man': 22.46875,\n",
       "  'grandfather': 22.890625,\n",
       "  'grandpa': 22.3125,\n",
       "  'young woman': 19.59375,\n",
       "  'adult female': 16.09375,\n",
       "  'female': 17.765625,\n",
       "  'woman': 20.640625,\n",
       "  'lady': 19.734375,\n",
       "  'girl': 22.265625,\n",
       "  'madam': 21.234375,\n",
       "  'old woman': 21.453125,\n",
       "  'grandmother': 21.671875,\n",
       "  'grandma': 21.359375}}"
      ]
     },
     "execution_count": 10,
     "metadata": {},
     "output_type": "execute_result"
    }
   ],
   "source": [
    "final_dict"
   ]
  },
  {
   "cell_type": "code",
   "execution_count": 11,
   "metadata": {},
   "outputs": [],
   "source": [
    "final_dict = {}\n",
    "for idx, emb in img_embs.iterrows():\n",
    "    name = emb['file']\n",
    "    img_features = emb['embeddings']\n",
    "    img_sims = get_similarities(img_features, txt_embs)\n",
    "    sims_dict = {}\n",
    "    for label, score in zip(fface_prompts, single_img_sims[0]):\n",
    "        sims_dict[label] = score.cpu().numpy().item()\n",
    "    final_dict[name] = sims_dict"
   ]
  },
  {
   "cell_type": "code",
   "execution_count": 17,
   "metadata": {},
   "outputs": [],
   "source": [
    "sims_df = pd.DataFrame(data=final_dict)"
   ]
  },
  {
   "cell_type": "code",
   "execution_count": 18,
   "metadata": {},
   "outputs": [
    {
     "data": {
      "text/html": [
       "<div>\n",
       "<style scoped>\n",
       "    .dataframe tbody tr th:only-of-type {\n",
       "        vertical-align: middle;\n",
       "    }\n",
       "\n",
       "    .dataframe tbody tr th {\n",
       "        vertical-align: top;\n",
       "    }\n",
       "\n",
       "    .dataframe thead th {\n",
       "        text-align: right;\n",
       "    }\n",
       "</style>\n",
       "<table border=\"1\" class=\"dataframe\">\n",
       "  <thead>\n",
       "    <tr style=\"text-align: right;\">\n",
       "      <th></th>\n",
       "      <th>val/1.jpg</th>\n",
       "      <th>val/2.jpg</th>\n",
       "      <th>val/3.jpg</th>\n",
       "      <th>val/4.jpg</th>\n",
       "      <th>val/5.jpg</th>\n",
       "      <th>val/6.jpg</th>\n",
       "      <th>val/7.jpg</th>\n",
       "      <th>val/8.jpg</th>\n",
       "      <th>val/9.jpg</th>\n",
       "      <th>val/10.jpg</th>\n",
       "      <th>...</th>\n",
       "      <th>val/10945.jpg</th>\n",
       "      <th>val/10946.jpg</th>\n",
       "      <th>val/10947.jpg</th>\n",
       "      <th>val/10948.jpg</th>\n",
       "      <th>val/10949.jpg</th>\n",
       "      <th>val/10950.jpg</th>\n",
       "      <th>val/10951.jpg</th>\n",
       "      <th>val/10952.jpg</th>\n",
       "      <th>val/10953.jpg</th>\n",
       "      <th>val/10954.jpg</th>\n",
       "    </tr>\n",
       "  </thead>\n",
       "  <tbody>\n",
       "    <tr>\n",
       "      <th>young man</th>\n",
       "      <td>24.687500</td>\n",
       "      <td>24.687500</td>\n",
       "      <td>24.687500</td>\n",
       "      <td>24.687500</td>\n",
       "      <td>24.687500</td>\n",
       "      <td>24.687500</td>\n",
       "      <td>24.687500</td>\n",
       "      <td>24.687500</td>\n",
       "      <td>24.687500</td>\n",
       "      <td>24.687500</td>\n",
       "      <td>...</td>\n",
       "      <td>24.687500</td>\n",
       "      <td>24.687500</td>\n",
       "      <td>24.687500</td>\n",
       "      <td>24.687500</td>\n",
       "      <td>24.687500</td>\n",
       "      <td>24.687500</td>\n",
       "      <td>24.687500</td>\n",
       "      <td>24.687500</td>\n",
       "      <td>24.687500</td>\n",
       "      <td>24.687500</td>\n",
       "    </tr>\n",
       "    <tr>\n",
       "      <th>adult male</th>\n",
       "      <td>18.765625</td>\n",
       "      <td>18.765625</td>\n",
       "      <td>18.765625</td>\n",
       "      <td>18.765625</td>\n",
       "      <td>18.765625</td>\n",
       "      <td>18.765625</td>\n",
       "      <td>18.765625</td>\n",
       "      <td>18.765625</td>\n",
       "      <td>18.765625</td>\n",
       "      <td>18.765625</td>\n",
       "      <td>...</td>\n",
       "      <td>18.765625</td>\n",
       "      <td>18.765625</td>\n",
       "      <td>18.765625</td>\n",
       "      <td>18.765625</td>\n",
       "      <td>18.765625</td>\n",
       "      <td>18.765625</td>\n",
       "      <td>18.765625</td>\n",
       "      <td>18.765625</td>\n",
       "      <td>18.765625</td>\n",
       "      <td>18.765625</td>\n",
       "    </tr>\n",
       "    <tr>\n",
       "      <th>male</th>\n",
       "      <td>21.671875</td>\n",
       "      <td>21.671875</td>\n",
       "      <td>21.671875</td>\n",
       "      <td>21.671875</td>\n",
       "      <td>21.671875</td>\n",
       "      <td>21.671875</td>\n",
       "      <td>21.671875</td>\n",
       "      <td>21.671875</td>\n",
       "      <td>21.671875</td>\n",
       "      <td>21.671875</td>\n",
       "      <td>...</td>\n",
       "      <td>21.671875</td>\n",
       "      <td>21.671875</td>\n",
       "      <td>21.671875</td>\n",
       "      <td>21.671875</td>\n",
       "      <td>21.671875</td>\n",
       "      <td>21.671875</td>\n",
       "      <td>21.671875</td>\n",
       "      <td>21.671875</td>\n",
       "      <td>21.671875</td>\n",
       "      <td>21.671875</td>\n",
       "    </tr>\n",
       "    <tr>\n",
       "      <th>man</th>\n",
       "      <td>22.250000</td>\n",
       "      <td>22.250000</td>\n",
       "      <td>22.250000</td>\n",
       "      <td>22.250000</td>\n",
       "      <td>22.250000</td>\n",
       "      <td>22.250000</td>\n",
       "      <td>22.250000</td>\n",
       "      <td>22.250000</td>\n",
       "      <td>22.250000</td>\n",
       "      <td>22.250000</td>\n",
       "      <td>...</td>\n",
       "      <td>22.250000</td>\n",
       "      <td>22.250000</td>\n",
       "      <td>22.250000</td>\n",
       "      <td>22.250000</td>\n",
       "      <td>22.250000</td>\n",
       "      <td>22.250000</td>\n",
       "      <td>22.250000</td>\n",
       "      <td>22.250000</td>\n",
       "      <td>22.250000</td>\n",
       "      <td>22.250000</td>\n",
       "    </tr>\n",
       "    <tr>\n",
       "      <th>guy</th>\n",
       "      <td>24.437500</td>\n",
       "      <td>24.437500</td>\n",
       "      <td>24.437500</td>\n",
       "      <td>24.437500</td>\n",
       "      <td>24.437500</td>\n",
       "      <td>24.437500</td>\n",
       "      <td>24.437500</td>\n",
       "      <td>24.437500</td>\n",
       "      <td>24.437500</td>\n",
       "      <td>24.437500</td>\n",
       "      <td>...</td>\n",
       "      <td>24.437500</td>\n",
       "      <td>24.437500</td>\n",
       "      <td>24.437500</td>\n",
       "      <td>24.437500</td>\n",
       "      <td>24.437500</td>\n",
       "      <td>24.437500</td>\n",
       "      <td>24.437500</td>\n",
       "      <td>24.437500</td>\n",
       "      <td>24.437500</td>\n",
       "      <td>24.437500</td>\n",
       "    </tr>\n",
       "  </tbody>\n",
       "</table>\n",
       "<p>5 rows × 10954 columns</p>\n",
       "</div>"
      ],
      "text/plain": [
       "            val/1.jpg  val/2.jpg  val/3.jpg  val/4.jpg  val/5.jpg  val/6.jpg  \\\n",
       "young man   24.687500  24.687500  24.687500  24.687500  24.687500  24.687500   \n",
       "adult male  18.765625  18.765625  18.765625  18.765625  18.765625  18.765625   \n",
       "male        21.671875  21.671875  21.671875  21.671875  21.671875  21.671875   \n",
       "man         22.250000  22.250000  22.250000  22.250000  22.250000  22.250000   \n",
       "guy         24.437500  24.437500  24.437500  24.437500  24.437500  24.437500   \n",
       "\n",
       "            val/7.jpg  val/8.jpg  val/9.jpg  val/10.jpg  ...  val/10945.jpg  \\\n",
       "young man   24.687500  24.687500  24.687500   24.687500  ...      24.687500   \n",
       "adult male  18.765625  18.765625  18.765625   18.765625  ...      18.765625   \n",
       "male        21.671875  21.671875  21.671875   21.671875  ...      21.671875   \n",
       "man         22.250000  22.250000  22.250000   22.250000  ...      22.250000   \n",
       "guy         24.437500  24.437500  24.437500   24.437500  ...      24.437500   \n",
       "\n",
       "            val/10946.jpg  val/10947.jpg  val/10948.jpg  val/10949.jpg  \\\n",
       "young man       24.687500      24.687500      24.687500      24.687500   \n",
       "adult male      18.765625      18.765625      18.765625      18.765625   \n",
       "male            21.671875      21.671875      21.671875      21.671875   \n",
       "man             22.250000      22.250000      22.250000      22.250000   \n",
       "guy             24.437500      24.437500      24.437500      24.437500   \n",
       "\n",
       "            val/10950.jpg  val/10951.jpg  val/10952.jpg  val/10953.jpg  \\\n",
       "young man       24.687500      24.687500      24.687500      24.687500   \n",
       "adult male      18.765625      18.765625      18.765625      18.765625   \n",
       "male            21.671875      21.671875      21.671875      21.671875   \n",
       "man             22.250000      22.250000      22.250000      22.250000   \n",
       "guy             24.437500      24.437500      24.437500      24.437500   \n",
       "\n",
       "            val/10954.jpg  \n",
       "young man       24.687500  \n",
       "adult male      18.765625  \n",
       "male            21.671875  \n",
       "man             22.250000  \n",
       "guy             24.437500  \n",
       "\n",
       "[5 rows x 10954 columns]"
      ]
     },
     "execution_count": 18,
     "metadata": {},
     "output_type": "execute_result"
    }
   ],
   "source": [
    "sims_df.head()"
   ]
  },
  {
   "cell_type": "code",
   "execution_count": null,
   "metadata": {},
   "outputs": [],
   "source": []
  }
 ],
 "metadata": {
  "kernelspec": {
   "display_name": "clipenv",
   "language": "python",
   "name": "python3"
  },
  "language_info": {
   "codemirror_mode": {
    "name": "ipython",
    "version": 3
   },
   "file_extension": ".py",
   "mimetype": "text/x-python",
   "name": "python",
   "nbconvert_exporter": "python",
   "pygments_lexer": "ipython3",
   "version": "3.8.18"
  }
 },
 "nbformat": 4,
 "nbformat_minor": 2
}

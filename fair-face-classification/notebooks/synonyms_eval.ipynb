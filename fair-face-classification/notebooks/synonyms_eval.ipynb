{
 "cells": [
  {
   "cell_type": "code",
   "execution_count": 1,
   "metadata": {
    "tags": []
   },
   "outputs": [],
   "source": [
    "import torch\n",
    "import clip\n",
    "import pandas as pd\n",
    "import numpy as np\n",
    "import json"
   ]
  },
  {
   "cell_type": "code",
   "execution_count": 2,
   "metadata": {},
   "outputs": [
    {
     "name": "stdout",
     "output_type": "stream",
     "text": [
      "['RN50', 'RN101', 'RN50x4', 'RN50x16', 'RN50x64', 'ViT-B/32', 'ViT-B/16', 'ViT-L/14', 'ViT-L/14@336px']\n"
     ]
    }
   ],
   "source": [
    "available_models = clip.available_models()\n",
    "print(available_models)"
   ]
  },
  {
   "cell_type": "code",
   "execution_count": 3,
   "metadata": {},
   "outputs": [
    {
     "name": "stdout",
     "output_type": "stream",
     "text": [
      "\n",
      "Loading model...\n",
      "Done! Model ViT-B/16 loaded to cuda device\n"
     ]
    }
   ],
   "source": [
    "print('\\nLoading model...')\n",
    "\n",
    "clip_model = 'ViT-B/16'\n",
    "\n",
    "device = \"cuda\" if torch.cuda.is_available() else \"cpu\"\n",
    "model, preprocess = clip.load(clip_model, device=device, jit=False)\n",
    "print(f\"Done! Model {clip_model} loaded to {device} device\")"
   ]
  },
  {
   "cell_type": "code",
   "execution_count": 4,
   "metadata": {},
   "outputs": [],
   "source": [
    "img_embs = pd.read_pickle('../data/fface_val_img_embs.pkl')\n",
    "\n",
    "txt_embs = torch.load('../data/synms-gender-labels.pt')\n",
    "\n",
    "with open('../data/synms_gender_labels.json', encoding='utf-8') as json_data:\n",
    "    data = json.load(json_data)\n",
    "    fface_classes = list(data.keys())\n",
    "    prompts = list(data.values())\n",
    "    man_prompts = prompts[0]\n",
    "    woman_prompts = prompts[1]\n",
    "    fface_prompts = man_prompts + woman_prompts\n",
    "\n",
    "fface_df = pd.read_csv('../data/fface_val.csv')"
   ]
  },
  {
   "cell_type": "code",
   "execution_count": 5,
   "metadata": {},
   "outputs": [],
   "source": [
    "def get_similarities(img, txts):\n",
    "    \"\"\"Grab similarity between text and image embeddings.\"\"\"\n",
    "    image_features = torch.from_numpy(img).to('cuda')\n",
    "    similarity = 100.0 * image_features @ txts.T\n",
    "\n",
    "    return similarity"
   ]
  },
  {
   "cell_type": "code",
   "execution_count": 28,
   "metadata": {},
   "outputs": [],
   "source": [
    "def get_sims_dict(img_embs, txt_prompts):\n",
    "    final_dict = {}\n",
    "    for _, emb in img_embs.iterrows():\n",
    "        name = emb['file']\n",
    "        img_features = emb['embeddings']\n",
    "        img_sims = get_similarities(img_features, txt_embs)\n",
    "        sims_dict = {}\n",
    "        for label, score in zip(txt_prompts, img_sims[0]):\n",
    "            sims_dict[label] = score.cpu().numpy().item()\n",
    "        final_dict[name] = sims_dict\n",
    "    return final_dict"
   ]
  },
  {
   "cell_type": "code",
   "execution_count": 47,
   "metadata": {},
   "outputs": [],
   "source": [
    "def get_top_synm(final_dict):\n",
    "    files = final_dict.keys()\n",
    "    wins = []\n",
    "    for val in final_dict.values():\n",
    "        scores_list = list(val.values())\n",
    "        label_list = list(val.keys())\n",
    "        np_scores = np.asarray(scores_list)\n",
    "        windex = np.where(np_scores == np_scores.max())[0][0]\n",
    "        wins.append(label_list[windex])\n",
    "\n",
    "    top_synm_dict = {'file': files, 'winner': wins}\n",
    "    return top_synm_dict"
   ]
  },
  {
   "cell_type": "code",
   "execution_count": 13,
   "metadata": {},
   "outputs": [],
   "source": [
    "def get_sum_synms(final_dict):\n",
    "    files = final_dict.keys()\n",
    "    preds = []\n",
    "    \n",
    "    for key, val in final_dict.items():\n",
    "        man_score = 0\n",
    "        woman_score = 0\n",
    "        for k, v in val.items():\n",
    "            if k in man_prompts:\n",
    "                man_score += v\n",
    "            else:\n",
    "                woman_score += v\n",
    "        preds.append(f'Male' if man_score > woman_score else f'Female')\n",
    "\n",
    "    sum_dict = {'file': files, 'preds': preds}\n",
    "    return(sum_dict)"
   ]
  },
  {
   "cell_type": "code",
   "execution_count": 49,
   "metadata": {},
   "outputs": [],
   "source": [
    "def synm_to_gender(synm):\n",
    "    if synm in man_prompts:\n",
    "        return 'Male'\n",
    "    else:\n",
    "        return 'Female'"
   ]
  },
  {
   "cell_type": "code",
   "execution_count": 29,
   "metadata": {},
   "outputs": [],
   "source": [
    "sims_dict = get_sims_dict(img_embs=img_embs, txt_prompts=fface_prompts)"
   ]
  },
  {
   "cell_type": "code",
   "execution_count": 55,
   "metadata": {},
   "outputs": [
    {
     "name": "stdout",
     "output_type": "stream",
     "text": [
      "        file   preds\n",
      "0  val/1.jpg    Male\n",
      "1  val/2.jpg  Female\n",
      "2  val/3.jpg    Male\n",
      "3  val/4.jpg  Female\n",
      "4  val/5.jpg    Male\n"
     ]
    }
   ],
   "source": [
    "sum_dict = get_sum_synms(final_dict=sims_dict)\n",
    "sum_df = pd.DataFrame(data=sum_dict)\n",
    "print(sum_df.head())"
   ]
  },
  {
   "cell_type": "code",
   "execution_count": 54,
   "metadata": {},
   "outputs": [
    {
     "name": "stdout",
     "output_type": "stream",
     "text": [
      "        file           winner\n",
      "0  val/1.jpg              boy\n",
      "1  val/2.jpg      grandmother\n",
      "2  val/3.jpg  middle-aged man\n",
      "3  val/4.jpg      young woman\n",
      "4  val/5.jpg              man\n"
     ]
    }
   ],
   "source": [
    "top_dict = get_top_synm(final_dict=sims_dict)\n",
    "top_df = pd.DataFrame(data=top_dict)\n",
    "print(top_df.head())"
   ]
  },
  {
   "cell_type": "code",
   "execution_count": 53,
   "metadata": {},
   "outputs": [
    {
     "name": "stdout",
     "output_type": "stream",
     "text": [
      "        file  winner\n",
      "0  val/1.jpg    Male\n",
      "1  val/2.jpg  Female\n",
      "2  val/3.jpg    Male\n",
      "3  val/4.jpg  Female\n",
      "4  val/5.jpg    Male\n"
     ]
    }
   ],
   "source": [
    "bin_df = top_df.copy()\n",
    "bin_df['winner'] = top_df['winner'].map(synm_to_gender)\n",
    "print(bin_df.head())"
   ]
  }
 ],
 "metadata": {
  "kernelspec": {
   "display_name": "Python 3 (ipykernel)",
   "language": "python",
   "name": "python3"
  },
  "language_info": {
   "codemirror_mode": {
    "name": "ipython",
    "version": 3
   },
   "file_extension": ".py",
   "mimetype": "text/x-python",
   "name": "python",
   "nbconvert_exporter": "python",
   "pygments_lexer": "ipython3",
   "version": "3.8.18"
  }
 },
 "nbformat": 4,
 "nbformat_minor": 4
}

{
 "cells": [
  {
   "cell_type": "code",
   "execution_count": 2,
   "metadata": {},
   "outputs": [],
   "source": [
    "import torch\n",
    "import clip\n",
    "import pandas as pd\n",
    "import numpy as np"
   ]
  },
  {
   "cell_type": "code",
   "execution_count": 3,
   "metadata": {},
   "outputs": [
    {
     "name": "stdout",
     "output_type": "stream",
     "text": [
      "\n",
      "Loading model...\n",
      "Done! Model loaded to cuda device\n"
     ]
    }
   ],
   "source": [
    "print('\\nLoading model...')\n",
    "available_models = ['RN50', 'RN101', 'RN50x4', 'RN50x16']\n",
    "layers = ['layer4', 'layer3', 'layer2', 'layer1']\n",
    "\n",
    "clip_model = available_models[0]\n",
    "saliency_layer = layers[0]\n",
    "\n",
    "device = \"cuda\" if torch.cuda.is_available() else \"cpu\"\n",
    "model, preprocess = clip.load(clip_model, device=device, jit=False)\n",
    "print(f\"Done! Model loaded to {device} device\")"
   ]
  },
  {
   "cell_type": "code",
   "execution_count": 4,
   "metadata": {},
   "outputs": [],
   "source": [
    "woman_embds_df = pd.read_pickle('../data/woman_embeddings.csv')\n",
    "man_embds_df = pd.read_pickle('../data/man_embeddings.csv')"
   ]
  },
  {
   "cell_type": "code",
   "execution_count": 5,
   "metadata": {},
   "outputs": [],
   "source": [
    "def get_similarities(img_embs, classes):\n",
    "    image_features = torch.from_numpy(img_embs).to(device)\n",
    "\n",
    "    text_inputs = torch.cat(\n",
    "        [clip.tokenize(f\"a photo of a {c}\") for c in classes]).to(device)\n",
    "\n",
    "    with torch.no_grad():\n",
    "        text_features = model.encode_text(text_inputs)\n",
    "\n",
    "    text_features /= text_features.norm(dim=-1, keepdim=True)\n",
    "    \n",
    "    # is this the cosine distance approximation?\n",
    "    similarity = (100.0 * image_features @ text_features.T)\n",
    "    return similarity"
   ]
  },
  {
   "cell_type": "code",
   "execution_count": 6,
   "metadata": {},
   "outputs": [],
   "source": [
    "woman_classes = ['girl', 'lady', 'woman']\n",
    "man_classes = ['boy', 'gentleman', 'man']"
   ]
  },
  {
   "cell_type": "code",
   "execution_count": 7,
   "metadata": {},
   "outputs": [
    {
     "name": "stdout",
     "output_type": "stream",
     "text": [
      "tensor([[20.4844, 20.0312, 20.5000]], device='cuda:0', dtype=torch.float16)\n"
     ]
    }
   ],
   "source": [
    "woman_img_emb = woman_embds_df.iloc[0]['embeddings']\n",
    "woman_sims = get_similarities(woman_img_emb, woman_classes)\n",
    "print(woman_sims)"
   ]
  },
  {
   "cell_type": "code",
   "execution_count": 8,
   "metadata": {},
   "outputs": [
    {
     "name": "stdout",
     "output_type": "stream",
     "text": [
      "tensor([[17.3906, 14.6641, 15.2578]], device='cuda:0', dtype=torch.float16)\n"
     ]
    }
   ],
   "source": [
    "man_sims = get_similarities(woman_img_emb, man_classes)\n",
    "print(man_sims)"
   ]
  },
  {
   "cell_type": "code",
   "execution_count": 9,
   "metadata": {},
   "outputs": [],
   "source": [
    "def get_synms_winner(sims):\n",
    "    np_sims = sims.cpu().numpy()\n",
    "    np_loc = np.where(np_sims[0] == np_sims.max())\n",
    "    return np_loc[0][0]"
   ]
  },
  {
   "cell_type": "code",
   "execution_count": 10,
   "metadata": {},
   "outputs": [
    {
     "data": {
      "text/plain": [
       "['boy', 'woman']"
      ]
     },
     "execution_count": 10,
     "metadata": {},
     "output_type": "execute_result"
    }
   ],
   "source": [
    "final_man = man_classes[get_synms_winner(man_sims)]\n",
    "final_woman = woman_classes[get_synms_winner(woman_sims)]\n",
    "final_classes = [final_man, final_woman]\n",
    "final_classes"
   ]
  },
  {
   "cell_type": "code",
   "execution_count": 15,
   "metadata": {},
   "outputs": [],
   "source": [
    "def run_clip_classifier(img_emb, classes):\n",
    "    \"\"\"Run classes by CLIP to choose the closest one\"\"\"\n",
    "    sims = get_similarities(img_emb, classes)\n",
    "    sims_max = sims.softmax(dim=-1)\n",
    "    values, indices = sims_max[0].topk(len(sims_max[0]))\n",
    "    scores = []\n",
    "    for value, index in zip(values, indices):\n",
    "        scores.append(\n",
    "            (classes[index], round(100 * value.item(), 2)))\n",
    "    return scores"
   ]
  },
  {
   "cell_type": "code",
   "execution_count": 16,
   "metadata": {},
   "outputs": [
    {
     "name": "stdout",
     "output_type": "stream",
     "text": [
      "[('woman', 95.75), ('boy', 4.27)]\n"
     ]
    }
   ],
   "source": [
    "print(run_clip_classifier(woman_img_emb, final_classes))"
   ]
  }
 ],
 "metadata": {
  "kernelspec": {
   "display_name": "clipenv",
   "language": "python",
   "name": "python3"
  },
  "language_info": {
   "codemirror_mode": {
    "name": "ipython",
    "version": 3
   },
   "file_extension": ".py",
   "mimetype": "text/x-python",
   "name": "python",
   "nbconvert_exporter": "python",
   "pygments_lexer": "ipython3",
   "version": "3.8.18"
  }
 },
 "nbformat": 4,
 "nbformat_minor": 2
}

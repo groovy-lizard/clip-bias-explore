{
 "cells": [
  {
   "cell_type": "code",
   "execution_count": 3,
   "metadata": {},
   "outputs": [],
   "source": [
    "import torch\n",
    "import clip\n",
    "import pandas as pd\n",
    "import numpy as np\n",
    "import json"
   ]
  },
  {
   "cell_type": "code",
   "execution_count": 4,
   "metadata": {},
   "outputs": [
    {
     "name": "stdout",
     "output_type": "stream",
     "text": [
      "['RN50', 'RN101', 'RN50x4', 'RN50x16', 'RN50x64', 'ViT-B/32', 'ViT-B/16', 'ViT-L/14', 'ViT-L/14@336px']\n"
     ]
    }
   ],
   "source": [
    "available_models = clip.available_models()\n",
    "print(available_models)"
   ]
  },
  {
   "cell_type": "code",
   "execution_count": 5,
   "metadata": {},
   "outputs": [
    {
     "name": "stdout",
     "output_type": "stream",
     "text": [
      "\n",
      "Loading model...\n"
     ]
    },
    {
     "name": "stderr",
     "output_type": "stream",
     "text": [
      "100%|███████████████████████████████████████| 335M/335M [00:09<00:00, 38.1MiB/s]\n"
     ]
    },
    {
     "name": "stdout",
     "output_type": "stream",
     "text": [
      "Done! Model ViT-B/16 loaded to cuda device\n"
     ]
    }
   ],
   "source": [
    "print('\\nLoading model...')\n",
    "\n",
    "clip_model = 'ViT-B/16'\n",
    "\n",
    "device = \"cuda\" if torch.cuda.is_available() else \"cpu\"\n",
    "model, preprocess = clip.load(clip_model, device=device, jit=False)\n",
    "print(f\"Done! Model {clip_model} loaded to {device} device\")"
   ]
  },
  {
   "cell_type": "code",
   "execution_count": 6,
   "metadata": {},
   "outputs": [],
   "source": [
    "with open('../data/synms_gender_labels.json', encoding='utf-8') as json_data:\n",
    "    data = json.load(json_data)\n",
    "    fface_classes = list(data.keys())\n",
    "    fface_prompts = list(data.values())"
   ]
  },
  {
   "cell_type": "code",
   "execution_count": 7,
   "metadata": {},
   "outputs": [],
   "source": [
    "man_prompts = fface_prompts[0]\n",
    "woman_prompts = fface_prompts[1]"
   ]
  },
  {
   "cell_type": "code",
   "execution_count": null,
   "metadata": {},
   "outputs": [],
   "source": []
  },
  {
   "cell_type": "code",
   "execution_count": 9,
   "metadata": {},
   "outputs": [],
   "source": [
    "def get_similarities(img_embs, classes):\n",
    "    image_features = torch.from_numpy(img_embs).to(device)\n",
    "\n",
    "    text_inputs = torch.cat(\n",
    "        [clip.tokenize(f\"a photo of a {c}\") for c in classes]).to(device)\n",
    "\n",
    "    with torch.no_grad():\n",
    "        text_features = model.encode_text(text_inputs)\n",
    "\n",
    "    text_features /= text_features.norm(dim=-1, keepdim=True)\n",
    "    \n",
    "    # is this the cosine distance approximation?\n",
    "    similarity = (100.0 * image_features @ text_features.T)\n",
    "    return similarity"
   ]
  },
  {
   "cell_type": "code",
   "execution_count": null,
   "metadata": {},
   "outputs": [],
   "source": [
    "def get_synms_winner(sims):\n",
    "    np_sims = sims.cpu().numpy()\n",
    "    np_loc = np.where(np_sims[0] == np_sims.max())\n",
    "    return np_loc[0][0]"
   ]
  },
  {
   "cell_type": "code",
   "execution_count": null,
   "metadata": {},
   "outputs": [],
   "source": [
    "def run_clip_classifier(img_emb, classes):\n",
    "    \"\"\"Run classes by CLIP to choose the closest one\"\"\"\n",
    "    sims = get_similarities(img_emb, classes)\n",
    "    sims_max = sims.softmax(dim=-1)\n",
    "    values, indices = sims_max[0].topk(len(sims_max[0]))\n",
    "    scores = []\n",
    "    for value, index in zip(values, indices):\n",
    "        scores.append(\n",
    "            (classes[index], round(100 * value.item(), 2)))\n",
    "    return scores"
   ]
  },
  {
   "cell_type": "code",
   "execution_count": null,
   "metadata": {},
   "outputs": [
    {
     "name": "stdout",
     "output_type": "stream",
     "text": [
      "[('woman', 95.75), ('boy', 4.27)]\n"
     ]
    }
   ],
   "source": [
    "print(run_clip_classifier(woman_img_emb, final_classes))"
   ]
  }
 ],
 "metadata": {
  "kernelspec": {
   "display_name": "clipenv",
   "language": "python",
   "name": "python3"
  },
  "language_info": {
   "codemirror_mode": {
    "name": "ipython",
    "version": 3
   },
   "file_extension": ".py",
   "mimetype": "text/x-python",
   "name": "python",
   "nbconvert_exporter": "python",
   "pygments_lexer": "ipython3",
   "version": "3.8.18"
  }
 },
 "nbformat": 4,
 "nbformat_minor": 2
}

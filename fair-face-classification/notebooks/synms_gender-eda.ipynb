{
 "cells": [
  {
   "cell_type": "markdown",
   "metadata": {},
   "source": [
    "# Gender Predictions Exploratory Data Analysis"
   ]
  },
  {
   "cell_type": "markdown",
   "metadata": {},
   "source": [
    "## Imports"
   ]
  },
  {
   "cell_type": "code",
   "execution_count": 2,
   "metadata": {},
   "outputs": [],
   "source": [
    "import json\n",
    "import pandas as pd\n",
    "import matplotlib.pyplot as plt\n",
    "import numpy as np\n",
    "from sklearn.metrics import accuracy_score\n",
    "from sklearn.metrics import confusion_matrix, ConfusionMatrixDisplay\n",
    "\n",
    "%matplotlib inline"
   ]
  },
  {
   "cell_type": "code",
   "execution_count": 3,
   "metadata": {},
   "outputs": [],
   "source": [
    "# fface_df = pd.read_csv(\"../data/fface_train.csv\")\n",
    "synms_gender_preds_df = pd.read_csv(\"../data/synms_gender_preds_fface.csv\")"
   ]
  },
  {
   "cell_type": "markdown",
   "metadata": {},
   "source": [
    "## Preprocess"
   ]
  },
  {
   "cell_type": "code",
   "execution_count": 4,
   "metadata": {},
   "outputs": [],
   "source": [
    "with open('../data/synms_gender_labels.json', encoding='utf-8') as json_data:\n",
    "    data = json.load(json_data)\n",
    "    fface_classes = list(data.keys())\n",
    "    fface_prompts = list(data.values())"
   ]
  },
  {
   "cell_type": "code",
   "execution_count": 5,
   "metadata": {},
   "outputs": [
    {
     "data": {
      "text/plain": [
       "False"
      ]
     },
     "execution_count": 5,
     "metadata": {},
     "output_type": "execute_result"
    }
   ],
   "source": [
    "'gentleman' in data['Female']\n",
    "\n"
   ]
  },
  {
   "cell_type": "code",
   "execution_count": 6,
   "metadata": {},
   "outputs": [
    {
     "name": "stdout",
     "output_type": "stream",
     "text": [
      "['Male', 'Female']\n",
      "[['young man', 'adult male', 'male', 'man', 'guy', 'boy', 'middle-aged man', 'old man', 'grandfather', 'grandpa'], ['young woman', 'adult female', 'female', 'woman', 'lady', 'girl', 'madam', 'old woman', 'grandmother', 'grandma']]\n"
     ]
    }
   ],
   "source": [
    "print(fface_classes)\n",
    "print(fface_prompts)"
   ]
  },
  {
   "cell_type": "markdown",
   "metadata": {},
   "source": [
    "## Initial EDA"
   ]
  },
  {
   "cell_type": "code",
   "execution_count": 7,
   "metadata": {},
   "outputs": [
    {
     "name": "stdout",
     "output_type": "stream",
     "text": [
      "(10954, 6)\n"
     ]
    },
    {
     "data": {
      "text/html": [
       "<div>\n",
       "<style scoped>\n",
       "    .dataframe tbody tr th:only-of-type {\n",
       "        vertical-align: middle;\n",
       "    }\n",
       "\n",
       "    .dataframe tbody tr th {\n",
       "        vertical-align: top;\n",
       "    }\n",
       "\n",
       "    .dataframe thead th {\n",
       "        text-align: right;\n",
       "    }\n",
       "</style>\n",
       "<table border=\"1\" class=\"dataframe\">\n",
       "  <thead>\n",
       "    <tr style=\"text-align: right;\">\n",
       "      <th></th>\n",
       "      <th>file</th>\n",
       "      <th>age</th>\n",
       "      <th>gender</th>\n",
       "      <th>race</th>\n",
       "      <th>service_test</th>\n",
       "      <th>gender_preds</th>\n",
       "    </tr>\n",
       "  </thead>\n",
       "  <tbody>\n",
       "    <tr>\n",
       "      <th>0</th>\n",
       "      <td>val/1.jpg</td>\n",
       "      <td>3-9</td>\n",
       "      <td>Male</td>\n",
       "      <td>East Asian</td>\n",
       "      <td>False</td>\n",
       "      <td>boy</td>\n",
       "    </tr>\n",
       "    <tr>\n",
       "      <th>1</th>\n",
       "      <td>val/2.jpg</td>\n",
       "      <td>50-59</td>\n",
       "      <td>Female</td>\n",
       "      <td>East Asian</td>\n",
       "      <td>True</td>\n",
       "      <td>grandmother</td>\n",
       "    </tr>\n",
       "    <tr>\n",
       "      <th>2</th>\n",
       "      <td>val/3.jpg</td>\n",
       "      <td>30-39</td>\n",
       "      <td>Male</td>\n",
       "      <td>White</td>\n",
       "      <td>True</td>\n",
       "      <td>middle-aged man</td>\n",
       "    </tr>\n",
       "    <tr>\n",
       "      <th>3</th>\n",
       "      <td>val/4.jpg</td>\n",
       "      <td>20-29</td>\n",
       "      <td>Female</td>\n",
       "      <td>Latino_Hispanic</td>\n",
       "      <td>True</td>\n",
       "      <td>young woman</td>\n",
       "    </tr>\n",
       "    <tr>\n",
       "      <th>4</th>\n",
       "      <td>val/5.jpg</td>\n",
       "      <td>20-29</td>\n",
       "      <td>Male</td>\n",
       "      <td>Southeast Asian</td>\n",
       "      <td>False</td>\n",
       "      <td>man</td>\n",
       "    </tr>\n",
       "  </tbody>\n",
       "</table>\n",
       "</div>"
      ],
      "text/plain": [
       "        file    age  gender             race  service_test     gender_preds\n",
       "0  val/1.jpg    3-9    Male       East Asian         False              boy\n",
       "1  val/2.jpg  50-59  Female       East Asian          True      grandmother\n",
       "2  val/3.jpg  30-39    Male            White          True  middle-aged man\n",
       "3  val/4.jpg  20-29  Female  Latino_Hispanic          True      young woman\n",
       "4  val/5.jpg  20-29    Male  Southeast Asian         False              man"
      ]
     },
     "execution_count": 7,
     "metadata": {},
     "output_type": "execute_result"
    }
   ],
   "source": [
    "print(synms_gender_preds_df.shape)\n",
    "synms_gender_preds_df.head()"
   ]
  },
  {
   "cell_type": "code",
   "execution_count": 8,
   "metadata": {},
   "outputs": [
    {
     "name": "stdout",
     "output_type": "stream",
     "text": [
      "Hole dataset race proportions\n"
     ]
    },
    {
     "data": {
      "text/plain": [
       "race\n",
       "White              19.0%\n",
       "Latino_Hispanic    14.8%\n",
       "Black              14.2%\n",
       "East Asian         14.2%\n",
       "Indian             13.8%\n",
       "Southeast Asian    12.9%\n",
       "Middle Eastern     11.0%\n",
       "Name: proportion, dtype: object"
      ]
     },
     "execution_count": 8,
     "metadata": {},
     "output_type": "execute_result"
    }
   ],
   "source": [
    "print('Hole dataset race proportions')\n",
    "synms_gender_preds_df.race.value_counts(\n",
    "    normalize=True).mul(100).round(1).astype(str) + '%'"
   ]
  },
  {
   "cell_type": "code",
   "execution_count": 9,
   "metadata": {},
   "outputs": [
    {
     "data": {
      "text/plain": [
       "race\n",
       "White              2085\n",
       "Latino_Hispanic    1623\n",
       "Black              1556\n",
       "East Asian         1550\n",
       "Indian             1516\n",
       "Southeast Asian    1415\n",
       "Middle Eastern     1209\n",
       "Name: count, dtype: int64"
      ]
     },
     "execution_count": 9,
     "metadata": {},
     "output_type": "execute_result"
    }
   ],
   "source": [
    "synms_gender_preds_df.race.value_counts()"
   ]
  },
  {
   "cell_type": "code",
   "execution_count": 10,
   "metadata": {},
   "outputs": [
    {
     "name": "stdout",
     "output_type": "stream",
     "text": [
      "Hole dataset gender proportions\n"
     ]
    },
    {
     "data": {
      "text/plain": [
       "gender\n",
       "Male      52.9%\n",
       "Female    47.1%\n",
       "Name: proportion, dtype: object"
      ]
     },
     "execution_count": 10,
     "metadata": {},
     "output_type": "execute_result"
    }
   ],
   "source": [
    "print('Hole dataset gender proportions')\n",
    "synms_gender_preds_df.gender.value_counts(\n",
    "    normalize=True).mul(100).round(1).astype(str) + '%'"
   ]
  },
  {
   "cell_type": "code",
   "execution_count": 11,
   "metadata": {},
   "outputs": [
    {
     "data": {
      "text/plain": [
       "gender\n",
       "Male      5792\n",
       "Female    5162\n",
       "Name: count, dtype: int64"
      ]
     },
     "execution_count": 11,
     "metadata": {},
     "output_type": "execute_result"
    }
   ],
   "source": [
    "synms_gender_preds_df.gender.value_counts()"
   ]
  },
  {
   "cell_type": "markdown",
   "metadata": {},
   "source": [
    "### Binary Gender Predictions"
   ]
  },
  {
   "cell_type": "code",
   "execution_count": 12,
   "metadata": {},
   "outputs": [
    {
     "name": "stdout",
     "output_type": "stream",
     "text": [
      "Gender predictions proportions\n"
     ]
    },
    {
     "data": {
      "text/plain": [
       "gender_preds\n",
       "middle-aged man    26.5%\n",
       "woman              13.1%\n",
       "young woman        13.0%\n",
       "boy                10.8%\n",
       "girl                6.9%\n",
       "grandmother         6.3%\n",
       "young man           6.1%\n",
       "guy                 4.5%\n",
       "madam               3.8%\n",
       "man                 2.4%\n",
       "grandfather         2.3%\n",
       "male                1.7%\n",
       "old woman           1.5%\n",
       "female              0.4%\n",
       "old man             0.4%\n",
       "grandma             0.2%\n",
       "grandpa             0.2%\n",
       "lady                0.0%\n",
       "adult male          0.0%\n",
       "adult female        0.0%\n",
       "Name: proportion, dtype: object"
      ]
     },
     "execution_count": 12,
     "metadata": {},
     "output_type": "execute_result"
    }
   ],
   "source": [
    "print('Gender predictions proportions')\n",
    "synms_gender_preds_df.gender_preds.value_counts(\n",
    "    normalize=True).mul(100).round(1).astype(str) + '%'"
   ]
  },
  {
   "cell_type": "code",
   "execution_count": 13,
   "metadata": {},
   "outputs": [
    {
     "data": {
      "text/plain": [
       "gender_preds\n",
       "middle-aged man    2904\n",
       "woman              1433\n",
       "young woman        1422\n",
       "boy                1182\n",
       "girl                758\n",
       "grandmother         689\n",
       "young man           663\n",
       "guy                 489\n",
       "madam               418\n",
       "man                 262\n",
       "grandfather         251\n",
       "male                185\n",
       "old woman           165\n",
       "female               40\n",
       "old man              39\n",
       "grandma              25\n",
       "grandpa              25\n",
       "lady                  2\n",
       "adult male            1\n",
       "adult female          1\n",
       "Name: count, dtype: int64"
      ]
     },
     "execution_count": 13,
     "metadata": {},
     "output_type": "execute_result"
    }
   ],
   "source": [
    "synms_gender_preds_df.gender_preds.value_counts()"
   ]
  },
  {
   "cell_type": "code",
   "execution_count": 14,
   "metadata": {},
   "outputs": [],
   "source": [
    "def synms_to_gender(synm):\n",
    "    if synm in data['Male']:\n",
    "        return 'Male'\n",
    "    else:\n",
    "        return 'Female'"
   ]
  },
  {
   "cell_type": "code",
   "execution_count": 15,
   "metadata": {},
   "outputs": [],
   "source": [
    "binary_synms_gender_preds_df = synms_gender_preds_df.copy()\n",
    "binary_synms_gender_preds_df['gender_preds'] = synms_gender_preds_df['gender_preds'].map(synms_to_gender)"
   ]
  },
  {
   "cell_type": "code",
   "execution_count": 16,
   "metadata": {},
   "outputs": [
    {
     "data": {
      "text/html": [
       "<div>\n",
       "<style scoped>\n",
       "    .dataframe tbody tr th:only-of-type {\n",
       "        vertical-align: middle;\n",
       "    }\n",
       "\n",
       "    .dataframe tbody tr th {\n",
       "        vertical-align: top;\n",
       "    }\n",
       "\n",
       "    .dataframe thead th {\n",
       "        text-align: right;\n",
       "    }\n",
       "</style>\n",
       "<table border=\"1\" class=\"dataframe\">\n",
       "  <thead>\n",
       "    <tr style=\"text-align: right;\">\n",
       "      <th></th>\n",
       "      <th>file</th>\n",
       "      <th>age</th>\n",
       "      <th>gender</th>\n",
       "      <th>race</th>\n",
       "      <th>service_test</th>\n",
       "      <th>gender_preds</th>\n",
       "    </tr>\n",
       "  </thead>\n",
       "  <tbody>\n",
       "    <tr>\n",
       "      <th>0</th>\n",
       "      <td>val/1.jpg</td>\n",
       "      <td>3-9</td>\n",
       "      <td>Male</td>\n",
       "      <td>East Asian</td>\n",
       "      <td>False</td>\n",
       "      <td>Male</td>\n",
       "    </tr>\n",
       "    <tr>\n",
       "      <th>1</th>\n",
       "      <td>val/2.jpg</td>\n",
       "      <td>50-59</td>\n",
       "      <td>Female</td>\n",
       "      <td>East Asian</td>\n",
       "      <td>True</td>\n",
       "      <td>Female</td>\n",
       "    </tr>\n",
       "    <tr>\n",
       "      <th>2</th>\n",
       "      <td>val/3.jpg</td>\n",
       "      <td>30-39</td>\n",
       "      <td>Male</td>\n",
       "      <td>White</td>\n",
       "      <td>True</td>\n",
       "      <td>Male</td>\n",
       "    </tr>\n",
       "    <tr>\n",
       "      <th>3</th>\n",
       "      <td>val/4.jpg</td>\n",
       "      <td>20-29</td>\n",
       "      <td>Female</td>\n",
       "      <td>Latino_Hispanic</td>\n",
       "      <td>True</td>\n",
       "      <td>Female</td>\n",
       "    </tr>\n",
       "    <tr>\n",
       "      <th>4</th>\n",
       "      <td>val/5.jpg</td>\n",
       "      <td>20-29</td>\n",
       "      <td>Male</td>\n",
       "      <td>Southeast Asian</td>\n",
       "      <td>False</td>\n",
       "      <td>Male</td>\n",
       "    </tr>\n",
       "    <tr>\n",
       "      <th>...</th>\n",
       "      <td>...</td>\n",
       "      <td>...</td>\n",
       "      <td>...</td>\n",
       "      <td>...</td>\n",
       "      <td>...</td>\n",
       "      <td>...</td>\n",
       "    </tr>\n",
       "    <tr>\n",
       "      <th>10949</th>\n",
       "      <td>val/10950.jpg</td>\n",
       "      <td>30-39</td>\n",
       "      <td>Male</td>\n",
       "      <td>White</td>\n",
       "      <td>True</td>\n",
       "      <td>Male</td>\n",
       "    </tr>\n",
       "    <tr>\n",
       "      <th>10950</th>\n",
       "      <td>val/10951.jpg</td>\n",
       "      <td>50-59</td>\n",
       "      <td>Male</td>\n",
       "      <td>White</td>\n",
       "      <td>False</td>\n",
       "      <td>Male</td>\n",
       "    </tr>\n",
       "    <tr>\n",
       "      <th>10951</th>\n",
       "      <td>val/10952.jpg</td>\n",
       "      <td>60-69</td>\n",
       "      <td>Male</td>\n",
       "      <td>Latino_Hispanic</td>\n",
       "      <td>False</td>\n",
       "      <td>Male</td>\n",
       "    </tr>\n",
       "    <tr>\n",
       "      <th>10952</th>\n",
       "      <td>val/10953.jpg</td>\n",
       "      <td>20-29</td>\n",
       "      <td>Female</td>\n",
       "      <td>East Asian</td>\n",
       "      <td>False</td>\n",
       "      <td>Female</td>\n",
       "    </tr>\n",
       "    <tr>\n",
       "      <th>10953</th>\n",
       "      <td>val/10954.jpg</td>\n",
       "      <td>40-49</td>\n",
       "      <td>Male</td>\n",
       "      <td>Latino_Hispanic</td>\n",
       "      <td>True</td>\n",
       "      <td>Male</td>\n",
       "    </tr>\n",
       "  </tbody>\n",
       "</table>\n",
       "<p>10954 rows × 6 columns</p>\n",
       "</div>"
      ],
      "text/plain": [
       "                file    age  gender             race  service_test  \\\n",
       "0          val/1.jpg    3-9    Male       East Asian         False   \n",
       "1          val/2.jpg  50-59  Female       East Asian          True   \n",
       "2          val/3.jpg  30-39    Male            White          True   \n",
       "3          val/4.jpg  20-29  Female  Latino_Hispanic          True   \n",
       "4          val/5.jpg  20-29    Male  Southeast Asian         False   \n",
       "...              ...    ...     ...              ...           ...   \n",
       "10949  val/10950.jpg  30-39    Male            White          True   \n",
       "10950  val/10951.jpg  50-59    Male            White         False   \n",
       "10951  val/10952.jpg  60-69    Male  Latino_Hispanic         False   \n",
       "10952  val/10953.jpg  20-29  Female       East Asian         False   \n",
       "10953  val/10954.jpg  40-49    Male  Latino_Hispanic          True   \n",
       "\n",
       "      gender_preds  \n",
       "0             Male  \n",
       "1           Female  \n",
       "2             Male  \n",
       "3           Female  \n",
       "4             Male  \n",
       "...            ...  \n",
       "10949         Male  \n",
       "10950         Male  \n",
       "10951         Male  \n",
       "10952       Female  \n",
       "10953         Male  \n",
       "\n",
       "[10954 rows x 6 columns]"
      ]
     },
     "execution_count": 16,
     "metadata": {},
     "output_type": "execute_result"
    }
   ],
   "source": [
    "binary_synms_gender_preds_df"
   ]
  },
  {
   "cell_type": "code",
   "execution_count": 17,
   "metadata": {},
   "outputs": [],
   "source": [
    "gender_preds_misses = binary_synms_gender_preds_df[binary_synms_gender_preds_df['gender']\n",
    "                                          != binary_synms_gender_preds_df['gender_preds']]"
   ]
  },
  {
   "cell_type": "code",
   "execution_count": 18,
   "metadata": {},
   "outputs": [
    {
     "name": "stdout",
     "output_type": "stream",
     "text": [
      "gender_preds misses count: 579\n",
      "gender_preds accuracy score: 0.95\n"
     ]
    }
   ],
   "source": [
    "gender_preds_acc = accuracy_score(\n",
    "    binary_synms_gender_preds_df['gender'], binary_synms_gender_preds_df['gender_preds'])\n",
    "print(f\"gender_preds misses count: {len(gender_preds_misses)}\")\n",
    "print(f\"gender_preds accuracy score: {round(gender_preds_acc, 2)}\")"
   ]
  },
  {
   "cell_type": "code",
   "execution_count": 19,
   "metadata": {},
   "outputs": [
    {
     "name": "stdout",
     "output_type": "stream",
     "text": [
      "male predictions accuracy score: 0.97\n"
     ]
    }
   ],
   "source": [
    "male_preds_acc = accuracy_score(\n",
    "    binary_synms_gender_preds_df[binary_synms_gender_preds_df['gender'] == 'Male']['gender'], binary_synms_gender_preds_df[binary_synms_gender_preds_df['gender'] == 'Male']['gender_preds']\n",
    ")\n",
    "print(f\"male predictions accuracy score: {round(male_preds_acc, 2)}\")"
   ]
  },
  {
   "cell_type": "code",
   "execution_count": 20,
   "metadata": {},
   "outputs": [
    {
     "name": "stdout",
     "output_type": "stream",
     "text": [
      "female predictions accuracy score: 0.92\n"
     ]
    }
   ],
   "source": [
    "female_preds_acc = accuracy_score(\n",
    "    binary_synms_gender_preds_df[binary_synms_gender_preds_df['gender'] ==\n",
    "                        'Female']['gender'], binary_synms_gender_preds_df[binary_synms_gender_preds_df['gender'] == 'Female']['gender_preds']\n",
    ")\n",
    "print(f\"female predictions accuracy score: {round(female_preds_acc, 2)}\")"
   ]
  },
  {
   "cell_type": "code",
   "execution_count": 21,
   "metadata": {},
   "outputs": [
    {
     "name": "stdout",
     "output_type": "stream",
     "text": [
      "White predictions accuracy score: 0.95\n"
     ]
    }
   ],
   "source": [
    "white_df = binary_synms_gender_preds_df[binary_synms_gender_preds_df['race'] == 'White']\n",
    "white_df[white_df['gender'] != white_df['gender_preds']]\n",
    "white_preds_acc = accuracy_score(white_df['gender'], white_df['gender_preds'])\n",
    "\n",
    "print(f\"White predictions accuracy score: {round(white_preds_acc, 2)}\")"
   ]
  },
  {
   "cell_type": "code",
   "execution_count": 22,
   "metadata": {},
   "outputs": [
    {
     "name": "stdout",
     "output_type": "stream",
     "text": [
      "East Asian predictions accuracy: 0.95\n",
      "White predictions accuracy: 0.95\n",
      "Latino_Hispanic predictions accuracy: 0.95\n",
      "Southeast Asian predictions accuracy: 0.95\n",
      "Black predictions accuracy: 0.91\n",
      "Indian predictions accuracy: 0.95\n",
      "Middle Eastern predictions accuracy: 0.97\n"
     ]
    }
   ],
   "source": [
    "for race in binary_synms_gender_preds_df['race'].unique():\n",
    "    race_df = binary_synms_gender_preds_df[binary_synms_gender_preds_df['race'] == race]\n",
    "    race_preds_acc = accuracy_score(race_df['gender'], race_df['gender_preds'])\n",
    "    print(f\"{race} predictions accuracy: {round(race_preds_acc, 2)}\")"
   ]
  },
  {
   "cell_type": "code",
   "execution_count": 23,
   "metadata": {},
   "outputs": [
    {
     "name": "stdout",
     "output_type": "stream",
     "text": [
      "Ages 3-9 predictions accuracy: 0.86\n",
      "Ages 50-59 predictions accuracy: 0.97\n",
      "Ages 30-39 predictions accuracy: 0.98\n",
      "Ages 20-29 predictions accuracy: 0.97\n",
      "Ages more than 70 predictions accuracy: 0.97\n",
      "Ages 40-49 predictions accuracy: 0.98\n",
      "Ages 10-19 predictions accuracy: 0.89\n",
      "Ages 60-69 predictions accuracy: 0.97\n",
      "Ages 0-2 predictions accuracy: 0.81\n"
     ]
    }
   ],
   "source": [
    "for age in binary_synms_gender_preds_df['age'].unique():\n",
    "    age_df = binary_synms_gender_preds_df[binary_synms_gender_preds_df['age'] == age]\n",
    "    age_preds_acc = accuracy_score(age_df['gender'], age_df['gender_preds'])\n",
    "    print(f\"Ages {age} predictions accuracy: {round(age_preds_acc, 2)}\")"
   ]
  }
 ],
 "metadata": {
  "kernelspec": {
   "display_name": "clipenv",
   "language": "python",
   "name": "python3"
  },
  "language_info": {
   "codemirror_mode": {
    "name": "ipython",
    "version": 3
   },
   "file_extension": ".py",
   "mimetype": "text/x-python",
   "name": "python",
   "nbconvert_exporter": "python",
   "pygments_lexer": "ipython3",
   "version": "3.8.18"
  }
 },
 "nbformat": 4,
 "nbformat_minor": 2
}

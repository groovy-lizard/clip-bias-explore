{
 "cells": [
  {
   "cell_type": "markdown",
   "metadata": {},
   "source": [
    "# Gender Predictions Exploratory Data Analysis"
   ]
  },
  {
   "cell_type": "markdown",
   "metadata": {},
   "source": [
    "## Imports"
   ]
  },
  {
   "cell_type": "code",
   "execution_count": 3,
   "metadata": {},
   "outputs": [],
   "source": [
    "import json\n",
    "import pandas as pd\n",
    "import matplotlib.pyplot as plt\n",
    "import numpy as np\n",
    "from sklearn.metrics import accuracy_score\n",
    "from sklearn.metrics import confusion_matrix, ConfusionMatrixDisplay\n",
    "\n",
    "%matplotlib inline"
   ]
  },
  {
   "cell_type": "code",
   "execution_count": 4,
   "metadata": {},
   "outputs": [],
   "source": [
    "# fface_df = pd.read_csv(\"../data/fface_train.csv\")\n",
    "synms_gender_preds_df = pd.read_csv(\"../data/synms_gender_preds_fface.csv\")"
   ]
  },
  {
   "cell_type": "markdown",
   "metadata": {},
   "source": [
    "## Preprocess"
   ]
  },
  {
   "cell_type": "code",
   "execution_count": 5,
   "metadata": {},
   "outputs": [],
   "source": [
    "with open('../data/synms_gender_labels.json', encoding='utf-8') as json_data:\n",
    "    data = json.load(json_data)\n",
    "    fface_classes = list(data.keys())\n",
    "    fface_prompts = list(data.values())"
   ]
  },
  {
   "cell_type": "code",
   "execution_count": 11,
   "metadata": {},
   "outputs": [
    {
     "data": {
      "text/plain": [
       "False"
      ]
     },
     "execution_count": 11,
     "metadata": {},
     "output_type": "execute_result"
    }
   ],
   "source": [
    "'gentleman' in data['Female']"
   ]
  },
  {
   "cell_type": "code",
   "execution_count": 6,
   "metadata": {},
   "outputs": [
    {
     "name": "stdout",
     "output_type": "stream",
     "text": [
      "['Male', 'Female']\n",
      "[['gentleman', 'young man', 'adult male', 'male person', 'old man', 'patriarch', 'male', 'man', 'sir', 'dude', 'guy', 'boy', 'young boy', 'middle-aged man', 'brother', 'father', 'grandfather', 'grandpa', 'old geezer'], ['girl', 'missy', 'fancy woman', 'old woman', 'young woman', 'woman', 'female person', 'lady', 'young lady', 'adult female', 'madam', 'matriarch', 'miss', 'female', 'sister', 'mother', 'grandmother', 'grandma', 'granny']]\n"
     ]
    }
   ],
   "source": [
    "print(fface_classes)\n",
    "print(fface_prompts)"
   ]
  },
  {
   "cell_type": "markdown",
   "metadata": {},
   "source": [
    "## Initial EDA"
   ]
  },
  {
   "cell_type": "code",
   "execution_count": 12,
   "metadata": {},
   "outputs": [
    {
     "name": "stdout",
     "output_type": "stream",
     "text": [
      "(10954, 6)\n"
     ]
    },
    {
     "data": {
      "text/html": [
       "<div>\n",
       "<style scoped>\n",
       "    .dataframe tbody tr th:only-of-type {\n",
       "        vertical-align: middle;\n",
       "    }\n",
       "\n",
       "    .dataframe tbody tr th {\n",
       "        vertical-align: top;\n",
       "    }\n",
       "\n",
       "    .dataframe thead th {\n",
       "        text-align: right;\n",
       "    }\n",
       "</style>\n",
       "<table border=\"1\" class=\"dataframe\">\n",
       "  <thead>\n",
       "    <tr style=\"text-align: right;\">\n",
       "      <th></th>\n",
       "      <th>file</th>\n",
       "      <th>age</th>\n",
       "      <th>gender</th>\n",
       "      <th>race</th>\n",
       "      <th>service_test</th>\n",
       "      <th>gender_preds</th>\n",
       "    </tr>\n",
       "  </thead>\n",
       "  <tbody>\n",
       "    <tr>\n",
       "      <th>0</th>\n",
       "      <td>val/1.jpg</td>\n",
       "      <td>3-9</td>\n",
       "      <td>Male</td>\n",
       "      <td>East Asian</td>\n",
       "      <td>False</td>\n",
       "      <td>young boy</td>\n",
       "    </tr>\n",
       "    <tr>\n",
       "      <th>1</th>\n",
       "      <td>val/2.jpg</td>\n",
       "      <td>50-59</td>\n",
       "      <td>Female</td>\n",
       "      <td>East Asian</td>\n",
       "      <td>True</td>\n",
       "      <td>female person</td>\n",
       "    </tr>\n",
       "    <tr>\n",
       "      <th>2</th>\n",
       "      <td>val/3.jpg</td>\n",
       "      <td>30-39</td>\n",
       "      <td>Male</td>\n",
       "      <td>White</td>\n",
       "      <td>True</td>\n",
       "      <td>middle-aged man</td>\n",
       "    </tr>\n",
       "    <tr>\n",
       "      <th>3</th>\n",
       "      <td>val/4.jpg</td>\n",
       "      <td>20-29</td>\n",
       "      <td>Female</td>\n",
       "      <td>Latino_Hispanic</td>\n",
       "      <td>True</td>\n",
       "      <td>female person</td>\n",
       "    </tr>\n",
       "    <tr>\n",
       "      <th>4</th>\n",
       "      <td>val/5.jpg</td>\n",
       "      <td>20-29</td>\n",
       "      <td>Male</td>\n",
       "      <td>Southeast Asian</td>\n",
       "      <td>False</td>\n",
       "      <td>man</td>\n",
       "    </tr>\n",
       "  </tbody>\n",
       "</table>\n",
       "</div>"
      ],
      "text/plain": [
       "        file    age  gender             race  service_test     gender_preds\n",
       "0  val/1.jpg    3-9    Male       East Asian         False        young boy\n",
       "1  val/2.jpg  50-59  Female       East Asian          True    female person\n",
       "2  val/3.jpg  30-39    Male            White          True  middle-aged man\n",
       "3  val/4.jpg  20-29  Female  Latino_Hispanic          True    female person\n",
       "4  val/5.jpg  20-29    Male  Southeast Asian         False              man"
      ]
     },
     "execution_count": 12,
     "metadata": {},
     "output_type": "execute_result"
    }
   ],
   "source": [
    "print(synms_gender_preds_df.shape)\n",
    "synms_gender_preds_df.head()"
   ]
  },
  {
   "cell_type": "code",
   "execution_count": 13,
   "metadata": {},
   "outputs": [
    {
     "name": "stdout",
     "output_type": "stream",
     "text": [
      "Hole dataset race proportions\n"
     ]
    },
    {
     "data": {
      "text/plain": [
       "race\n",
       "White              19.0%\n",
       "Latino_Hispanic    14.8%\n",
       "Black              14.2%\n",
       "East Asian         14.2%\n",
       "Indian             13.8%\n",
       "Southeast Asian    12.9%\n",
       "Middle Eastern     11.0%\n",
       "Name: proportion, dtype: object"
      ]
     },
     "execution_count": 13,
     "metadata": {},
     "output_type": "execute_result"
    }
   ],
   "source": [
    "print('Hole dataset race proportions')\n",
    "synms_gender_preds_df.race.value_counts(\n",
    "    normalize=True).mul(100).round(1).astype(str) + '%'"
   ]
  },
  {
   "cell_type": "code",
   "execution_count": 14,
   "metadata": {},
   "outputs": [
    {
     "data": {
      "text/plain": [
       "race\n",
       "White              2085\n",
       "Latino_Hispanic    1623\n",
       "Black              1556\n",
       "East Asian         1550\n",
       "Indian             1516\n",
       "Southeast Asian    1415\n",
       "Middle Eastern     1209\n",
       "Name: count, dtype: int64"
      ]
     },
     "execution_count": 14,
     "metadata": {},
     "output_type": "execute_result"
    }
   ],
   "source": [
    "synms_gender_preds_df.race.value_counts()"
   ]
  },
  {
   "cell_type": "code",
   "execution_count": 15,
   "metadata": {},
   "outputs": [
    {
     "name": "stdout",
     "output_type": "stream",
     "text": [
      "Hole dataset gender proportions\n"
     ]
    },
    {
     "data": {
      "text/plain": [
       "gender\n",
       "Male      52.9%\n",
       "Female    47.1%\n",
       "Name: proportion, dtype: object"
      ]
     },
     "execution_count": 15,
     "metadata": {},
     "output_type": "execute_result"
    }
   ],
   "source": [
    "print('Hole dataset gender proportions')\n",
    "synms_gender_preds_df.gender.value_counts(\n",
    "    normalize=True).mul(100).round(1).astype(str) + '%'"
   ]
  },
  {
   "cell_type": "code",
   "execution_count": 16,
   "metadata": {},
   "outputs": [
    {
     "data": {
      "text/plain": [
       "gender\n",
       "Male      5792\n",
       "Female    5162\n",
       "Name: count, dtype: int64"
      ]
     },
     "execution_count": 16,
     "metadata": {},
     "output_type": "execute_result"
    }
   ],
   "source": [
    "synms_gender_preds_df.gender.value_counts()"
   ]
  },
  {
   "cell_type": "markdown",
   "metadata": {},
   "source": [
    "### Binary Gender Predictions"
   ]
  },
  {
   "cell_type": "code",
   "execution_count": 17,
   "metadata": {},
   "outputs": [
    {
     "name": "stdout",
     "output_type": "stream",
     "text": [
      "Gender predictions proportions\n"
     ]
    },
    {
     "data": {
      "text/plain": [
       "gender_preds\n",
       "female person      30.2%\n",
       "middle-aged man    22.0%\n",
       "young boy           8.8%\n",
       "male person         8.5%\n",
       "boy                 5.3%\n",
       "grandmother         3.7%\n",
       "mother              2.5%\n",
       "girl                2.4%\n",
       "grandfather         1.9%\n",
       "young woman         1.8%\n",
       "guy                 1.7%\n",
       "man                 1.5%\n",
       "young man           1.2%\n",
       "father              1.2%\n",
       "young lady          1.0%\n",
       "old woman           1.0%\n",
       "woman               0.9%\n",
       "male                0.8%\n",
       "madam               0.8%\n",
       "missy               0.4%\n",
       "sister              0.4%\n",
       "miss                0.3%\n",
       "old geezer          0.3%\n",
       "brother             0.2%\n",
       "old man             0.2%\n",
       "grandpa             0.2%\n",
       "grandma             0.2%\n",
       "matriarch           0.1%\n",
       "fancy woman         0.1%\n",
       "sir                 0.1%\n",
       "granny              0.1%\n",
       "female              0.0%\n",
       "patriarch           0.0%\n",
       "adult male          0.0%\n",
       "dude                0.0%\n",
       "Name: proportion, dtype: object"
      ]
     },
     "execution_count": 17,
     "metadata": {},
     "output_type": "execute_result"
    }
   ],
   "source": [
    "print('Gender predictions proportions')\n",
    "synms_gender_preds_df.gender_preds.value_counts(\n",
    "    normalize=True).mul(100).round(1).astype(str) + '%'"
   ]
  },
  {
   "cell_type": "code",
   "execution_count": 18,
   "metadata": {},
   "outputs": [
    {
     "data": {
      "text/plain": [
       "gender_preds\n",
       "female person      3311\n",
       "middle-aged man    2410\n",
       "young boy           959\n",
       "male person         935\n",
       "boy                 581\n",
       "grandmother         409\n",
       "mother              275\n",
       "girl                259\n",
       "grandfather         210\n",
       "young woman         202\n",
       "guy                 188\n",
       "man                 164\n",
       "young man           130\n",
       "father              128\n",
       "young lady          114\n",
       "old woman           105\n",
       "woman                97\n",
       "male                 90\n",
       "madam                88\n",
       "missy                49\n",
       "sister               40\n",
       "miss                 36\n",
       "old geezer           35\n",
       "brother              26\n",
       "old man              26\n",
       "grandpa              22\n",
       "grandma              18\n",
       "matriarch            14\n",
       "fancy woman          12\n",
       "sir                   9\n",
       "granny                7\n",
       "female                2\n",
       "patriarch             1\n",
       "adult male            1\n",
       "dude                  1\n",
       "Name: count, dtype: int64"
      ]
     },
     "execution_count": 18,
     "metadata": {},
     "output_type": "execute_result"
    }
   ],
   "source": [
    "synms_gender_preds_df.gender_preds.value_counts()"
   ]
  },
  {
   "cell_type": "code",
   "execution_count": null,
   "metadata": {},
   "outputs": [],
   "source": [
    "# TODO: synms to gender function mapping"
   ]
  },
  {
   "cell_type": "code",
   "execution_count": 14,
   "metadata": {},
   "outputs": [],
   "source": [
    "gender_preds_misses = synms_gender_preds_df[synms_gender_preds_df['gender']\n",
    "                                          != synms_gender_preds_df['gender_preds']]"
   ]
  },
  {
   "cell_type": "code",
   "execution_count": 15,
   "metadata": {},
   "outputs": [
    {
     "name": "stdout",
     "output_type": "stream",
     "text": [
      "gender_preds misses count: 541\n",
      "gender_preds accuracy score: 0.95\n"
     ]
    }
   ],
   "source": [
    "gender_preds_acc = accuracy_score(\n",
    "    raw_gender_preds_df['gender'], raw_gender_preds_df['gender_preds'])\n",
    "print(f\"gender_preds misses count: {len(gender_preds_misses)}\")\n",
    "print(f\"gender_preds accuracy score: {round(gender_preds_acc, 2)}\")"
   ]
  },
  {
   "cell_type": "code",
   "execution_count": 24,
   "metadata": {},
   "outputs": [
    {
     "name": "stdout",
     "output_type": "stream",
     "text": [
      "male predictions accuracy score: 0.94\n"
     ]
    }
   ],
   "source": [
    "male_preds_acc = accuracy_score(\n",
    "    raw_gender_preds_df[raw_gender_preds_df['gender'] == 'Male']['gender'], raw_gender_preds_df[raw_gender_preds_df['gender'] == 'Male']['gender_preds']\n",
    ")\n",
    "print(f\"male predictions accuracy score: {round(male_preds_acc, 2)}\")"
   ]
  },
  {
   "cell_type": "code",
   "execution_count": 25,
   "metadata": {},
   "outputs": [
    {
     "name": "stdout",
     "output_type": "stream",
     "text": [
      "female predictions accuracy score: 0.96\n"
     ]
    }
   ],
   "source": [
    "female_preds_acc = accuracy_score(\n",
    "    raw_gender_preds_df[raw_gender_preds_df['gender'] ==\n",
    "                        'Female']['gender'], raw_gender_preds_df[raw_gender_preds_df['gender'] == 'Female']['gender_preds']\n",
    ")\n",
    "print(f\"female predictions accuracy score: {round(female_preds_acc, 2)}\")"
   ]
  },
  {
   "cell_type": "markdown",
   "metadata": {},
   "source": [
    "## Plots"
   ]
  },
  {
   "cell_type": "code",
   "execution_count": 86,
   "metadata": {},
   "outputs": [
    {
     "name": "stdout",
     "output_type": "stream",
     "text": [
      "Gender predictions confusion matrix\n"
     ]
    },
    {
     "data": {
      "text/plain": [
       "<sklearn.metrics._plot.confusion_matrix.ConfusionMatrixDisplay at 0x7f21af6bfeb0>"
      ]
     },
     "execution_count": 86,
     "metadata": {},
     "output_type": "execute_result"
    },
    {
     "data": {
      "image/png": "[encoded data removed]",
      "text/plain": [
       "<Figure size 640x480 with 2 Axes>"
      ]
     },
     "metadata": {},
     "output_type": "display_data"
    }
   ],
   "source": [
    "y_test = gender_preds_df['gender'].to_numpy()\n",
    "binary_gender_predictions = gender_preds_df['gender_preds'].to_numpy()\n",
    "gender_labels = ['Male', 'Female']\n",
    "cm = confusion_matrix(y_test, binary_gender_predictions, labels=gender_labels)\n",
    "disp = ConfusionMatrixDisplay(\n",
    "    confusion_matrix=cm, display_labels=gender_labels)\n",
    "print(\"Gender predictions confusion matrix\")\n",
    "disp.plot()"
   ]
  },
  {
   "cell_type": "code",
   "execution_count": 87,
   "metadata": {},
   "outputs": [
    {
     "name": "stdout",
     "output_type": "stream",
     "text": [
      "Synonyms Gender predictions confusion matrix\n"
     ]
    },
    {
     "data": {
      "text/plain": [
       "<sklearn.metrics._plot.confusion_matrix.ConfusionMatrixDisplay at 0x7f21af6c6370>"
      ]
     },
     "execution_count": 87,
     "metadata": {},
     "output_type": "execute_result"
    },
    {
     "data": {
      "image/png": "[encoded data removed]",
      "text/plain": [
       "<Figure size 640x480 with 2 Axes>"
      ]
     },
     "metadata": {},
     "output_type": "display_data"
    }
   ],
   "source": [
    "y_test = gender_preds_df['gender'].to_numpy()\n",
    "synonyms_gender_predictions = binary_synms_preds_series.to_numpy()\n",
    "gender_labels = ['Male', 'Female']\n",
    "cm = confusion_matrix(y_test, synonyms_gender_predictions, labels=gender_labels)\n",
    "disp = ConfusionMatrixDisplay(\n",
    "    confusion_matrix=cm, display_labels=gender_labels)\n",
    "print(\"Synonyms Gender predictions confusion matrix\")\n",
    "disp.plot()"
   ]
  },
  {
   "cell_type": "code",
   "execution_count": 113,
   "metadata": {},
   "outputs": [
    {
     "data": {
      "image/png": "[encoded data removed]",
      "text/plain": [
       "<Figure size 640x480 with 1 Axes>"
      ]
     },
     "metadata": {},
     "output_type": "display_data"
    }
   ],
   "source": [
    "fig, ax = plt.subplots()\n",
    "\n",
    "races = gender_preds_df['race'].unique()\n",
    "races.sort()\n",
    "counts = gender_preds_df[gender_preds_df['gender_preds'] == 'Male']['race'].value_counts().sort_index()\n",
    "race_labels = races.copy()\n",
    "bar_colors = ['tab:red', 'tab:blue', 'tab:green',\n",
    "              'tab:orange', 'tab:purple', 'tab:olive', 'tab:brown']\n",
    "\n",
    "ax.bar(races, counts, label=race_labels, color=bar_colors)\n",
    "\n",
    "ax.set_ylabel('predicted races')\n",
    "ax.set_title('Male predictions by race')\n",
    "ax.legend(title='race')\n",
    "ax.figure.autofmt_xdate()\n",
    "\n",
    "plt.show()"
   ]
  },
  {
   "cell_type": "code",
   "execution_count": 110,
   "metadata": {},
   "outputs": [
    {
     "data": {
      "text/plain": [
       "array(['Black', 'East Asian', 'Indian', 'Latino_Hispanic',\n",
       "       'Middle Eastern', 'Southeast Asian', 'White'], dtype=object)"
      ]
     },
     "execution_count": 110,
     "metadata": {},
     "output_type": "execute_result"
    }
   ],
   "source": [
    "races"
   ]
  },
  {
   "cell_type": "code",
   "execution_count": 107,
   "metadata": {},
   "outputs": [
    {
     "data": {
      "text/plain": [
       "race\n",
       "Black              5765\n",
       "East Asian         5722\n",
       "Indian             6051\n",
       "Latino_Hispanic    6586\n",
       "Middle Eastern     6348\n",
       "Southeast Asian    4995\n",
       "White              8725\n",
       "Name: count, dtype: int64"
      ]
     },
     "execution_count": 107,
     "metadata": {},
     "output_type": "execute_result"
    }
   ],
   "source": [
    "counts.sort_index()"
   ]
  }
 ],
 "metadata": {
  "kernelspec": {
   "display_name": "clipenv",
   "language": "python",
   "name": "python3"
  },
  "language_info": {
   "codemirror_mode": {
    "name": "ipython",
    "version": 3
   },
   "file_extension": ".py",
   "mimetype": "text/x-python",
   "name": "python",
   "nbconvert_exporter": "python",
   "pygments_lexer": "ipython3",
   "version": "3.8.18"
  }
 },
 "nbformat": 4,
 "nbformat_minor": 2
}

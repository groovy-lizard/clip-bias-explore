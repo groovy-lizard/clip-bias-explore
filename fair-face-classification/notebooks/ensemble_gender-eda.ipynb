{
 "cells": [
  {
   "cell_type": "markdown",
   "metadata": {},
   "source": [
    "# Gender Predictions Exploratory Data Analysis"
   ]
  },
  {
   "cell_type": "markdown",
   "metadata": {},
   "source": [
    "## Imports"
   ]
  },
  {
   "cell_type": "code",
   "execution_count": 3,
   "metadata": {},
   "outputs": [],
   "source": [
    "import json\n",
    "import pandas as pd\n",
    "import matplotlib.pyplot as plt\n",
    "import numpy as np\n",
    "from sklearn.metrics import accuracy_score\n",
    "from sklearn.metrics import confusion_matrix, ConfusionMatrixDisplay\n",
    "\n",
    "%matplotlib inline"
   ]
  },
  {
   "cell_type": "code",
   "execution_count": 4,
   "metadata": {},
   "outputs": [],
   "source": [
    "# fface_df = pd.read_csv(\"../data/fface_train.csv\")\n",
    "raw_gender_preds_df = pd.read_csv(\"../data/ensemble_preds.csv\")"
   ]
  },
  {
   "cell_type": "markdown",
   "metadata": {},
   "source": [
    "## Preprocess"
   ]
  },
  {
   "cell_type": "code",
   "execution_count": 5,
   "metadata": {},
   "outputs": [],
   "source": [
    "def prepare_age(df):\n",
    "    \"\"\"Prepares the age column from obj to integer\n",
    "    by applying the average between the age range\"\"\"\n",
    "    age_dict = dict()\n",
    "    new_df = df.copy()\n",
    "\n",
    "    for idx, values in new_df.iterrows():\n",
    "        if values.age == 'more than 70':\n",
    "            age_dict[idx] = 75\n",
    "            continue\n",
    "        age_arr = values.age.split('-')\n",
    "        num_age_arr = [int(num) for num in age_arr]\n",
    "        age_dict[idx] = np.mean(num_age_arr)\n",
    "    \n",
    "    for key, value in age_dict.items():\n",
    "        new_df.at[key, 'age'] = value\n",
    "    \n",
    "    return new_df"
   ]
  },
  {
   "cell_type": "code",
   "execution_count": 6,
   "metadata": {},
   "outputs": [],
   "source": [
    "with open('../data/raw_gender_labels.json', encoding='utf-8') as json_data:\n",
    "    data = json.load(json_data)\n",
    "    fface_classes = list(data.keys())\n",
    "    fface_prompts = list(data.values())"
   ]
  },
  {
   "cell_type": "code",
   "execution_count": 7,
   "metadata": {},
   "outputs": [
    {
     "name": "stdout",
     "output_type": "stream",
     "text": [
      "['Male', 'Female']\n",
      "['a photo of a man', 'a photo of a woman']\n"
     ]
    }
   ],
   "source": [
    "print(fface_classes)\n",
    "print(fface_prompts)"
   ]
  },
  {
   "cell_type": "code",
   "execution_count": 8,
   "metadata": {},
   "outputs": [],
   "source": [
    "# fface_df = prepare_age(fface_df)\n",
    "# gender_preds_df = prepare_age(gender_preds_df)"
   ]
  },
  {
   "cell_type": "markdown",
   "metadata": {},
   "source": [
    "## Initial EDA"
   ]
  },
  {
   "cell_type": "code",
   "execution_count": 9,
   "metadata": {},
   "outputs": [
    {
     "name": "stdout",
     "output_type": "stream",
     "text": [
      "(10954, 6)\n"
     ]
    },
    {
     "data": {
      "text/html": [
       "<div>\n",
       "<style scoped>\n",
       "    .dataframe tbody tr th:only-of-type {\n",
       "        vertical-align: middle;\n",
       "    }\n",
       "\n",
       "    .dataframe tbody tr th {\n",
       "        vertical-align: top;\n",
       "    }\n",
       "\n",
       "    .dataframe thead th {\n",
       "        text-align: right;\n",
       "    }\n",
       "</style>\n",
       "<table border=\"1\" class=\"dataframe\">\n",
       "  <thead>\n",
       "    <tr style=\"text-align: right;\">\n",
       "      <th></th>\n",
       "      <th>file</th>\n",
       "      <th>age</th>\n",
       "      <th>gender</th>\n",
       "      <th>race</th>\n",
       "      <th>service_test</th>\n",
       "      <th>gender_preds</th>\n",
       "    </tr>\n",
       "  </thead>\n",
       "  <tbody>\n",
       "    <tr>\n",
       "      <th>0</th>\n",
       "      <td>val/1.jpg</td>\n",
       "      <td>3-9</td>\n",
       "      <td>Male</td>\n",
       "      <td>East Asian</td>\n",
       "      <td>False</td>\n",
       "      <td>Male</td>\n",
       "    </tr>\n",
       "    <tr>\n",
       "      <th>1</th>\n",
       "      <td>val/2.jpg</td>\n",
       "      <td>50-59</td>\n",
       "      <td>Female</td>\n",
       "      <td>East Asian</td>\n",
       "      <td>True</td>\n",
       "      <td>Female</td>\n",
       "    </tr>\n",
       "    <tr>\n",
       "      <th>2</th>\n",
       "      <td>val/3.jpg</td>\n",
       "      <td>30-39</td>\n",
       "      <td>Male</td>\n",
       "      <td>White</td>\n",
       "      <td>True</td>\n",
       "      <td>Male</td>\n",
       "    </tr>\n",
       "    <tr>\n",
       "      <th>3</th>\n",
       "      <td>val/4.jpg</td>\n",
       "      <td>20-29</td>\n",
       "      <td>Female</td>\n",
       "      <td>Latino_Hispanic</td>\n",
       "      <td>True</td>\n",
       "      <td>Female</td>\n",
       "    </tr>\n",
       "    <tr>\n",
       "      <th>4</th>\n",
       "      <td>val/5.jpg</td>\n",
       "      <td>20-29</td>\n",
       "      <td>Male</td>\n",
       "      <td>Southeast Asian</td>\n",
       "      <td>False</td>\n",
       "      <td>Male</td>\n",
       "    </tr>\n",
       "  </tbody>\n",
       "</table>\n",
       "</div>"
      ],
      "text/plain": [
       "        file    age  gender             race  service_test gender_preds\n",
       "0  val/1.jpg    3-9    Male       East Asian         False         Male\n",
       "1  val/2.jpg  50-59  Female       East Asian          True       Female\n",
       "2  val/3.jpg  30-39    Male            White          True         Male\n",
       "3  val/4.jpg  20-29  Female  Latino_Hispanic          True       Female\n",
       "4  val/5.jpg  20-29    Male  Southeast Asian         False         Male"
      ]
     },
     "execution_count": 9,
     "metadata": {},
     "output_type": "execute_result"
    }
   ],
   "source": [
    "print(raw_gender_preds_df.shape)\n",
    "raw_gender_preds_df.head()"
   ]
  },
  {
   "cell_type": "code",
   "execution_count": 10,
   "metadata": {},
   "outputs": [
    {
     "name": "stdout",
     "output_type": "stream",
     "text": [
      "Hole dataset race proportions\n"
     ]
    },
    {
     "data": {
      "text/plain": [
       "race\n",
       "White              19.0%\n",
       "Latino_Hispanic    14.8%\n",
       "Black              14.2%\n",
       "East Asian         14.2%\n",
       "Indian             13.8%\n",
       "Southeast Asian    12.9%\n",
       "Middle Eastern     11.0%\n",
       "Name: proportion, dtype: object"
      ]
     },
     "execution_count": 10,
     "metadata": {},
     "output_type": "execute_result"
    }
   ],
   "source": [
    "print('Hole dataset race proportions')\n",
    "raw_gender_preds_df.race.value_counts(\n",
    "    normalize=True).mul(100).round(1).astype(str) + '%'"
   ]
  },
  {
   "cell_type": "code",
   "execution_count": 11,
   "metadata": {},
   "outputs": [
    {
     "data": {
      "text/plain": [
       "race\n",
       "White              2085\n",
       "Latino_Hispanic    1623\n",
       "Black              1556\n",
       "East Asian         1550\n",
       "Indian             1516\n",
       "Southeast Asian    1415\n",
       "Middle Eastern     1209\n",
       "Name: count, dtype: int64"
      ]
     },
     "execution_count": 11,
     "metadata": {},
     "output_type": "execute_result"
    }
   ],
   "source": [
    "raw_gender_preds_df.race.value_counts()"
   ]
  },
  {
   "cell_type": "code",
   "execution_count": 12,
   "metadata": {},
   "outputs": [
    {
     "name": "stdout",
     "output_type": "stream",
     "text": [
      "Hole dataset gender proportions\n"
     ]
    },
    {
     "data": {
      "text/plain": [
       "gender\n",
       "Male      52.9%\n",
       "Female    47.1%\n",
       "Name: proportion, dtype: object"
      ]
     },
     "execution_count": 12,
     "metadata": {},
     "output_type": "execute_result"
    }
   ],
   "source": [
    "print('Hole dataset gender proportions')\n",
    "raw_gender_preds_df.gender.value_counts(\n",
    "    normalize=True).mul(100).round(1).astype(str) + '%'"
   ]
  },
  {
   "cell_type": "code",
   "execution_count": 13,
   "metadata": {},
   "outputs": [
    {
     "data": {
      "text/plain": [
       "gender\n",
       "Male      5792\n",
       "Female    5162\n",
       "Name: count, dtype: int64"
      ]
     },
     "execution_count": 13,
     "metadata": {},
     "output_type": "execute_result"
    }
   ],
   "source": [
    "raw_gender_preds_df.gender.value_counts()"
   ]
  },
  {
   "cell_type": "markdown",
   "metadata": {},
   "source": [
    "### Binary Gender Predictions"
   ]
  },
  {
   "cell_type": "code",
   "execution_count": 14,
   "metadata": {},
   "outputs": [
    {
     "name": "stdout",
     "output_type": "stream",
     "text": [
      "Gender predictions proportions\n"
     ]
    },
    {
     "data": {
      "text/plain": [
       "gender_preds\n",
       "Male      54.8%\n",
       "Female    45.2%\n",
       "Name: proportion, dtype: object"
      ]
     },
     "execution_count": 14,
     "metadata": {},
     "output_type": "execute_result"
    }
   ],
   "source": [
    "print('Gender predictions proportions')\n",
    "raw_gender_preds_df.gender_preds.value_counts(\n",
    "    normalize=True).mul(100).round(1).astype(str) + '%'"
   ]
  },
  {
   "cell_type": "code",
   "execution_count": 15,
   "metadata": {},
   "outputs": [
    {
     "data": {
      "text/plain": [
       "gender_preds\n",
       "Male      6001\n",
       "Female    4953\n",
       "Name: count, dtype: int64"
      ]
     },
     "execution_count": 15,
     "metadata": {},
     "output_type": "execute_result"
    }
   ],
   "source": [
    "raw_gender_preds_df.gender_preds.value_counts()"
   ]
  },
  {
   "cell_type": "code",
   "execution_count": 16,
   "metadata": {},
   "outputs": [],
   "source": [
    "gender_preds_misses = raw_gender_preds_df[raw_gender_preds_df['gender']\n",
    "                                          != raw_gender_preds_df['gender_preds']]"
   ]
  },
  {
   "cell_type": "code",
   "execution_count": 17,
   "metadata": {},
   "outputs": [
    {
     "name": "stdout",
     "output_type": "stream",
     "text": [
      "gender_preds misses count: 579\n",
      "gender_preds accuracy score: 0.95\n"
     ]
    }
   ],
   "source": [
    "gender_preds_acc = accuracy_score(\n",
    "    raw_gender_preds_df['gender'], raw_gender_preds_df['gender_preds'])\n",
    "print(f\"gender_preds misses count: {len(gender_preds_misses)}\")\n",
    "print(f\"gender_preds accuracy score: {round(gender_preds_acc, 2)}\")"
   ]
  },
  {
   "cell_type": "code",
   "execution_count": 18,
   "metadata": {},
   "outputs": [
    {
     "name": "stdout",
     "output_type": "stream",
     "text": [
      "male predictions accuracy score: 0.97\n"
     ]
    }
   ],
   "source": [
    "male_preds_acc = accuracy_score(\n",
    "    raw_gender_preds_df[raw_gender_preds_df['gender'] == 'Male']['gender'], raw_gender_preds_df[raw_gender_preds_df['gender'] == 'Male']['gender_preds']\n",
    ")\n",
    "print(f\"male predictions accuracy score: {round(male_preds_acc, 2)}\")"
   ]
  },
  {
   "cell_type": "code",
   "execution_count": 19,
   "metadata": {},
   "outputs": [
    {
     "name": "stdout",
     "output_type": "stream",
     "text": [
      "female predictions accuracy score: 0.92\n"
     ]
    }
   ],
   "source": [
    "female_preds_acc = accuracy_score(\n",
    "    raw_gender_preds_df[raw_gender_preds_df['gender'] ==\n",
    "                        'Female']['gender'], raw_gender_preds_df[raw_gender_preds_df['gender'] == 'Female']['gender_preds']\n",
    ")\n",
    "print(f\"female predictions accuracy score: {round(female_preds_acc, 2)}\")"
   ]
  },
  {
   "cell_type": "code",
   "execution_count": 20,
   "metadata": {},
   "outputs": [
    {
     "name": "stdout",
     "output_type": "stream",
     "text": [
      "East Asian predictions accuracy: 0.95\n",
      "White predictions accuracy: 0.95\n",
      "Latino_Hispanic predictions accuracy: 0.95\n",
      "Southeast Asian predictions accuracy: 0.95\n",
      "Black predictions accuracy: 0.91\n",
      "Indian predictions accuracy: 0.95\n",
      "Middle Eastern predictions accuracy: 0.97\n"
     ]
    }
   ],
   "source": [
    "for race in raw_gender_preds_df['race'].unique():\n",
    "    race_df = raw_gender_preds_df[raw_gender_preds_df['race'] == race]\n",
    "    race_preds_acc = accuracy_score(race_df['gender'], race_df['gender_preds'])\n",
    "    print(f\"{race} predictions accuracy: {round(race_preds_acc, 2)}\")"
   ]
  },
  {
   "cell_type": "code",
   "execution_count": 21,
   "metadata": {},
   "outputs": [
    {
     "name": "stdout",
     "output_type": "stream",
     "text": [
      "Ages 3-9 predictions accuracy: 0.86\n",
      "Ages 50-59 predictions accuracy: 0.97\n",
      "Ages 30-39 predictions accuracy: 0.98\n",
      "Ages 20-29 predictions accuracy: 0.97\n",
      "Ages more than 70 predictions accuracy: 0.97\n",
      "Ages 40-49 predictions accuracy: 0.98\n",
      "Ages 10-19 predictions accuracy: 0.89\n",
      "Ages 60-69 predictions accuracy: 0.97\n",
      "Ages 0-2 predictions accuracy: 0.81\n"
     ]
    }
   ],
   "source": [
    "for age in raw_gender_preds_df['age'].unique():\n",
    "    age_df = raw_gender_preds_df[raw_gender_preds_df['age'] == age]\n",
    "    age_preds_acc = accuracy_score(age_df['gender'], age_df['gender_preds'])\n",
    "    print(f\"Ages {age} predictions accuracy: {round(age_preds_acc, 2)}\")"
   ]
  },
  {
   "cell_type": "markdown",
   "metadata": {},
   "source": [
    "## Plots"
   ]
  },
  {
   "cell_type": "code",
   "execution_count": 22,
   "metadata": {},
   "outputs": [
    {
     "ename": "NameError",
     "evalue": "name 'gender_preds_df' is not defined",
     "output_type": "error",
     "traceback": [
      "\u001b[0;31m---------------------------------------------------------------------------\u001b[0m",
      "\u001b[0;31mNameError\u001b[0m                                 Traceback (most recent call last)",
      "Cell \u001b[0;32mIn[22], line 1\u001b[0m\n\u001b[0;32m----> 1\u001b[0m y_test \u001b[38;5;241m=\u001b[39m \u001b[43mgender_preds_df\u001b[49m[\u001b[38;5;124m'\u001b[39m\u001b[38;5;124mgender\u001b[39m\u001b[38;5;124m'\u001b[39m]\u001b[38;5;241m.\u001b[39mto_numpy()\n\u001b[1;32m      2\u001b[0m binary_gender_predictions \u001b[38;5;241m=\u001b[39m gender_preds_df[\u001b[38;5;124m'\u001b[39m\u001b[38;5;124mgender_preds\u001b[39m\u001b[38;5;124m'\u001b[39m]\u001b[38;5;241m.\u001b[39mto_numpy()\n\u001b[1;32m      3\u001b[0m gender_labels \u001b[38;5;241m=\u001b[39m [\u001b[38;5;124m'\u001b[39m\u001b[38;5;124mMale\u001b[39m\u001b[38;5;124m'\u001b[39m, \u001b[38;5;124m'\u001b[39m\u001b[38;5;124mFemale\u001b[39m\u001b[38;5;124m'\u001b[39m]\n",
      "\u001b[0;31mNameError\u001b[0m: name 'gender_preds_df' is not defined"
     ]
    }
   ],
   "source": [
    "y_test = gender_preds_df['gender'].to_numpy()\n",
    "binary_gender_predictions = gender_preds_df['gender_preds'].to_numpy()\n",
    "gender_labels = ['Male', 'Female']\n",
    "cm = confusion_matrix(y_test, binary_gender_predictions, labels=gender_labels)\n",
    "disp = ConfusionMatrixDisplay(\n",
    "    confusion_matrix=cm, display_labels=gender_labels)\n",
    "print(\"Gender predictions confusion matrix\")\n",
    "disp.plot()"
   ]
  },
  {
   "cell_type": "code",
   "execution_count": null,
   "metadata": {},
   "outputs": [
    {
     "name": "stdout",
     "output_type": "stream",
     "text": [
      "Synonyms Gender predictions confusion matrix\n"
     ]
    },
    {
     "data": {
      "text/plain": [
       "<sklearn.metrics._plot.confusion_matrix.ConfusionMatrixDisplay at 0x7f21af6c6370>"
      ]
     },
     "execution_count": 87,
     "metadata": {},
     "output_type": "execute_result"
    },
    {
     "data": {
      "image/png": "[encoded data removed]",
      "text/plain": [
       "<Figure size 640x480 with 2 Axes>"
      ]
     },
     "metadata": {},
     "output_type": "display_data"
    }
   ],
   "source": [
    "y_test = gender_preds_df['gender'].to_numpy()\n",
    "synonyms_gender_predictions = binary_synms_preds_series.to_numpy()\n",
    "gender_labels = ['Male', 'Female']\n",
    "cm = confusion_matrix(y_test, synonyms_gender_predictions, labels=gender_labels)\n",
    "disp = ConfusionMatrixDisplay(\n",
    "    confusion_matrix=cm, display_labels=gender_labels)\n",
    "print(\"Synonyms Gender predictions confusion matrix\")\n",
    "disp.plot()"
   ]
  },
  {
   "cell_type": "code",
   "execution_count": null,
   "metadata": {},
   "outputs": [
    {
     "data": {
      "image/png": "[encoded data removed]",
      "text/plain": [
       "<Figure size 640x480 with 1 Axes>"
      ]
     },
     "metadata": {},
     "output_type": "display_data"
    }
   ],
   "source": [
    "fig, ax = plt.subplots()\n",
    "\n",
    "races = gender_preds_df['race'].unique()\n",
    "races.sort()\n",
    "counts = gender_preds_df[gender_preds_df['gender_preds'] == 'Male']['race'].value_counts().sort_index()\n",
    "race_labels = races.copy()\n",
    "bar_colors = ['tab:red', 'tab:blue', 'tab:green',\n",
    "              'tab:orange', 'tab:purple', 'tab:olive', 'tab:brown']\n",
    "\n",
    "ax.bar(races, counts, label=race_labels, color=bar_colors)\n",
    "\n",
    "ax.set_ylabel('predicted races')\n",
    "ax.set_title('Male predictions by race')\n",
    "ax.legend(title='race')\n",
    "ax.figure.autofmt_xdate()\n",
    "\n",
    "plt.show()"
   ]
  },
  {
   "cell_type": "code",
   "execution_count": null,
   "metadata": {},
   "outputs": [
    {
     "data": {
      "text/plain": [
       "array(['Black', 'East Asian', 'Indian', 'Latino_Hispanic',\n",
       "       'Middle Eastern', 'Southeast Asian', 'White'], dtype=object)"
      ]
     },
     "execution_count": 110,
     "metadata": {},
     "output_type": "execute_result"
    }
   ],
   "source": [
    "races"
   ]
  },
  {
   "cell_type": "code",
   "execution_count": null,
   "metadata": {},
   "outputs": [
    {
     "data": {
      "text/plain": [
       "race\n",
       "Black              5765\n",
       "East Asian         5722\n",
       "Indian             6051\n",
       "Latino_Hispanic    6586\n",
       "Middle Eastern     6348\n",
       "Southeast Asian    4995\n",
       "White              8725\n",
       "Name: count, dtype: int64"
      ]
     },
     "execution_count": 107,
     "metadata": {},
     "output_type": "execute_result"
    }
   ],
   "source": [
    "counts.sort_index()"
   ]
  }
 ],
 "metadata": {
  "kernelspec": {
   "display_name": "clipenv",
   "language": "python",
   "name": "python3"
  },
  "language_info": {
   "codemirror_mode": {
    "name": "ipython",
    "version": 3
   },
   "file_extension": ".py",
   "mimetype": "text/x-python",
   "name": "python",
   "nbconvert_exporter": "python",
   "pygments_lexer": "ipython3",
   "version": "3.8.18"
  }
 },
 "nbformat": 4,
 "nbformat_minor": 2
}

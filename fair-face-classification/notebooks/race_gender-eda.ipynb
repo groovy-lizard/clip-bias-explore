{
 "cells": [
  {
   "cell_type": "markdown",
   "metadata": {},
   "source": [
    "# Gender Predictions Exploratory Data Analysis"
   ]
  },
  {
   "cell_type": "markdown",
   "metadata": {},
   "source": [
    "## Imports"
   ]
  },
  {
   "cell_type": "code",
   "execution_count": 4,
   "metadata": {},
   "outputs": [],
   "source": [
    "import json\n",
    "import pandas as pd\n",
    "import matplotlib.pyplot as plt\n",
    "import numpy as np\n",
    "from sklearn.metrics import accuracy_score\n",
    "from sklearn.metrics import confusion_matrix, ConfusionMatrixDisplay\n",
    "\n",
    "%matplotlib inline"
   ]
  },
  {
   "cell_type": "code",
   "execution_count": 5,
   "metadata": {},
   "outputs": [],
   "source": [
    "# fface_df = pd.read_csv(\"../data/fface_train.csv\")\n",
    "race_gender_preds_df = pd.read_csv(\"../data/results/race_gender_preds_fface.csv\")"
   ]
  },
  {
   "cell_type": "markdown",
   "metadata": {},
   "source": [
    "## Preprocess"
   ]
  },
  {
   "cell_type": "code",
   "execution_count": 6,
   "metadata": {},
   "outputs": [],
   "source": [
    "with open('../data/labels/race_gender_labels.json', encoding='utf-8') as json_data:\n",
    "    data = json.load(json_data)\n",
    "    fface_classes = list(data.keys())\n",
    "    fface_prompts = list(data.values())"
   ]
  },
  {
   "cell_type": "code",
   "execution_count": 7,
   "metadata": {},
   "outputs": [
    {
     "name": "stdout",
     "output_type": "stream",
     "text": [
      "['White_Male', 'White_Female', 'Black_Male', 'Black_Female', 'Latino_Hispanic_Male', 'Latino_Hispanic_Female', 'East Asian_Male', 'East Asian_Female', 'Southeast Asian_Male', 'Southeast Asian_Female', 'Indian_Male', 'Indian_Female', 'Middle Eastern_Male', 'Middle Eastern_Female']\n",
      "['a photo of a white man', 'a photo of a white woman', 'a photo of a black man', 'a photo of a black woman', 'a photo of a latino man', 'a photo of a latino woman', 'a photo of an east asian man', 'a photo of an east asian woman', 'a photo of a southeast asian man', 'a photo of a southeast asian woman', 'a photo of an indian man', 'a photo of an indian woman', 'a photo of a middle eastern man', 'a photo of a middle eastern woman']\n"
     ]
    }
   ],
   "source": [
    "print(fface_classes)\n",
    "print(fface_prompts)"
   ]
  },
  {
   "cell_type": "code",
   "execution_count": 8,
   "metadata": {},
   "outputs": [],
   "source": [
    "# fface_df = prepare_age(fface_df)\n",
    "# gender_preds_df = prepare_age(gender_preds_df)"
   ]
  },
  {
   "cell_type": "markdown",
   "metadata": {},
   "source": [
    "## Initial EDA"
   ]
  },
  {
   "cell_type": "code",
   "execution_count": 9,
   "metadata": {},
   "outputs": [
    {
     "name": "stdout",
     "output_type": "stream",
     "text": [
      "(10954, 6)\n"
     ]
    },
    {
     "data": {
      "text/html": [
       "<div>\n",
       "<style scoped>\n",
       "    .dataframe tbody tr th:only-of-type {\n",
       "        vertical-align: middle;\n",
       "    }\n",
       "\n",
       "    .dataframe tbody tr th {\n",
       "        vertical-align: top;\n",
       "    }\n",
       "\n",
       "    .dataframe thead th {\n",
       "        text-align: right;\n",
       "    }\n",
       "</style>\n",
       "<table border=\"1\" class=\"dataframe\">\n",
       "  <thead>\n",
       "    <tr style=\"text-align: right;\">\n",
       "      <th></th>\n",
       "      <th>file</th>\n",
       "      <th>age</th>\n",
       "      <th>gender</th>\n",
       "      <th>race</th>\n",
       "      <th>service_test</th>\n",
       "      <th>gender_preds</th>\n",
       "    </tr>\n",
       "  </thead>\n",
       "  <tbody>\n",
       "    <tr>\n",
       "      <th>0</th>\n",
       "      <td>val/1.jpg</td>\n",
       "      <td>3-9</td>\n",
       "      <td>Male</td>\n",
       "      <td>East Asian</td>\n",
       "      <td>False</td>\n",
       "      <td>Southeast Asian_Male</td>\n",
       "    </tr>\n",
       "    <tr>\n",
       "      <th>1</th>\n",
       "      <td>val/2.jpg</td>\n",
       "      <td>50-59</td>\n",
       "      <td>Female</td>\n",
       "      <td>East Asian</td>\n",
       "      <td>True</td>\n",
       "      <td>East Asian_Female</td>\n",
       "    </tr>\n",
       "    <tr>\n",
       "      <th>2</th>\n",
       "      <td>val/3.jpg</td>\n",
       "      <td>30-39</td>\n",
       "      <td>Male</td>\n",
       "      <td>White</td>\n",
       "      <td>True</td>\n",
       "      <td>Latino_Hispanic_Male</td>\n",
       "    </tr>\n",
       "    <tr>\n",
       "      <th>3</th>\n",
       "      <td>val/4.jpg</td>\n",
       "      <td>20-29</td>\n",
       "      <td>Female</td>\n",
       "      <td>Latino_Hispanic</td>\n",
       "      <td>True</td>\n",
       "      <td>Latino_Hispanic_Female</td>\n",
       "    </tr>\n",
       "    <tr>\n",
       "      <th>4</th>\n",
       "      <td>val/5.jpg</td>\n",
       "      <td>20-29</td>\n",
       "      <td>Male</td>\n",
       "      <td>Southeast Asian</td>\n",
       "      <td>False</td>\n",
       "      <td>East Asian_Male</td>\n",
       "    </tr>\n",
       "  </tbody>\n",
       "</table>\n",
       "</div>"
      ],
      "text/plain": [
       "        file    age  gender             race  service_test  \\\n",
       "0  val/1.jpg    3-9    Male       East Asian         False   \n",
       "1  val/2.jpg  50-59  Female       East Asian          True   \n",
       "2  val/3.jpg  30-39    Male            White          True   \n",
       "3  val/4.jpg  20-29  Female  Latino_Hispanic          True   \n",
       "4  val/5.jpg  20-29    Male  Southeast Asian         False   \n",
       "\n",
       "             gender_preds  \n",
       "0    Southeast Asian_Male  \n",
       "1       East Asian_Female  \n",
       "2    Latino_Hispanic_Male  \n",
       "3  Latino_Hispanic_Female  \n",
       "4         East Asian_Male  "
      ]
     },
     "execution_count": 9,
     "metadata": {},
     "output_type": "execute_result"
    }
   ],
   "source": [
    "print(race_gender_preds_df.shape)\n",
    "race_gender_preds_df.head()"
   ]
  },
  {
   "cell_type": "code",
   "execution_count": 10,
   "metadata": {},
   "outputs": [
    {
     "name": "stdout",
     "output_type": "stream",
     "text": [
      "Hole dataset race proportions\n"
     ]
    },
    {
     "data": {
      "text/plain": [
       "race\n",
       "White              19.0%\n",
       "Latino_Hispanic    14.8%\n",
       "Black              14.2%\n",
       "East Asian         14.2%\n",
       "Indian             13.8%\n",
       "Southeast Asian    12.9%\n",
       "Middle Eastern     11.0%\n",
       "Name: proportion, dtype: object"
      ]
     },
     "execution_count": 10,
     "metadata": {},
     "output_type": "execute_result"
    }
   ],
   "source": [
    "print('Hole dataset race proportions')\n",
    "race_gender_preds_df.race.value_counts(\n",
    "    normalize=True).mul(100).round(1).astype(str) + '%'"
   ]
  },
  {
   "cell_type": "code",
   "execution_count": 11,
   "metadata": {},
   "outputs": [
    {
     "data": {
      "text/plain": [
       "race\n",
       "White              2085\n",
       "Latino_Hispanic    1623\n",
       "Black              1556\n",
       "East Asian         1550\n",
       "Indian             1516\n",
       "Southeast Asian    1415\n",
       "Middle Eastern     1209\n",
       "Name: count, dtype: int64"
      ]
     },
     "execution_count": 11,
     "metadata": {},
     "output_type": "execute_result"
    }
   ],
   "source": [
    "race_gender_preds_df.race.value_counts()"
   ]
  },
  {
   "cell_type": "code",
   "execution_count": 12,
   "metadata": {},
   "outputs": [
    {
     "name": "stdout",
     "output_type": "stream",
     "text": [
      "Hole dataset gender proportions\n"
     ]
    },
    {
     "data": {
      "text/plain": [
       "gender\n",
       "Male      52.9%\n",
       "Female    47.1%\n",
       "Name: proportion, dtype: object"
      ]
     },
     "execution_count": 12,
     "metadata": {},
     "output_type": "execute_result"
    }
   ],
   "source": [
    "print('Hole dataset gender proportions')\n",
    "race_gender_preds_df.gender.value_counts(\n",
    "    normalize=True).mul(100).round(1).astype(str) + '%'"
   ]
  },
  {
   "cell_type": "code",
   "execution_count": 13,
   "metadata": {},
   "outputs": [
    {
     "data": {
      "text/plain": [
       "gender\n",
       "Male      5792\n",
       "Female    5162\n",
       "Name: count, dtype: int64"
      ]
     },
     "execution_count": 13,
     "metadata": {},
     "output_type": "execute_result"
    }
   ],
   "source": [
    "race_gender_preds_df.gender.value_counts()"
   ]
  },
  {
   "cell_type": "code",
   "execution_count": 14,
   "metadata": {},
   "outputs": [],
   "source": [
    "def preds_to_gender(preds):\n",
    "    gender = preds.split(\"_\")[-1]\n",
    "    return gender"
   ]
  },
  {
   "cell_type": "code",
   "execution_count": 15,
   "metadata": {},
   "outputs": [],
   "source": [
    "gender_only_preds = race_gender_preds_df.gender_preds.map(preds_to_gender)"
   ]
  },
  {
   "cell_type": "code",
   "execution_count": 16,
   "metadata": {},
   "outputs": [],
   "source": [
    "gender_preds_df = race_gender_preds_df.copy()"
   ]
  },
  {
   "cell_type": "code",
   "execution_count": 17,
   "metadata": {},
   "outputs": [],
   "source": [
    "gender_preds_df['gender_preds'] = gender_only_preds"
   ]
  },
  {
   "cell_type": "code",
   "execution_count": 18,
   "metadata": {},
   "outputs": [
    {
     "name": "stdout",
     "output_type": "stream",
     "text": [
      "Gender predictions proportions\n"
     ]
    },
    {
     "data": {
      "text/plain": [
       "gender_preds\n",
       "Male      53.6%\n",
       "Female    46.4%\n",
       "Name: proportion, dtype: object"
      ]
     },
     "execution_count": 18,
     "metadata": {},
     "output_type": "execute_result"
    }
   ],
   "source": [
    "print('Gender predictions proportions')\n",
    "gender_preds_df.gender_preds.value_counts(\n",
    "    normalize=True).mul(100).round(1).astype(str) + '%'"
   ]
  },
  {
   "cell_type": "code",
   "execution_count": 19,
   "metadata": {},
   "outputs": [
    {
     "data": {
      "text/plain": [
       "gender_preds\n",
       "Male      5868\n",
       "Female    5086\n",
       "Name: count, dtype: int64"
      ]
     },
     "execution_count": 19,
     "metadata": {},
     "output_type": "execute_result"
    }
   ],
   "source": [
    "gender_preds_df.gender_preds.value_counts()"
   ]
  },
  {
   "cell_type": "code",
   "execution_count": 20,
   "metadata": {},
   "outputs": [],
   "source": [
    "gender_preds_misses = gender_preds_df[gender_preds_df['gender']\n",
    "                                          != gender_preds_df['gender_preds']]"
   ]
  },
  {
   "cell_type": "code",
   "execution_count": 21,
   "metadata": {},
   "outputs": [
    {
     "name": "stdout",
     "output_type": "stream",
     "text": [
      "gender_preds misses count: 534\n",
      "gender_preds accuracy score: 0.95\n"
     ]
    }
   ],
   "source": [
    "gender_preds_acc = accuracy_score(\n",
    "    gender_preds_df['gender'], gender_preds_df['gender_preds'])\n",
    "print(f\"gender_preds misses count: {len(gender_preds_misses)}\")\n",
    "print(f\"gender_preds accuracy score: {round(gender_preds_acc, 2)}\")"
   ]
  },
  {
   "cell_type": "code",
   "execution_count": 22,
   "metadata": {},
   "outputs": [
    {
     "name": "stdout",
     "output_type": "stream",
     "text": [
      "male predictions accuracy score: 0.96\n"
     ]
    }
   ],
   "source": [
    "male_preds_acc = accuracy_score(\n",
    "    gender_preds_df[gender_preds_df['gender'] == 'Male']['gender'], gender_preds_df[gender_preds_df['gender'] == 'Male']['gender_preds']\n",
    ")\n",
    "print(f\"male predictions accuracy score: {round(male_preds_acc, 2)}\")"
   ]
  },
  {
   "cell_type": "code",
   "execution_count": 23,
   "metadata": {},
   "outputs": [
    {
     "name": "stdout",
     "output_type": "stream",
     "text": [
      "female predictions accuracy score: 0.94\n"
     ]
    }
   ],
   "source": [
    "female_preds_acc = accuracy_score(\n",
    "    gender_preds_df[gender_preds_df['gender'] ==\n",
    "                        'Female']['gender'], gender_preds_df[gender_preds_df['gender'] == 'Female']['gender_preds']\n",
    ")\n",
    "print(f\"female predictions accuracy score: {round(female_preds_acc, 2)}\")"
   ]
  },
  {
   "cell_type": "markdown",
   "metadata": {},
   "source": [
    "## Plots"
   ]
  },
  {
   "cell_type": "code",
   "execution_count": 24,
   "metadata": {},
   "outputs": [
    {
     "name": "stdout",
     "output_type": "stream",
     "text": [
      "Gender predictions confusion matrix\n"
     ]
    },
    {
     "data": {
      "text/plain": [
       "<sklearn.metrics._plot.confusion_matrix.ConfusionMatrixDisplay at 0x7ffa55688730>"
      ]
     },
     "execution_count": 24,
     "metadata": {},
     "output_type": "execute_result"
    },
    {
     "data": {
      "image/png": "[encoded data removed]",
      "text/plain": [
       "<Figure size 640x480 with 2 Axes>"
      ]
     },
     "metadata": {},
     "output_type": "display_data"
    }
   ],
   "source": [
    "y_test = gender_preds_df['gender'].to_numpy()\n",
    "binary_gender_predictions = gender_preds_df['gender_preds'].to_numpy()\n",
    "gender_labels = ['Male', 'Female']\n",
    "cm = confusion_matrix(y_test, binary_gender_predictions, labels=gender_labels)\n",
    "disp = ConfusionMatrixDisplay(\n",
    "    confusion_matrix=cm, display_labels=gender_labels)\n",
    "print(\"Gender predictions confusion matrix\")\n",
    "disp.plot()"
   ]
  },
  {
   "cell_type": "code",
   "execution_count": 26,
   "metadata": {},
   "outputs": [
    {
     "data": {
      "image/png": "[encoded data removed]",
      "text/plain": [
       "<Figure size 640x480 with 1 Axes>"
      ]
     },
     "metadata": {},
     "output_type": "display_data"
    }
   ],
   "source": [
    "fig, ax = plt.subplots()\n",
    "\n",
    "races = gender_preds_df['race'].unique()\n",
    "races.sort()\n",
    "counts = gender_preds_df[gender_preds_df['gender_preds'] == 'Male']['race'].value_counts().sort_index()\n",
    "race_labels = races.copy()\n",
    "bar_colors = ['tab:red', 'tab:blue', 'tab:green',\n",
    "              'tab:orange', 'tab:purple', 'tab:olive', 'tab:brown']\n",
    "\n",
    "ax.bar(races, counts, label=race_labels, color=bar_colors)\n",
    "\n",
    "ax.set_ylabel('predicted races')\n",
    "ax.set_title('Male predictions by race')\n",
    "ax.legend(title='race')\n",
    "ax.figure.autofmt_xdate()\n",
    "\n",
    "plt.show()"
   ]
  },
  {
   "cell_type": "code",
   "execution_count": 27,
   "metadata": {},
   "outputs": [
    {
     "data": {
      "text/plain": [
       "array(['Black', 'East Asian', 'Indian', 'Latino_Hispanic',\n",
       "       'Middle Eastern', 'Southeast Asian', 'White'], dtype=object)"
      ]
     },
     "execution_count": 27,
     "metadata": {},
     "output_type": "execute_result"
    }
   ],
   "source": [
    "races"
   ]
  },
  {
   "cell_type": "code",
   "execution_count": 28,
   "metadata": {},
   "outputs": [
    {
     "data": {
      "text/plain": [
       "race\n",
       "Black               781\n",
       "East Asian          811\n",
       "Indian              762\n",
       "Latino_Hispanic     808\n",
       "Middle Eastern      812\n",
       "Southeast Asian     749\n",
       "White              1145\n",
       "Name: count, dtype: int64"
      ]
     },
     "execution_count": 28,
     "metadata": {},
     "output_type": "execute_result"
    }
   ],
   "source": [
    "counts.sort_index()"
   ]
  }
 ],
 "metadata": {
  "kernelspec": {
   "display_name": "clipenv",
   "language": "python",
   "name": "python3"
  },
  "language_info": {
   "codemirror_mode": {
    "name": "ipython",
    "version": 3
   },
   "file_extension": ".py",
   "mimetype": "text/x-python",
   "name": "python",
   "nbconvert_exporter": "python",
   "pygments_lexer": "ipython3",
   "version": "3.8.18"
  }
 },
 "nbformat": 4,
 "nbformat_minor": 2
}

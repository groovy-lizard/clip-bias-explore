{
 "cells": [
  {
   "cell_type": "code",
   "execution_count": 1,
   "metadata": {},
   "outputs": [],
   "source": [
    "import clip\n",
    "import torch\n",
    "import pandas as pd\n",
    "import numpy as np\n",
    "from PIL import Image\n",
    "import json"
   ]
  },
  {
   "cell_type": "code",
   "execution_count": 2,
   "metadata": {},
   "outputs": [
    {
     "name": "stdout",
     "output_type": "stream",
     "text": [
      "['RN50', 'RN101', 'RN50x4', 'RN50x16', 'RN50x64', 'ViT-B/32', 'ViT-B/16', 'ViT-L/14', 'ViT-L/14@336px']\n"
     ]
    }
   ],
   "source": [
    "available_models = clip.available_models()\n",
    "print(available_models)"
   ]
  },
  {
   "cell_type": "code",
   "execution_count": 3,
   "metadata": {},
   "outputs": [
    {
     "name": "stdout",
     "output_type": "stream",
     "text": [
      "\n",
      "Loading model...\n",
      "Done! Model ViT-L/14@336px loaded to cuda device\n"
     ]
    }
   ],
   "source": [
    "print('\\nLoading model...')\n",
    "\n",
    "clip_model = available_models[-1]\n",
    "\n",
    "device = \"cuda\" if torch.cuda.is_available() else \"cpu\"\n",
    "model, preprocess = clip.load(clip_model, device=device, jit=False)\n",
    "print(f\"Done! Model {clip_model} loaded to {device} device\")"
   ]
  },
  {
   "cell_type": "code",
   "execution_count": 4,
   "metadata": {},
   "outputs": [],
   "source": [
    "def generate_embeddings_dataframe(df):\n",
    "    files = list()\n",
    "    embs = list()\n",
    "\n",
    "    for file in df:\n",
    "        img_path = path + file\n",
    "        img = Image.open(img_path)\n",
    "        img_input = preprocess(img).unsqueeze(0).to(device)\n",
    "\n",
    "        with torch.no_grad():\n",
    "            image_features = model.encode_image(img_input)\n",
    "\n",
    "        image_features /= image_features.norm(dim=-1, keepdim=True)\n",
    "        files.append(file)\n",
    "        embs.append(image_features.cpu().numpy())\n",
    "\n",
    "    d = {'file': files, 'embeddings': embs}\n",
    "\n",
    "    df_out = pd.DataFrame(data=d)\n",
    "    return df_out"
   ]
  },
  {
   "cell_type": "code",
   "execution_count": 5,
   "metadata": {},
   "outputs": [],
   "source": [
    "def generate_text_embeddings(txts, model, device):\n",
    "    \"\"\"Generate text embeddings using CLIP model\"\"\"\n",
    "    text_inputs = torch.cat(\n",
    "        [clip.tokenize(f\"a photo of a {c}\") for c in txts]).to(device)\n",
    "\n",
    "    with torch.no_grad():\n",
    "        text_features = model.encode_text(text_inputs)\n",
    "\n",
    "    text_features /= text_features.norm(dim=-1, keepdim=True)\n",
    "\n",
    "    return text_features"
   ]
  },
  {
   "cell_type": "code",
   "execution_count": 6,
   "metadata": {},
   "outputs": [],
   "source": [
    "def get_similarities(self, img_embs, txt_embs):\n",
    "    \"\"\"Grab similarity between classes and image embeddings.\"\"\"\n",
    "    image_features = torch.from_numpy(img_embs).to(self.device)\n",
    "    similarity = 100.0 * image_features @ txt_embs.T\n",
    "\n",
    "    return similarity"
   ]
  },
  {
   "cell_type": "code",
   "execution_count": 7,
   "metadata": {},
   "outputs": [],
   "source": [
    "path = \"/home/lazye/Documents/ufrgs/mcs/datasets/FairFace/\"\n",
    "fface_df = pd.read_csv(f\"../data/fface_val.csv\")"
   ]
  },
  {
   "cell_type": "code",
   "execution_count": 8,
   "metadata": {},
   "outputs": [],
   "source": [
    "labels = {\n",
    "    'White_Male': 'a photo of a white man',\n",
    "    'White_Female': 'a photo of a white woman',\n",
    "    'Black_Male': 'a photo of a black man',\n",
    "    'Black_Female': 'a photo of a black woman',\n",
    "    'Latino_Hispanic_Male': 'a photo of a latino man',\n",
    "    'Latino_Hispanic_Female': 'a photo of a latino woman',\n",
    "    'East Asian_Male': 'a photo of an east asian man',\n",
    "    'East Asian_Female': 'a photo of an east asian woman',\n",
    "    'Southeast Asian_Male': 'a photo of a southeast asian man',\n",
    "    'Southeast Asian_Female': 'a photo of a southeast asian woman',\n",
    "    'Indian_Male': 'a photo of an indian man',\n",
    "    'Indian_Female': 'a photo of an indian woman',\n",
    "    'Middle Eastern_Male': 'a photo of a middle eastern man',\n",
    "    'Middle Eastern_Female': 'a photo of a middle eastern woman'\n",
    "}"
   ]
  },
  {
   "cell_type": "code",
   "execution_count": 9,
   "metadata": {},
   "outputs": [],
   "source": [
    "class_labels = list(labels.keys())\n",
    "prompts = list(labels.values())"
   ]
  },
  {
   "cell_type": "code",
   "execution_count": 10,
   "metadata": {},
   "outputs": [],
   "source": [
    "tokenized_prompts = torch.cat([clip.tokenize(prompt) for prompt in prompts]).to(device)\n",
    "with torch.no_grad():\n",
    "    prompt_features = model.encode_text(tokenized_prompts)\n",
    "    prompt_features /= prompt_features.norm(dim=-1, keepdim=True)"
   ]
  },
  {
   "cell_type": "code",
   "execution_count": 11,
   "metadata": {},
   "outputs": [],
   "source": [
    "with open('../data/labels.json', 'w', encoding='utf-8') as f:\n",
    "    json.dump(labels, f, ensure_ascii=False, indent=4)"
   ]
  },
  {
   "cell_type": "code",
   "execution_count": null,
   "metadata": {},
   "outputs": [],
   "source": []
  }
 ],
 "metadata": {
  "kernelspec": {
   "display_name": "clipenv",
   "language": "python",
   "name": "python3"
  },
  "language_info": {
   "codemirror_mode": {
    "name": "ipython",
    "version": 3
   },
   "file_extension": ".py",
   "mimetype": "text/x-python",
   "name": "python",
   "nbconvert_exporter": "python",
   "pygments_lexer": "ipython3",
   "version": "3.8.18"
  }
 },
 "nbformat": 4,
 "nbformat_minor": 2
}

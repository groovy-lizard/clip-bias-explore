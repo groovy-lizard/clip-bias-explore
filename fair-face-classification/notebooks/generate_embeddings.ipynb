{
 "cells": [
  {
   "cell_type": "code",
   "execution_count": 2,
   "metadata": {},
   "outputs": [],
   "source": [
    "import clip\n",
    "import torch\n",
    "import pandas as pd\n",
    "import numpy as np\n",
    "from PIL import Image\n",
    "import json"
   ]
  },
  {
   "cell_type": "code",
   "execution_count": 3,
   "metadata": {},
   "outputs": [
    {
     "name": "stdout",
     "output_type": "stream",
     "text": [
      "['RN50', 'RN101', 'RN50x4', 'RN50x16', 'RN50x64', 'ViT-B/32', 'ViT-B/16', 'ViT-L/14', 'ViT-L/14@336px']\n"
     ]
    }
   ],
   "source": [
    "available_models = clip.available_models()\n",
    "print(available_models)"
   ]
  },
  {
   "cell_type": "code",
   "execution_count": 4,
   "metadata": {},
   "outputs": [
    {
     "name": "stdout",
     "output_type": "stream",
     "text": [
      "\n",
      "Loading model...\n",
      "Done! Model ViT-B/16 loaded to cuda device\n"
     ]
    }
   ],
   "source": [
    "print('\\nLoading model...')\n",
    "\n",
    "clip_model = 'ViT-B/16'\n",
    "\n",
    "device = \"cuda\" if torch.cuda.is_available() else \"cpu\"\n",
    "model, preprocess = clip.load(clip_model, device=device, jit=False)\n",
    "print(f\"Done! Model {clip_model} loaded to {device} device\")"
   ]
  },
  {
   "cell_type": "code",
   "execution_count": 5,
   "metadata": {},
   "outputs": [],
   "source": [
    "def generate_embeddings_dataframe(df):\n",
    "    files = list()\n",
    "    embs = list()\n",
    "\n",
    "    for file in df:\n",
    "        img_path = path + file\n",
    "        img = Image.open(img_path)\n",
    "        img_input = preprocess(img).unsqueeze(0).to(device)\n",
    "\n",
    "        with torch.no_grad():\n",
    "            image_features = model.encode_image(img_input)\n",
    "\n",
    "        image_features /= image_features.norm(dim=-1, keepdim=True)\n",
    "        files.append(file)\n",
    "        embs.append(image_features.cpu().numpy())\n",
    "\n",
    "    d = {'file': files, 'embeddings': embs}\n",
    "\n",
    "    df_out = pd.DataFrame(data=d)\n",
    "    return df_out"
   ]
  },
  {
   "cell_type": "code",
   "execution_count": 6,
   "metadata": {},
   "outputs": [],
   "source": [
    "def generate_text_embeddings(txts, model, device):\n",
    "    \"\"\"Generate text embeddings using CLIP model\"\"\"\n",
    "    text_inputs = torch.cat(\n",
    "        [clip.tokenize(f\"a photo of a {c}\") for c in txts]).to(device)\n",
    "\n",
    "    with torch.no_grad():\n",
    "        text_features = model.encode_text(text_inputs)\n",
    "\n",
    "    text_features /= text_features.norm(dim=-1, keepdim=True)\n",
    "\n",
    "    return text_features"
   ]
  },
  {
   "cell_type": "code",
   "execution_count": 7,
   "metadata": {},
   "outputs": [],
   "source": [
    "path = \"/home/lazye/Documents/ufrgs/mcs/datasets/FairFace/\"\n",
    "fface_df = pd.read_csv(f\"../data/fface_val.csv\")"
   ]
  },
  {
   "cell_type": "code",
   "execution_count": 8,
   "metadata": {},
   "outputs": [],
   "source": [
    "with open('../data/synms_gender_labels.json', encoding='utf-8') as json_data:\n",
    "    labels = json.load(json_data)"
   ]
  },
  {
   "cell_type": "code",
   "execution_count": 9,
   "metadata": {},
   "outputs": [],
   "source": [
    "class_labels = list(labels.keys())\n",
    "prompts = list(labels.values())"
   ]
  },
  {
   "cell_type": "code",
   "execution_count": 10,
   "metadata": {},
   "outputs": [],
   "source": [
    "unified_prompts = prompts[0] + prompts[1]"
   ]
  },
  {
   "cell_type": "code",
   "execution_count": 11,
   "metadata": {},
   "outputs": [],
   "source": [
    "tokenized_prompts = torch.cat([clip.tokenize(prompt) for prompt in unified_prompts]).to(device)\n",
    "with torch.no_grad():\n",
    "    prompt_features = model.encode_text(tokenized_prompts)\n",
    "    prompt_features /= prompt_features.norm(dim=-1, keepdim=True)"
   ]
  },
  {
   "cell_type": "code",
   "execution_count": 12,
   "metadata": {},
   "outputs": [],
   "source": [
    "torch.save(prompt_features, \"../data/synms-gender-labels.pt\")"
   ]
  }
 ],
 "metadata": {
  "kernelspec": {
   "display_name": "clipenv",
   "language": "python",
   "name": "python3"
  },
  "language_info": {
   "codemirror_mode": {
    "name": "ipython",
    "version": 3
   },
   "file_extension": ".py",
   "mimetype": "text/x-python",
   "name": "python",
   "nbconvert_exporter": "python",
   "pygments_lexer": "ipython3",
   "version": "3.8.18"
  }
 },
 "nbformat": 4,
 "nbformat_minor": 2
}

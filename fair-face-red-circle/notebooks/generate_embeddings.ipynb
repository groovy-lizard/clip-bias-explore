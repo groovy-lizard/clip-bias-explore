{
 "cells": [
  {
   "cell_type": "code",
   "execution_count": 5,
   "metadata": {},
   "outputs": [],
   "source": [
    "import clip\n",
    "import torch\n",
    "import pandas as pd\n",
    "import numpy as np\n",
    "from PIL import Image\n",
    "import json"
   ]
  },
  {
   "cell_type": "code",
   "execution_count": 6,
   "metadata": {},
   "outputs": [],
   "source": [
    "def filter_df(df, race=None, gender=None):\n",
    "    new_df = df\n",
    "    if gender:\n",
    "        new_df = new_df[new_df['gender'] == gender]\n",
    "    if race:\n",
    "        new_df = new_df[new_df['race'] == race]\n",
    "    return new_df"
   ]
  },
  {
   "cell_type": "code",
   "execution_count": 7,
   "metadata": {},
   "outputs": [
    {
     "name": "stdout",
     "output_type": "stream",
     "text": [
      "\n",
      "Loading model...\n"
     ]
    },
    {
     "name": "stdout",
     "output_type": "stream",
     "text": [
      "Done! Model loaded to cuda device\n"
     ]
    }
   ],
   "source": [
    "print('\\nLoading model...')\n",
    "available_models = ['RN50', 'RN101', 'RN50x4', 'RN50x16']\n",
    "layers = ['layer4', 'layer3', 'layer2', 'layer1']\n",
    "\n",
    "clip_model = available_models[0]\n",
    "saliency_layer = layers[0]\n",
    "\n",
    "device = \"cuda\" if torch.cuda.is_available() else \"cpu\"\n",
    "model, preprocess = clip.load(clip_model, device=device, jit=False)\n",
    "print(f\"Done! Model loaded to {device} device\")"
   ]
  },
  {
   "cell_type": "code",
   "execution_count": 8,
   "metadata": {},
   "outputs": [],
   "source": [
    "def generate_embeddings_dataframe(df):\n",
    "    files = list()\n",
    "    embs = list()\n",
    "\n",
    "    for file in df:\n",
    "        img_path = path + file\n",
    "        img = Image.open(img_path)\n",
    "        img_input = preprocess(img).unsqueeze(0).to(device)\n",
    "\n",
    "        with torch.no_grad():\n",
    "            image_features = model.encode_image(img_input)\n",
    "\n",
    "        image_features /= image_features.norm(dim=-1, keepdim=True)\n",
    "        files.append(file)\n",
    "        embs.append(image_features.cpu().numpy())\n",
    "\n",
    "    d = {'file': files, 'embeddings': embs}\n",
    "\n",
    "    df_out = pd.DataFrame(data=d)\n",
    "    return df_out"
   ]
  },
  {
   "cell_type": "code",
   "execution_count": 9,
   "metadata": {},
   "outputs": [],
   "source": [
    "def generate_text_embeddings(txts, model, device):\n",
    "    \"\"\"Generate text embeddings using CLIP model\"\"\"\n",
    "    text_inputs = torch.cat(\n",
    "        [clip.tokenize(f\"a photo of a {c}\") for c in txts]).to(device)\n",
    "\n",
    "    with torch.no_grad():\n",
    "        text_features = model.encode_text(text_inputs)\n",
    "\n",
    "    text_features /= text_features.norm(dim=-1, keepdim=True)\n",
    "\n",
    "    return text_features"
   ]
  },
  {
   "cell_type": "code",
   "execution_count": 41,
   "metadata": {},
   "outputs": [],
   "source": [
    "gender_json = '../data/gender-synms.json'\n",
    "\n",
    "with open(gender_json, encoding='utf-8') as json_data:\n",
    "    gender_synms = json.load(json_data)"
   ]
  },
  {
   "cell_type": "code",
   "execution_count": 42,
   "metadata": {},
   "outputs": [],
   "source": [
    "gender_synms_list = gender_synms['synms']"
   ]
  },
  {
   "cell_type": "code",
   "execution_count": 43,
   "metadata": {},
   "outputs": [],
   "source": [
    "gender_feats = generate_text_embeddings(gender_synms_list, model, device)\n",
    "torch.save(gender_feats, '../data/gender-synms-embs.pt')"
   ]
  },
  {
   "cell_type": "code",
   "execution_count": 31,
   "metadata": {},
   "outputs": [],
   "source": [
    "def get_similarities(self, img_embs, txt_embs):\n",
    "    \"\"\"Grab similarity between classes and image embeddings.\"\"\"\n",
    "    image_features = torch.from_numpy(img_embs).to(self.device)\n",
    "    similarity = 100.0 * image_features @ txt_embs.T\n",
    "\n",
    "    return similarity"
   ]
  }
 ],
 "metadata": {
  "kernelspec": {
   "display_name": "clipenv",
   "language": "python",
   "name": "python3"
  },
  "language_info": {
   "codemirror_mode": {
    "name": "ipython",
    "version": 3
   },
   "file_extension": ".py",
   "mimetype": "text/x-python",
   "name": "python",
   "nbconvert_exporter": "python",
   "pygments_lexer": "ipython3",
   "version": "3.8.18"
  }
 },
 "nbformat": 4,
 "nbformat_minor": 2
}

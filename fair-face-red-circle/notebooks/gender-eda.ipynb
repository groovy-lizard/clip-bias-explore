{
 "cells": [
  {
   "cell_type": "markdown",
   "metadata": {},
   "source": [
    "# Gender Predictions Exploratory Data Analysis"
   ]
  },
  {
   "cell_type": "markdown",
   "metadata": {},
   "source": [
    "## Imports"
   ]
  },
  {
   "cell_type": "code",
   "execution_count": 2,
   "metadata": {},
   "outputs": [],
   "source": [
    "import json\n",
    "import pandas as pd\n",
    "import matplotlib.pyplot as plt\n",
    "import numpy as np\n",
    "from sklearn.metrics import accuracy_score"
   ]
  },
  {
   "cell_type": "code",
   "execution_count": 3,
   "metadata": {},
   "outputs": [],
   "source": [
    "# fface_df = pd.read_csv(\"../data/fface_train.csv\")\n",
    "gender_preds_df = pd.read_csv(\"../data/fairface-gender-predictions.csv\")"
   ]
  },
  {
   "cell_type": "markdown",
   "metadata": {},
   "source": [
    "## Preprocess"
   ]
  },
  {
   "cell_type": "code",
   "execution_count": 4,
   "metadata": {},
   "outputs": [],
   "source": [
    "def prepare_age(df):\n",
    "    \"\"\"Prepares the age column from obj to integer\n",
    "    by applying the average between the age range\"\"\"\n",
    "    age_dict = dict()\n",
    "    new_df = df.copy()\n",
    "\n",
    "    for idx, values in new_df.iterrows():\n",
    "        if values.age == 'more than 70':\n",
    "            age_dict[idx] = 75\n",
    "            continue\n",
    "        age_arr = values.age.split('-')\n",
    "        num_age_arr = [int(num) for num in age_arr]\n",
    "        age_dict[idx] = np.mean(num_age_arr)\n",
    "    \n",
    "    for key, value in age_dict.items():\n",
    "        new_df.at[key, 'age'] = value\n",
    "    \n",
    "    return new_df"
   ]
  },
  {
   "cell_type": "code",
   "execution_count": 5,
   "metadata": {},
   "outputs": [],
   "source": [
    "with open('../data/man-synms.json', encoding='utf-8') as json_data:\n",
    "    man_synms = json.load(json_data)['synms']"
   ]
  },
  {
   "cell_type": "code",
   "execution_count": 6,
   "metadata": {},
   "outputs": [],
   "source": [
    "with open('../data/woman-synms.json', encoding='utf-8') as json_data:\n",
    "    woman_synms = json.load(json_data)['synms']"
   ]
  },
  {
   "cell_type": "code",
   "execution_count": 7,
   "metadata": {},
   "outputs": [],
   "source": [
    "ambiguous_synms = list(set(man_synms) & set(woman_synms))"
   ]
  },
  {
   "cell_type": "code",
   "execution_count": 8,
   "metadata": {},
   "outputs": [],
   "source": [
    "def synm_to_gender(synm):\n",
    "    if synm in woman_synms:\n",
    "        return 'Female'\n",
    "    else:\n",
    "        return 'Male'"
   ]
  },
  {
   "cell_type": "code",
   "execution_count": 9,
   "metadata": {},
   "outputs": [],
   "source": [
    "# fface_df = prepare_age(fface_df)\n",
    "gender_preds_df = prepare_age(gender_preds_df)"
   ]
  },
  {
   "cell_type": "markdown",
   "metadata": {},
   "source": [
    "Dropping the ambiguous label 'adult', present in both man and woman synonyms list. Only 22 occurencies, not enough to have an impact"
   ]
  },
  {
   "cell_type": "code",
   "execution_count": 28,
   "metadata": {},
   "outputs": [
    {
     "name": "stdout",
     "output_type": "stream",
     "text": [
      "file                  0\n",
      "age                   0\n",
      "race                  0\n",
      "gender                0\n",
      "gender_preds          0\n",
      "synms_gender_preds    0\n",
      "dtype: int64\n",
      "Series([], Name: count, dtype: int64)\n"
     ]
    }
   ],
   "source": [
    "print(gender_preds_df[gender_preds_df['synms_gender_preds'] == 'adult'].count())\n",
    "print(gender_preds_df[gender_preds_df['synms_gender_preds']\n",
    "                == 'adult']['race'].value_counts())"
   ]
  },
  {
   "cell_type": "code",
   "execution_count": 17,
   "metadata": {},
   "outputs": [],
   "source": [
    "gender_preds_df = gender_preds_df.drop(\n",
    "    gender_preds_df[gender_preds_df['synms_gender_preds'] == 'adult'].index)"
   ]
  },
  {
   "cell_type": "markdown",
   "metadata": {},
   "source": [
    "## Initial EDA"
   ]
  },
  {
   "cell_type": "code",
   "execution_count": 18,
   "metadata": {},
   "outputs": [
    {
     "name": "stdout",
     "output_type": "stream",
     "text": [
      "(86722, 6)\n"
     ]
    },
    {
     "data": {
      "text/html": [
       "<div>\n",
       "<style scoped>\n",
       "    .dataframe tbody tr th:only-of-type {\n",
       "        vertical-align: middle;\n",
       "    }\n",
       "\n",
       "    .dataframe tbody tr th {\n",
       "        vertical-align: top;\n",
       "    }\n",
       "\n",
       "    .dataframe thead th {\n",
       "        text-align: right;\n",
       "    }\n",
       "</style>\n",
       "<table border=\"1\" class=\"dataframe\">\n",
       "  <thead>\n",
       "    <tr style=\"text-align: right;\">\n",
       "      <th></th>\n",
       "      <th>file</th>\n",
       "      <th>age</th>\n",
       "      <th>race</th>\n",
       "      <th>gender</th>\n",
       "      <th>gender_preds</th>\n",
       "      <th>synms_gender_preds</th>\n",
       "    </tr>\n",
       "  </thead>\n",
       "  <tbody>\n",
       "    <tr>\n",
       "      <th>0</th>\n",
       "      <td>train/1.jpg</td>\n",
       "      <td>54.5</td>\n",
       "      <td>East Asian</td>\n",
       "      <td>Male</td>\n",
       "      <td>Male</td>\n",
       "      <td>middle-aged man</td>\n",
       "    </tr>\n",
       "    <tr>\n",
       "      <th>1</th>\n",
       "      <td>train/2.jpg</td>\n",
       "      <td>34.5</td>\n",
       "      <td>Indian</td>\n",
       "      <td>Female</td>\n",
       "      <td>Female</td>\n",
       "      <td>shikse</td>\n",
       "    </tr>\n",
       "    <tr>\n",
       "      <th>2</th>\n",
       "      <td>train/3.jpg</td>\n",
       "      <td>6.0</td>\n",
       "      <td>Black</td>\n",
       "      <td>Female</td>\n",
       "      <td>Female</td>\n",
       "      <td>young woman</td>\n",
       "    </tr>\n",
       "    <tr>\n",
       "      <th>3</th>\n",
       "      <td>train/4.jpg</td>\n",
       "      <td>24.5</td>\n",
       "      <td>Indian</td>\n",
       "      <td>Female</td>\n",
       "      <td>Female</td>\n",
       "      <td>mestiza</td>\n",
       "    </tr>\n",
       "    <tr>\n",
       "      <th>4</th>\n",
       "      <td>train/5.jpg</td>\n",
       "      <td>24.5</td>\n",
       "      <td>Indian</td>\n",
       "      <td>Female</td>\n",
       "      <td>Female</td>\n",
       "      <td>mestiza</td>\n",
       "    </tr>\n",
       "  </tbody>\n",
       "</table>\n",
       "</div>"
      ],
      "text/plain": [
       "          file   age        race  gender gender_preds synms_gender_preds\n",
       "0  train/1.jpg  54.5  East Asian    Male         Male    middle-aged man\n",
       "1  train/2.jpg  34.5      Indian  Female       Female             shikse\n",
       "2  train/3.jpg   6.0       Black  Female       Female        young woman\n",
       "3  train/4.jpg  24.5      Indian  Female       Female            mestiza\n",
       "4  train/5.jpg  24.5      Indian  Female       Female            mestiza"
      ]
     },
     "execution_count": 18,
     "metadata": {},
     "output_type": "execute_result"
    }
   ],
   "source": [
    "print(gender_preds_df.shape)\n",
    "gender_preds_df.head()"
   ]
  },
  {
   "cell_type": "code",
   "execution_count": 19,
   "metadata": {},
   "outputs": [
    {
     "name": "stdout",
     "output_type": "stream",
     "text": [
      "Hole dataset race proportions\n"
     ]
    },
    {
     "data": {
      "text/plain": [
       "race\n",
       "White              19.1%\n",
       "Latino_Hispanic    15.4%\n",
       "Indian             14.2%\n",
       "East Asian         14.2%\n",
       "Black              14.1%\n",
       "Southeast Asian    12.4%\n",
       "Middle Eastern     10.6%\n",
       "Name: proportion, dtype: object"
      ]
     },
     "execution_count": 19,
     "metadata": {},
     "output_type": "execute_result"
    }
   ],
   "source": [
    "print('Hole dataset race proportions')\n",
    "gender_preds_df.race.value_counts(normalize=True).mul(100).round(1).astype(str) + '%'"
   ]
  },
  {
   "cell_type": "code",
   "execution_count": 20,
   "metadata": {},
   "outputs": [
    {
     "name": "stdout",
     "output_type": "stream",
     "text": [
      "Hole dataset gender proportions\n"
     ]
    },
    {
     "data": {
      "text/plain": [
       "gender\n",
       "Male      53.0%\n",
       "Female    47.0%\n",
       "Name: proportion, dtype: object"
      ]
     },
     "execution_count": 20,
     "metadata": {},
     "output_type": "execute_result"
    }
   ],
   "source": [
    "print('Hole dataset gender proportions')\n",
    "gender_preds_df.gender.value_counts(normalize=True).mul(100).round(1).astype(str) + '%'"
   ]
  },
  {
   "cell_type": "markdown",
   "metadata": {},
   "source": [
    "### Binary Gender Predictions"
   ]
  },
  {
   "cell_type": "code",
   "execution_count": 21,
   "metadata": {},
   "outputs": [
    {
     "name": "stdout",
     "output_type": "stream",
     "text": [
      "Gender predictions proportions\n"
     ]
    },
    {
     "data": {
      "text/plain": [
       "gender_preds\n",
       "Male      51.0%\n",
       "Female    49.0%\n",
       "Name: proportion, dtype: object"
      ]
     },
     "execution_count": 21,
     "metadata": {},
     "output_type": "execute_result"
    }
   ],
   "source": [
    "print('Gender predictions proportions')\n",
    "gender_preds_df.gender_preds.value_counts(normalize=True).mul(100).round(1).astype(str) + '%'"
   ]
  },
  {
   "cell_type": "code",
   "execution_count": 47,
   "metadata": {},
   "outputs": [
    {
     "data": {
      "text/html": [
       "<div>\n",
       "<style scoped>\n",
       "    .dataframe tbody tr th:only-of-type {\n",
       "        vertical-align: middle;\n",
       "    }\n",
       "\n",
       "    .dataframe tbody tr th {\n",
       "        vertical-align: top;\n",
       "    }\n",
       "\n",
       "    .dataframe thead th {\n",
       "        text-align: right;\n",
       "    }\n",
       "</style>\n",
       "<table border=\"1\" class=\"dataframe\">\n",
       "  <thead>\n",
       "    <tr style=\"text-align: right;\">\n",
       "      <th></th>\n",
       "      <th>file</th>\n",
       "      <th>age</th>\n",
       "      <th>race</th>\n",
       "      <th>gender</th>\n",
       "      <th>gender_preds</th>\n",
       "    </tr>\n",
       "  </thead>\n",
       "  <tbody>\n",
       "    <tr>\n",
       "      <th>5</th>\n",
       "      <td>train/6.jpg</td>\n",
       "      <td>24.5</td>\n",
       "      <td>White</td>\n",
       "      <td>Male</td>\n",
       "      <td>Female</td>\n",
       "    </tr>\n",
       "    <tr>\n",
       "      <th>7</th>\n",
       "      <td>train/8.jpg</td>\n",
       "      <td>34.5</td>\n",
       "      <td>Indian</td>\n",
       "      <td>Female</td>\n",
       "      <td>Male</td>\n",
       "    </tr>\n",
       "    <tr>\n",
       "      <th>15</th>\n",
       "      <td>train/16.jpg</td>\n",
       "      <td>34.5</td>\n",
       "      <td>White</td>\n",
       "      <td>Female</td>\n",
       "      <td>Male</td>\n",
       "    </tr>\n",
       "    <tr>\n",
       "      <th>18</th>\n",
       "      <td>train/19.jpg</td>\n",
       "      <td>1.0</td>\n",
       "      <td>Black</td>\n",
       "      <td>Female</td>\n",
       "      <td>Male</td>\n",
       "    </tr>\n",
       "    <tr>\n",
       "      <th>29</th>\n",
       "      <td>train/30.jpg</td>\n",
       "      <td>24.5</td>\n",
       "      <td>Black</td>\n",
       "      <td>Female</td>\n",
       "      <td>Male</td>\n",
       "    </tr>\n",
       "  </tbody>\n",
       "</table>\n",
       "</div>"
      ],
      "text/plain": [
       "            file   age    race  gender gender_preds\n",
       "5    train/6.jpg  24.5   White    Male       Female\n",
       "7    train/8.jpg  34.5  Indian  Female         Male\n",
       "15  train/16.jpg  34.5   White  Female         Male\n",
       "18  train/19.jpg   1.0   Black  Female         Male\n",
       "29  train/30.jpg  24.5   Black  Female         Male"
      ]
     },
     "execution_count": 47,
     "metadata": {},
     "output_type": "execute_result"
    }
   ],
   "source": [
    "gender_preds_misses = gender_preds_df[gender_preds_df['gender'] != gender_preds_df['gender_preds']]\n",
    "gender_preds_misses.drop('synms_gender_preds', axis=1).head()"
   ]
  },
  {
   "cell_type": "code",
   "execution_count": 23,
   "metadata": {},
   "outputs": [
    {
     "name": "stdout",
     "output_type": "stream",
     "text": [
      "gender_preds misses count: 8466\n",
      "gender_preds accuracy score: 0.9\n"
     ]
    }
   ],
   "source": [
    "gender_preds_acc = accuracy_score(\n",
    "    gender_preds_df['gender'], gender_preds_df['gender_preds'])\n",
    "print(f\"gender_preds misses count: {len(gender_preds_misses)}\")\n",
    "print(f\"gender_preds accuracy score: {round(gender_preds_acc, 2)}\")"
   ]
  },
  {
   "cell_type": "code",
   "execution_count": 24,
   "metadata": {},
   "outputs": [
    {
     "name": "stdout",
     "output_type": "stream",
     "text": [
      "gender_preds misses by race\n"
     ]
    },
    {
     "data": {
      "text/plain": [
       "race\n",
       "Black              22.3%\n",
       "Southeast Asian    15.4%\n",
       "East Asian         14.3%\n",
       "White              14.2%\n",
       "Indian             14.2%\n",
       "Latino_Hispanic    12.3%\n",
       "Middle Eastern      7.2%\n",
       "Name: proportion, dtype: object"
      ]
     },
     "execution_count": 24,
     "metadata": {},
     "output_type": "execute_result"
    }
   ],
   "source": [
    "print('gender_preds misses by race')\n",
    "gender_preds_misses.race.value_counts(\n",
    "    normalize=True).mul(100).round(1).astype(str) + '%'"
   ]
  },
  {
   "cell_type": "code",
   "execution_count": 25,
   "metadata": {},
   "outputs": [
    {
     "name": "stdout",
     "output_type": "stream",
     "text": [
      "gender_preds misses by gender\n"
     ]
    },
    {
     "data": {
      "text/plain": [
       "gender\n",
       "Male      60.5%\n",
       "Female    39.5%\n",
       "Name: proportion, dtype: object"
      ]
     },
     "execution_count": 25,
     "metadata": {},
     "output_type": "execute_result"
    }
   ],
   "source": [
    "print('gender_preds misses by gender')\n",
    "gender_preds_misses.gender.value_counts(normalize=True).mul(100).round(1).astype(str) + '%'"
   ]
  },
  {
   "cell_type": "markdown",
   "metadata": {},
   "source": [
    "### Synonyms Gender Predictions"
   ]
  },
  {
   "cell_type": "code",
   "execution_count": 43,
   "metadata": {},
   "outputs": [],
   "source": [
    "gender_series = gender_preds_df['gender']\n",
    "synms_preds_series = gender_preds_df['synms_gender_preds']\n",
    "binary_synms_preds_series = synms_preds_series.map(synm_to_gender)"
   ]
  },
  {
   "cell_type": "code",
   "execution_count": 48,
   "metadata": {},
   "outputs": [
    {
     "data": {
      "text/html": [
       "<div>\n",
       "<style scoped>\n",
       "    .dataframe tbody tr th:only-of-type {\n",
       "        vertical-align: middle;\n",
       "    }\n",
       "\n",
       "    .dataframe tbody tr th {\n",
       "        vertical-align: top;\n",
       "    }\n",
       "\n",
       "    .dataframe thead th {\n",
       "        text-align: right;\n",
       "    }\n",
       "</style>\n",
       "<table border=\"1\" class=\"dataframe\">\n",
       "  <thead>\n",
       "    <tr style=\"text-align: right;\">\n",
       "      <th></th>\n",
       "      <th>file</th>\n",
       "      <th>age</th>\n",
       "      <th>race</th>\n",
       "      <th>gender</th>\n",
       "      <th>synms_gender_preds</th>\n",
       "    </tr>\n",
       "  </thead>\n",
       "  <tbody>\n",
       "    <tr>\n",
       "      <th>5</th>\n",
       "      <td>train/6.jpg</td>\n",
       "      <td>24.5</td>\n",
       "      <td>White</td>\n",
       "      <td>Male</td>\n",
       "      <td>mestiza</td>\n",
       "    </tr>\n",
       "    <tr>\n",
       "      <th>8</th>\n",
       "      <td>train/9.jpg</td>\n",
       "      <td>14.5</td>\n",
       "      <td>White</td>\n",
       "      <td>Male</td>\n",
       "      <td>bas bleu</td>\n",
       "    </tr>\n",
       "    <tr>\n",
       "      <th>18</th>\n",
       "      <td>train/19.jpg</td>\n",
       "      <td>1.0</td>\n",
       "      <td>Black</td>\n",
       "      <td>Female</td>\n",
       "      <td>babu</td>\n",
       "    </tr>\n",
       "    <tr>\n",
       "      <th>21</th>\n",
       "      <td>train/22.jpg</td>\n",
       "      <td>34.5</td>\n",
       "      <td>Middle Eastern</td>\n",
       "      <td>Female</td>\n",
       "      <td>staff</td>\n",
       "    </tr>\n",
       "    <tr>\n",
       "      <th>26</th>\n",
       "      <td>train/27.jpg</td>\n",
       "      <td>54.5</td>\n",
       "      <td>White</td>\n",
       "      <td>Female</td>\n",
       "      <td>occupier</td>\n",
       "    </tr>\n",
       "  </tbody>\n",
       "</table>\n",
       "</div>"
      ],
      "text/plain": [
       "            file   age            race  gender synms_gender_preds\n",
       "5    train/6.jpg  24.5           White    Male            mestiza\n",
       "8    train/9.jpg  14.5           White    Male           bas bleu\n",
       "18  train/19.jpg   1.0           Black  Female               babu\n",
       "21  train/22.jpg  34.5  Middle Eastern  Female              staff\n",
       "26  train/27.jpg  54.5           White  Female           occupier"
      ]
     },
     "execution_count": 48,
     "metadata": {},
     "output_type": "execute_result"
    }
   ],
   "source": [
    "synms_gender_preds_misses = gender_preds_df[gender_preds_df['gender'] != binary_synms_preds_series]\n",
    "synms_gender_preds_misses.drop('gender_preds', axis=1).head()"
   ]
  },
  {
   "cell_type": "code",
   "execution_count": 45,
   "metadata": {},
   "outputs": [
    {
     "name": "stdout",
     "output_type": "stream",
     "text": [
      "synms_gender_preds misses count: 17752\n",
      "synms_gender_preds accuracy score: 0.8\n"
     ]
    }
   ],
   "source": [
    "synms_gender_preds_acc = accuracy_score(\n",
    "    gender_preds_df['gender'], binary_synms_preds_series)\n",
    "print(f\"synms_gender_preds misses count: {len(synms_gender_preds_misses)}\")\n",
    "print(f\"synms_gender_preds accuracy score: {round(synms_gender_preds_acc, 2)}\")"
   ]
  },
  {
   "cell_type": "code",
   "execution_count": 46,
   "metadata": {},
   "outputs": [
    {
     "name": "stdout",
     "output_type": "stream",
     "text": [
      "Synonyms gender predictions proportions\n"
     ]
    },
    {
     "data": {
      "text/plain": [
       "synms_gender_preds\n",
       "Male      55.0%\n",
       "Female    45.0%\n",
       "Name: proportion, dtype: object"
      ]
     },
     "execution_count": 46,
     "metadata": {},
     "output_type": "execute_result"
    }
   ],
   "source": [
    "print('Synonyms gender predictions proportions')\n",
    "binary_synms_preds_series.value_counts(\n",
    "    normalize=True).mul(100).round(1).astype(str) + '%'"
   ]
  },
  {
   "cell_type": "code",
   "execution_count": 49,
   "metadata": {},
   "outputs": [
    {
     "name": "stdout",
     "output_type": "stream",
     "text": [
      "synms_gender_preds misses by race\n"
     ]
    },
    {
     "data": {
      "text/plain": [
       "race\n",
       "White              18.7%\n",
       "Black              17.3%\n",
       "Indian             16.7%\n",
       "Latino_Hispanic    13.8%\n",
       "East Asian         12.5%\n",
       "Southeast Asian    12.3%\n",
       "Middle Eastern      8.6%\n",
       "Name: proportion, dtype: object"
      ]
     },
     "execution_count": 49,
     "metadata": {},
     "output_type": "execute_result"
    }
   ],
   "source": [
    "print('synms_gender_preds misses by race')\n",
    "synms_gender_preds_misses.race.value_counts(\n",
    "    normalize=True).mul(100).round(1).astype(str) + '%'"
   ]
  },
  {
   "cell_type": "code",
   "execution_count": 50,
   "metadata": {},
   "outputs": [
    {
     "name": "stdout",
     "output_type": "stream",
     "text": [
      "synms_gender_preds misses by gender\n"
     ]
    },
    {
     "data": {
      "text/plain": [
       "gender\n",
       "Female    54.8%\n",
       "Male      45.2%\n",
       "Name: proportion, dtype: object"
      ]
     },
     "execution_count": 50,
     "metadata": {},
     "output_type": "execute_result"
    }
   ],
   "source": [
    "print('synms_gender_preds misses by gender')\n",
    "synms_gender_preds_misses.gender.value_counts(\n",
    "    normalize=True).mul(100).round(1).astype(str) + '%'"
   ]
  },
  {
   "cell_type": "markdown",
   "metadata": {},
   "source": [
    "## Age evaluation"
   ]
  },
  {
   "cell_type": "code",
   "execution_count": 51,
   "metadata": {},
   "outputs": [
    {
     "name": "stdout",
     "output_type": "stream",
     "text": [
      "Hole dataset age proportions\n"
     ]
    },
    {
     "data": {
      "text/plain": [
       "age\n",
       "24.5    29.5%\n",
       "34.5    22.2%\n",
       "44.5    12.4%\n",
       "6.0     12.0%\n",
       "14.5    10.5%\n",
       "54.5     7.2%\n",
       "64.5     3.2%\n",
       "1.0      2.1%\n",
       "75       1.0%\n",
       "Name: proportion, dtype: object"
      ]
     },
     "execution_count": 51,
     "metadata": {},
     "output_type": "execute_result"
    }
   ],
   "source": [
    "print('Hole dataset age proportions')\n",
    "gender_preds_df.age.value_counts(normalize=True).mul(100).round(1).astype(str) + '%'"
   ]
  },
  {
   "cell_type": "code",
   "execution_count": 52,
   "metadata": {},
   "outputs": [
    {
     "name": "stdout",
     "output_type": "stream",
     "text": [
      "gender_preds misses by age\n"
     ]
    },
    {
     "data": {
      "text/plain": [
       "age\n",
       "6.0     30.9%\n",
       "24.5    18.0%\n",
       "14.5    17.0%\n",
       "34.5    11.4%\n",
       "1.0      7.8%\n",
       "44.5     6.9%\n",
       "54.5     3.8%\n",
       "64.5     2.8%\n",
       "75       1.3%\n",
       "Name: proportion, dtype: object"
      ]
     },
     "execution_count": 52,
     "metadata": {},
     "output_type": "execute_result"
    }
   ],
   "source": [
    "print('gender_preds misses by age')\n",
    "\n",
    "gender_preds_misses.age.value_counts(normalize=True).mul(\n",
    "    100).round(1).astype(str) + '%'"
   ]
  },
  {
   "cell_type": "code",
   "execution_count": 54,
   "metadata": {},
   "outputs": [
    {
     "name": "stdout",
     "output_type": "stream",
     "text": [
      "synms_gender_preds misses by age\n"
     ]
    },
    {
     "data": {
      "text/plain": [
       "age\n",
       "24.5    24.6%\n",
       "34.5    19.0%\n",
       "6.0     16.6%\n",
       "14.5    12.6%\n",
       "44.5    11.8%\n",
       "54.5     7.0%\n",
       "64.5     3.8%\n",
       "1.0      3.3%\n",
       "75       1.3%\n",
       "Name: proportion, dtype: object"
      ]
     },
     "execution_count": 54,
     "metadata": {},
     "output_type": "execute_result"
    }
   ],
   "source": [
    "print('synms_gender_preds misses by age')\n",
    "\n",
    "synms_gender_preds_misses.age.value_counts(normalize=True).mul(\n",
    "    100).round(1).astype(str) + '%'"
   ]
  },
  {
   "cell_type": "code",
   "execution_count": 16,
   "metadata": {},
   "outputs": [],
   "source": [
    "# TODO: make some plots of distributions"
   ]
  }
 ],
 "metadata": {
  "kernelspec": {
   "display_name": "clipenv",
   "language": "python",
   "name": "python3"
  },
  "language_info": {
   "codemirror_mode": {
    "name": "ipython",
    "version": 3
   },
   "file_extension": ".py",
   "mimetype": "text/x-python",
   "name": "python",
   "nbconvert_exporter": "python",
   "pygments_lexer": "ipython3",
   "version": "3.8.18"
  }
 },
 "nbformat": 4,
 "nbformat_minor": 2
}

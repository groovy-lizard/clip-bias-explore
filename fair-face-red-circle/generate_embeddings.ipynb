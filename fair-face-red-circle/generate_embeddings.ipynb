{
 "cells": [
  {
   "cell_type": "code",
   "execution_count": 2,
   "metadata": {},
   "outputs": [],
   "source": [
    "import clip\n",
    "import torch\n",
    "import pandas as pd\n",
    "import numpy as np\n",
    "from PIL import Image"
   ]
  },
  {
   "cell_type": "code",
   "execution_count": 3,
   "metadata": {},
   "outputs": [],
   "source": [
    "def filter_df(df, race=None, gender=None):\n",
    "    new_df = df\n",
    "    if gender:\n",
    "        new_df = new_df[new_df['gender'] == gender]\n",
    "    if race:\n",
    "        new_df = new_df[new_df['race'] == race]\n",
    "    return new_df"
   ]
  },
  {
   "cell_type": "code",
   "execution_count": 4,
   "metadata": {},
   "outputs": [
    {
     "name": "stdout",
     "output_type": "stream",
     "text": [
      "\n",
      "Loading model...\n",
      "Done! Model loaded to cuda device\n"
     ]
    }
   ],
   "source": [
    "%matplotlib inline\n",
    "\n",
    "print('\\nLoading model...')\n",
    "available_models = ['RN50', 'RN101', 'RN50x4', 'RN50x16']\n",
    "layers = ['layer4', 'layer3', 'layer2', 'layer1']\n",
    "\n",
    "clip_model = available_models[0]\n",
    "saliency_layer = layers[0]\n",
    "\n",
    "device = \"cuda\" if torch.cuda.is_available() else \"cpu\"\n",
    "model, preprocess = clip.load(clip_model, device=device, jit=False)\n",
    "print(f\"Done! Model loaded to {device} device\")"
   ]
  },
  {
   "cell_type": "code",
   "execution_count": 5,
   "metadata": {},
   "outputs": [],
   "source": [
    "path = \"/home/lazye/Documents/ufrgs/mcs/datasets/FairFace/\"\n",
    "fface_df = pd.read_csv(f\"{path}/train/fairface_label_train.csv\")"
   ]
  },
  {
   "cell_type": "code",
   "execution_count": 6,
   "metadata": {},
   "outputs": [],
   "source": [
    "man_df = filter_df(fface_df, gender='Male')\n",
    "woman_df = filter_df(fface_df, gender='Female')"
   ]
  },
  {
   "cell_type": "code",
   "execution_count": 7,
   "metadata": {},
   "outputs": [],
   "source": [
    "def generate_embeddings_dataframe(df):\n",
    "    files = list()\n",
    "    embs = list()\n",
    "\n",
    "    for file in df:\n",
    "        img_path = path + file\n",
    "        img = Image.open(img_path)\n",
    "        img_input = preprocess(img).unsqueeze(0).to(device)\n",
    "\n",
    "        with torch.no_grad():\n",
    "            image_features = model.encode_image(img_input)\n",
    "\n",
    "        image_features /= image_features.norm(dim=-1, keepdim=True)\n",
    "        files.append(file)\n",
    "        embs.append(image_features.cpu().numpy())\n",
    "\n",
    "    d = {'file': files, 'embeddings': embs}\n",
    "\n",
    "    df_out = pd.DataFrame(data=d)\n",
    "    return df_out"
   ]
  },
  {
   "cell_type": "code",
   "execution_count": 16,
   "metadata": {},
   "outputs": [],
   "source": [
    "man_embs_df = generate_embeddings_dataframe(man_df['file'])"
   ]
  },
  {
   "cell_type": "code",
   "execution_count": 17,
   "metadata": {},
   "outputs": [
    {
     "data": {
      "text/html": [
       "<div>\n",
       "<style scoped>\n",
       "    .dataframe tbody tr th:only-of-type {\n",
       "        vertical-align: middle;\n",
       "    }\n",
       "\n",
       "    .dataframe tbody tr th {\n",
       "        vertical-align: top;\n",
       "    }\n",
       "\n",
       "    .dataframe thead th {\n",
       "        text-align: right;\n",
       "    }\n",
       "</style>\n",
       "<table border=\"1\" class=\"dataframe\">\n",
       "  <thead>\n",
       "    <tr style=\"text-align: right;\">\n",
       "      <th></th>\n",
       "      <th>file</th>\n",
       "      <th>embeddings</th>\n",
       "    </tr>\n",
       "  </thead>\n",
       "  <tbody>\n",
       "    <tr>\n",
       "      <th>0</th>\n",
       "      <td>train/1.jpg</td>\n",
       "      <td>[[-0.01399, 0.03305, -0.02834, 0.0002656, -0.0...</td>\n",
       "    </tr>\n",
       "    <tr>\n",
       "      <th>1</th>\n",
       "      <td>train/6.jpg</td>\n",
       "      <td>[[-0.001924, 0.03046, -0.0184, 0.0004253, -0.0...</td>\n",
       "    </tr>\n",
       "    <tr>\n",
       "      <th>2</th>\n",
       "      <td>train/7.jpg</td>\n",
       "      <td>[[-0.006527, 0.03595, 0.02142, 0.001106, -0.00...</td>\n",
       "    </tr>\n",
       "    <tr>\n",
       "      <th>3</th>\n",
       "      <td>train/9.jpg</td>\n",
       "      <td>[[0.005096, 0.01072, -0.011765, 1.42e-05, -0.0...</td>\n",
       "    </tr>\n",
       "    <tr>\n",
       "      <th>4</th>\n",
       "      <td>train/10.jpg</td>\n",
       "      <td>[[-0.02644, 0.02724, -0.01637, -0.0001937, -0....</td>\n",
       "    </tr>\n",
       "  </tbody>\n",
       "</table>\n",
       "</div>"
      ],
      "text/plain": [
       "           file                                         embeddings\n",
       "0   train/1.jpg  [[-0.01399, 0.03305, -0.02834, 0.0002656, -0.0...\n",
       "1   train/6.jpg  [[-0.001924, 0.03046, -0.0184, 0.0004253, -0.0...\n",
       "2   train/7.jpg  [[-0.006527, 0.03595, 0.02142, 0.001106, -0.00...\n",
       "3   train/9.jpg  [[0.005096, 0.01072, -0.011765, 1.42e-05, -0.0...\n",
       "4  train/10.jpg  [[-0.02644, 0.02724, -0.01637, -0.0001937, -0...."
      ]
     },
     "execution_count": 17,
     "metadata": {},
     "output_type": "execute_result"
    }
   ],
   "source": [
    "man_embs_df.head()"
   ]
  },
  {
   "cell_type": "code",
   "execution_count": 18,
   "metadata": {},
   "outputs": [],
   "source": [
    "man_embs_df.to_pickle('man_embeddings.csv')"
   ]
  },
  {
   "cell_type": "code",
   "execution_count": 19,
   "metadata": {},
   "outputs": [],
   "source": [
    "embds = pd.read_pickle('man_embeddings.csv')"
   ]
  },
  {
   "cell_type": "code",
   "execution_count": 20,
   "metadata": {},
   "outputs": [
    {
     "data": {
      "text/html": [
       "<div>\n",
       "<style scoped>\n",
       "    .dataframe tbody tr th:only-of-type {\n",
       "        vertical-align: middle;\n",
       "    }\n",
       "\n",
       "    .dataframe tbody tr th {\n",
       "        vertical-align: top;\n",
       "    }\n",
       "\n",
       "    .dataframe thead th {\n",
       "        text-align: right;\n",
       "    }\n",
       "</style>\n",
       "<table border=\"1\" class=\"dataframe\">\n",
       "  <thead>\n",
       "    <tr style=\"text-align: right;\">\n",
       "      <th></th>\n",
       "      <th>file</th>\n",
       "      <th>embeddings</th>\n",
       "    </tr>\n",
       "  </thead>\n",
       "  <tbody>\n",
       "    <tr>\n",
       "      <th>0</th>\n",
       "      <td>train/1.jpg</td>\n",
       "      <td>[[-0.01399, 0.03305, -0.02834, 0.0002656, -0.0...</td>\n",
       "    </tr>\n",
       "    <tr>\n",
       "      <th>1</th>\n",
       "      <td>train/6.jpg</td>\n",
       "      <td>[[-0.001924, 0.03046, -0.0184, 0.0004253, -0.0...</td>\n",
       "    </tr>\n",
       "    <tr>\n",
       "      <th>2</th>\n",
       "      <td>train/7.jpg</td>\n",
       "      <td>[[-0.006527, 0.03595, 0.02142, 0.001106, -0.00...</td>\n",
       "    </tr>\n",
       "    <tr>\n",
       "      <th>3</th>\n",
       "      <td>train/9.jpg</td>\n",
       "      <td>[[0.005096, 0.01072, -0.011765, 1.42e-05, -0.0...</td>\n",
       "    </tr>\n",
       "    <tr>\n",
       "      <th>4</th>\n",
       "      <td>train/10.jpg</td>\n",
       "      <td>[[-0.02644, 0.02724, -0.01637, -0.0001937, -0....</td>\n",
       "    </tr>\n",
       "    <tr>\n",
       "      <th>...</th>\n",
       "      <td>...</td>\n",
       "      <td>...</td>\n",
       "    </tr>\n",
       "    <tr>\n",
       "      <th>45981</th>\n",
       "      <td>train/86738.jpg</td>\n",
       "      <td>[[-0.01335, 0.02893, -0.01352, 0.001271, -0.02...</td>\n",
       "    </tr>\n",
       "    <tr>\n",
       "      <th>45982</th>\n",
       "      <td>train/86739.jpg</td>\n",
       "      <td>[[-0.01167, 0.03613, 0.0142, 0.000888, -0.0283...</td>\n",
       "    </tr>\n",
       "    <tr>\n",
       "      <th>45983</th>\n",
       "      <td>train/86740.jpg</td>\n",
       "      <td>[[-0.00935, 0.04648, -0.0034, -0.0008087, -0.0...</td>\n",
       "    </tr>\n",
       "    <tr>\n",
       "      <th>45984</th>\n",
       "      <td>train/86741.jpg</td>\n",
       "      <td>[[-0.00777, 0.01926, -0.003849, -0.000738, -0....</td>\n",
       "    </tr>\n",
       "    <tr>\n",
       "      <th>45985</th>\n",
       "      <td>train/86744.jpg</td>\n",
       "      <td>[[-0.00955, 0.004322, -0.0064, -0.000368, -0.0...</td>\n",
       "    </tr>\n",
       "  </tbody>\n",
       "</table>\n",
       "<p>45986 rows × 2 columns</p>\n",
       "</div>"
      ],
      "text/plain": [
       "                  file                                         embeddings\n",
       "0          train/1.jpg  [[-0.01399, 0.03305, -0.02834, 0.0002656, -0.0...\n",
       "1          train/6.jpg  [[-0.001924, 0.03046, -0.0184, 0.0004253, -0.0...\n",
       "2          train/7.jpg  [[-0.006527, 0.03595, 0.02142, 0.001106, -0.00...\n",
       "3          train/9.jpg  [[0.005096, 0.01072, -0.011765, 1.42e-05, -0.0...\n",
       "4         train/10.jpg  [[-0.02644, 0.02724, -0.01637, -0.0001937, -0....\n",
       "...                ...                                                ...\n",
       "45981  train/86738.jpg  [[-0.01335, 0.02893, -0.01352, 0.001271, -0.02...\n",
       "45982  train/86739.jpg  [[-0.01167, 0.03613, 0.0142, 0.000888, -0.0283...\n",
       "45983  train/86740.jpg  [[-0.00935, 0.04648, -0.0034, -0.0008087, -0.0...\n",
       "45984  train/86741.jpg  [[-0.00777, 0.01926, -0.003849, -0.000738, -0....\n",
       "45985  train/86744.jpg  [[-0.00955, 0.004322, -0.0064, -0.000368, -0.0...\n",
       "\n",
       "[45986 rows x 2 columns]"
      ]
     },
     "execution_count": 20,
     "metadata": {},
     "output_type": "execute_result"
    }
   ],
   "source": [
    "embds"
   ]
  },
  {
   "cell_type": "code",
   "execution_count": null,
   "metadata": {},
   "outputs": [],
   "source": []
  }
 ],
 "metadata": {
  "kernelspec": {
   "display_name": "clipenv",
   "language": "python",
   "name": "python3"
  },
  "language_info": {
   "codemirror_mode": {
    "name": "ipython",
    "version": 3
   },
   "file_extension": ".py",
   "mimetype": "text/x-python",
   "name": "python",
   "nbconvert_exporter": "python",
   "pygments_lexer": "ipython3",
   "version": "3.8.18"
  }
 },
 "nbformat": 4,
 "nbformat_minor": 2
}

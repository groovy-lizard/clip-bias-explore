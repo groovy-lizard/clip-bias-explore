{
 "cells": [
  {
   "cell_type": "code",
   "execution_count": 2,
   "metadata": {},
   "outputs": [],
   "source": [
    "import clip\n",
    "import torch\n",
    "import pandas as pd\n",
    "import numpy as np\n",
    "from PIL import Image"
   ]
  },
  {
   "cell_type": "code",
   "execution_count": 3,
   "metadata": {},
   "outputs": [],
   "source": [
    "def filter_df(df, race=None, gender=None):\n",
    "    new_df = df\n",
    "    if gender:\n",
    "        new_df = new_df[new_df['gender'] == gender]\n",
    "    if race:\n",
    "        new_df = new_df[new_df['race'] == race]\n",
    "    return new_df"
   ]
  },
  {
   "cell_type": "code",
   "execution_count": 4,
   "metadata": {},
   "outputs": [
    {
     "name": "stdout",
     "output_type": "stream",
     "text": [
      "\n",
      "Loading model...\n",
      "Done! Model loaded to cuda device\n"
     ]
    }
   ],
   "source": [
    "%matplotlib inline\n",
    "\n",
    "print('\\nLoading model...')\n",
    "available_models = ['RN50', 'RN101', 'RN50x4', 'RN50x16']\n",
    "layers = ['layer4', 'layer3', 'layer2', 'layer1']\n",
    "\n",
    "clip_model = available_models[0]\n",
    "saliency_layer = layers[0]\n",
    "\n",
    "device = \"cuda\" if torch.cuda.is_available() else \"cpu\"\n",
    "model, preprocess = clip.load(clip_model, device=device, jit=False)\n",
    "print(f\"Done! Model loaded to {device} device\")"
   ]
  },
  {
   "cell_type": "code",
   "execution_count": 5,
   "metadata": {},
   "outputs": [],
   "source": [
    "path = \"/home/lazye/Documents/ufrgs/mcs/datasets/FairFace/\"\n",
    "fface_df = pd.read_csv(f\"{path}/train/fairface_label_train.csv\")"
   ]
  },
  {
   "cell_type": "code",
   "execution_count": 6,
   "metadata": {},
   "outputs": [],
   "source": [
    "man_df = filter_df(fface_df, 'White', 'Male')\n",
    "woman_df = filter_df(fface_df, 'White', 'Female')"
   ]
  },
  {
   "cell_type": "code",
   "execution_count": 9,
   "metadata": {},
   "outputs": [
    {
     "data": {
      "text/plain": [
       "gender\n",
       "Male    8701\n",
       "Name: count, dtype: int64"
      ]
     },
     "execution_count": 9,
     "metadata": {},
     "output_type": "execute_result"
    }
   ],
   "source": [
    "man_df['gender'].value_counts()"
   ]
  },
  {
   "cell_type": "code",
   "execution_count": 7,
   "metadata": {},
   "outputs": [],
   "source": [
    "def generate_embeddings(df, n, out):\n",
    "    for file in df.iloc[0:n]:\n",
    "        img_path = path + file\n",
    "        img = Image.open(img_path)\n",
    "        img_input = preprocess(img).unsqueeze(0).to(device)\n",
    "\n",
    "        with torch.no_grad():\n",
    "            image_features = model.encode_image(img_input)\n",
    "        \n",
    "        image_features /= image_features.norm(dim=-1, keepdim=True)\n",
    "        file_num = file.split('/')[-1].split('.')[0]\n",
    "        np.save(f'{out}/{file_num}.npy', image_features.cpu().numpy())"
   ]
  },
  {
   "cell_type": "code",
   "execution_count": 17,
   "metadata": {},
   "outputs": [],
   "source": [
    "generate_embeddings(woman_df['file'], 1000, 'woman_embeddings')"
   ]
  }
 ],
 "metadata": {
  "kernelspec": {
   "display_name": "clipenv",
   "language": "python",
   "name": "python3"
  },
  "language_info": {
   "codemirror_mode": {
    "name": "ipython",
    "version": 3
   },
   "file_extension": ".py",
   "mimetype": "text/x-python",
   "name": "python",
   "nbconvert_exporter": "python",
   "pygments_lexer": "ipython3",
   "version": "3.8.18"
  }
 },
 "nbformat": 4,
 "nbformat_minor": 2
}

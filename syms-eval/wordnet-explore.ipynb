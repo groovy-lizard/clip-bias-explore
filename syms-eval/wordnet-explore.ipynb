{
 "cells": [
  {
   "cell_type": "markdown",
   "metadata": {},
   "source": [
    "# WordNet Synset lemmas"
   ]
  },
  {
   "cell_type": "code",
   "execution_count": 1,
   "metadata": {},
   "outputs": [],
   "source": [
    "from nltk.corpus import wordnet as wn"
   ]
  },
  {
   "cell_type": "code",
   "execution_count": 2,
   "metadata": {},
   "outputs": [
    {
     "name": "stdout",
     "output_type": "stream",
     "text": [
      "{'plane', 'airplane', 'aeroplane'}\n"
     ]
    }
   ],
   "source": [
    "synonyms = set()\n",
    "for syn in wn.synsets(\"airplane\"):\n",
    "    for l in syn.lemmas():\n",
    "        synonyms.add(l.name())\n",
    "print(synonyms)"
   ]
  },
  {
   "cell_type": "code",
   "execution_count": 3,
   "metadata": {},
   "outputs": [
    {
     "name": "stdout",
     "output_type": "stream",
     "text": [
      "set()\n"
     ]
    }
   ],
   "source": [
    "sees = set()\n",
    "for syn in wn.synsets(\"airplane\"):\n",
    "    for als in syn.also_sees():\n",
    "        for l in als.lemmas():\n",
    "            sees.add(l.name())\n",
    "print(sees)"
   ]
  },
  {
   "cell_type": "code",
   "execution_count": 4,
   "metadata": {},
   "outputs": [
    {
     "name": "stdout",
     "output_type": "stream",
     "text": [
      "set()\n"
     ]
    }
   ],
   "source": [
    "tos = set()\n",
    "for syn in wn.synsets(\"airplane\"):\n",
    "    for sims in syn.similar_tos():\n",
    "        for l in sims.lemmas():\n",
    "            tos.add(l.name())\n",
    "print(tos)"
   ]
  },
  {
   "cell_type": "code",
   "execution_count": 9,
   "metadata": {},
   "outputs": [
    {
     "ename": "TypeError",
     "evalue": "'Synset' object is not iterable",
     "output_type": "error",
     "traceback": [
      "\u001b[0;31m---------------------------------------------------------------------------\u001b[0m",
      "\u001b[0;31mTypeError\u001b[0m                                 Traceback (most recent call last)",
      "\u001b[1;32m/home/lazye/Documents/ufrgs/mcs/synonyms/wordnet/lemma-names.ipynb Cell 6\u001b[0m line \u001b[0;36m2\n\u001b[1;32m      <a href='vscode-notebook-cell:/home/lazye/Documents/ufrgs/mcs/synonyms/wordnet/lemma-names.ipynb#W5sZmlsZQ%3D%3D?line=0'>1</a>\u001b[0m hypo \u001b[39m=\u001b[39m \u001b[39mset\u001b[39m()\n\u001b[0;32m----> <a href='vscode-notebook-cell:/home/lazye/Documents/ufrgs/mcs/synonyms/wordnet/lemma-names.ipynb#W5sZmlsZQ%3D%3D?line=1'>2</a>\u001b[0m \u001b[39mfor\u001b[39;00m syn \u001b[39min\u001b[39;00m wn\u001b[39m.\u001b[39msynsets(\u001b[39m\"\u001b[39m\u001b[39mairplane\u001b[39m\u001b[39m\"\u001b[39m)[\u001b[39m0\u001b[39m]:\n\u001b[1;32m      <a href='vscode-notebook-cell:/home/lazye/Documents/ufrgs/mcs/synonyms/wordnet/lemma-names.ipynb#W5sZmlsZQ%3D%3D?line=2'>3</a>\u001b[0m     \u001b[39mfor\u001b[39;00m hyp \u001b[39min\u001b[39;00m syn\u001b[39m.\u001b[39mhyponyms():\n\u001b[1;32m      <a href='vscode-notebook-cell:/home/lazye/Documents/ufrgs/mcs/synonyms/wordnet/lemma-names.ipynb#W5sZmlsZQ%3D%3D?line=3'>4</a>\u001b[0m         \u001b[39mfor\u001b[39;00m l \u001b[39min\u001b[39;00m hyp\u001b[39m.\u001b[39mlemmas():\n",
      "\u001b[0;31mTypeError\u001b[0m: 'Synset' object is not iterable"
     ]
    }
   ],
   "source": [
    "hypo = set()\n",
    "for syn in wn.synsets(\"airplane\"):\n",
    "    for hyp in syn.hyponyms():\n",
    "        for l in hyp.lemmas():\n",
    "            hypo.add(l.name())\n",
    "print(hypo)"
   ]
  },
  {
   "cell_type": "code",
   "execution_count": 6,
   "metadata": {},
   "outputs": [
    {
     "name": "stdout",
     "output_type": "stream",
     "text": [
      "{'heavier-than-air_craft'}\n"
     ]
    }
   ],
   "source": [
    "hyper = set()\n",
    "for syn in wn.synsets(\"airplane\"):\n",
    "    for hype in syn.hypernyms():\n",
    "        for l in hype.lemmas():\n",
    "            hyper.add(l.name())\n",
    "print(hyper)"
   ]
  }
 ],
 "metadata": {
  "kernelspec": {
   "display_name": ".venv",
   "language": "python",
   "name": "python3"
  },
  "language_info": {
   "codemirror_mode": {
    "name": "ipython",
    "version": 3
   },
   "file_extension": ".py",
   "mimetype": "text/x-python",
   "name": "python",
   "nbconvert_exporter": "python",
   "pygments_lexer": "ipython3",
   "version": "3.11.2"
  },
  "orig_nbformat": 4
 },
 "nbformat": 4,
 "nbformat_minor": 2
}

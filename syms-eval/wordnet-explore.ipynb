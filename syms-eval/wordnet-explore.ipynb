{
 "cells": [
  {
   "cell_type": "markdown",
   "metadata": {},
   "source": [
    "# WordNet Synset lemmas"
   ]
  },
  {
   "cell_type": "code",
   "execution_count": 1,
   "metadata": {},
   "outputs": [],
   "source": [
    "from nltk.corpus import wordnet as wn"
   ]
  },
  {
   "cell_type": "code",
   "execution_count": 2,
   "metadata": {},
   "outputs": [
    {
     "name": "stdout",
     "output_type": "stream",
     "text": [
      "{'plane', 'airplane', 'aeroplane'}\n"
     ]
    }
   ],
   "source": [
    "synonyms = set()\n",
    "for syn in wn.synsets(\"airplane\"):\n",
    "    for l in syn.lemmas():\n",
    "        synonyms.add(l.name())\n",
    "print(synonyms)"
   ]
  },
  {
   "cell_type": "code",
   "execution_count": 3,
   "metadata": {},
   "outputs": [
    {
     "name": "stdout",
     "output_type": "stream",
     "text": [
      "set()\n"
     ]
    }
   ],
   "source": [
    "sees = set()\n",
    "for syn in wn.synsets(\"airplane\"):\n",
    "    for als in syn.also_sees():\n",
    "        for l in als.lemmas():\n",
    "            sees.add(l.name())\n",
    "print(sees)"
   ]
  },
  {
   "cell_type": "code",
   "execution_count": 11,
   "metadata": {},
   "outputs": [
    {
     "name": "stdout",
     "output_type": "stream",
     "text": [
      "attractive unattractive\n",
      "attractive repulsive\n"
     ]
    }
   ],
   "source": [
    "for syn in wn.synsets(\"attractive\"):\n",
    "    for j in syn.lemmas():\n",
    "        if j.antonyms():\n",
    "            print(j.name(), j.antonyms()[0].name())"
   ]
  },
  {
   "cell_type": "code",
   "execution_count": 4,
   "metadata": {},
   "outputs": [
    {
     "name": "stdout",
     "output_type": "stream",
     "text": [
      "set()\n"
     ]
    }
   ],
   "source": [
    "tos = set()\n",
    "for syn in wn.synsets(\"airplane\"):\n",
    "    for sims in syn.similar_tos():\n",
    "        for l in sims.lemmas():\n",
    "            tos.add(l.name())\n",
    "print(tos)"
   ]
  },
  {
   "cell_type": "code",
   "execution_count": 5,
   "metadata": {},
   "outputs": [
    {
     "name": "stdout",
     "output_type": "stream",
     "text": [
      "{'propeller_plane', 'biplane', 'amphibian', 'airliner', 'reconnaissance_plane', 'jet_plane', 'jet', 'jet-propelled_plane', 'hangar_queen', 'attack_aircraft', 'seaplane', 'delta_wing', 'hydroplane', 'multiengine_plane', 'tanker_plane', 'ski-plane', 'amphibious_aircraft', 'monoplane', 'multiengine_airplane', 'fighter_aircraft', 'fighter', 'bomber'}\n"
     ]
    }
   ],
   "source": [
    "hypo = set()\n",
    "for syn in wn.synsets(\"airplane\"):\n",
    "    for hyp in syn.hyponyms():\n",
    "        for l in hyp.lemmas():\n",
    "            hypo.add(l.name())\n",
    "print(hypo)"
   ]
  },
  {
   "cell_type": "code",
   "execution_count": 6,
   "metadata": {},
   "outputs": [
    {
     "name": "stdout",
     "output_type": "stream",
     "text": [
      "{'heavier-than-air_craft'}\n"
     ]
    }
   ],
   "source": [
    "hyper = set()\n",
    "for syn in wn.synsets(\"airplane\"):\n",
    "    for hype in syn.hypernyms():\n",
    "        for l in hype.lemmas():\n",
    "            hyper.add(l.name())\n",
    "print(hyper)"
   ]
  }
 ],
 "metadata": {
  "kernelspec": {
   "display_name": ".venv",
   "language": "python",
   "name": "python3"
  },
  "language_info": {
   "codemirror_mode": {
    "name": "ipython",
    "version": 3
   },
   "file_extension": ".py",
   "mimetype": "text/x-python",
   "name": "python",
   "nbconvert_exporter": "python",
   "pygments_lexer": "ipython3",
   "version": "3.8.18"
  },
  "orig_nbformat": 4
 },
 "nbformat": 4,
 "nbformat_minor": 2
}

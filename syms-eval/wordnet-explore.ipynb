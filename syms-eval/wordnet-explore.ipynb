{
 "cells": [
  {
   "cell_type": "markdown",
   "metadata": {},
   "source": [
    "# WordNet Synset lemmas"
   ]
  },
  {
   "cell_type": "code",
   "execution_count": 1,
   "metadata": {},
   "outputs": [],
   "source": [
    "from nltk.corpus import wordnet as wn"
   ]
  },
  {
   "cell_type": "code",
   "execution_count": 2,
   "metadata": {},
   "outputs": [
    {
     "name": "stdout",
     "output_type": "stream",
     "text": [
      "{'cad', 'andiron', 'hound', 'domestic_dog', 'blackguard', 'frankfurter', 'give_chase', 'wienerwurst', 'dog-iron', 'chase_after', 'frump', 'frank', 'heel', 'tail', 'Canis_familiaris', 'bounder', 'track', 'tag', 'firedog', 'weenie', 'click', 'dog', 'go_after', 'trail', 'chase', 'wiener', 'hotdog', 'hot_dog', 'detent', 'pawl'}\n"
     ]
    }
   ],
   "source": [
    "synonyms = set()\n",
    "for syn in wn.synsets(\"dog\"):\n",
    "    for l in syn.lemmas():\n",
    "        synonyms.add(l.name())\n",
    "print(synonyms)"
   ]
  },
  {
   "cell_type": "code",
   "execution_count": 3,
   "metadata": {},
   "outputs": [
    {
     "name": "stdout",
     "output_type": "stream",
     "text": [
      "set()\n"
     ]
    }
   ],
   "source": [
    "sees = set()\n",
    "for syn in wn.synsets(\"dog\"):\n",
    "    for als in syn.also_sees():\n",
    "        for l in als.lemmas():\n",
    "            sees.add(l.name())\n",
    "print(sees)"
   ]
  },
  {
   "cell_type": "code",
   "execution_count": 4,
   "metadata": {},
   "outputs": [],
   "source": [
    "for syn in wn.synsets(\"dog\"):\n",
    "    for j in syn.lemmas():\n",
    "        if j.antonyms():\n",
    "            print(j.name(), j.antonyms()[0].name())"
   ]
  },
  {
   "cell_type": "code",
   "execution_count": 5,
   "metadata": {},
   "outputs": [
    {
     "name": "stdout",
     "output_type": "stream",
     "text": [
      "set()\n"
     ]
    }
   ],
   "source": [
    "tos = set()\n",
    "for syn in wn.synsets(\"dog\"):\n",
    "    for sims in syn.similar_tos():\n",
    "        for l in sims.lemmas():\n",
    "            tos.add(l.name())\n",
    "print(tos)"
   ]
  },
  {
   "cell_type": "code",
   "execution_count": 10,
   "metadata": {},
   "outputs": [
    {
     "name": "stdout",
     "output_type": "stream",
     "text": [
      "{'Marine', 'clotheshorse', 'fellow', 'chequer', 'babu', 'machine_gunner', 'womaniser', 'draftee', 'sailor_boy', 'volunteer', 'he-man', 'grass_widower', 'boyfriend', 'buster', 'father_surrogate', 'Senhor', 'Neanderthal', 'greybeard', 'Hooray_Henry', 'gallant', 'enlisted_person', 'young_man', 'commander', 'father-figure', 'dude', 'divorced_man', 'graybeard', 'swell', 'widowman', 'bluejacket', 'devil_dog', 'castrate', 'Herr', 'air_force_officer', 'white_man', 'military_volunteer', 'sir', 'father_figure', 'shipboard_soldier', 'occupier', 'posseman', 'military_officer', 'chess_piece', 'Homo_habilis', 'Methuselah', 'widower', 'humankind', 'signior', 'bey', 'Esquire', 'veteran', 'fashion_plate', 'checker', 'adonis', 'strapper', 'paterfamilias', 'ranger', 'Rhodesian_man', 'bozo', 'Monsieur', 'voluntary', 'Homo_erectus', 'commando', 'middle-aged_man', 'man', 'tile', 'swain', 'sailor', 'crew', 'Homo_sapiens', 'artilleryman', 'vet', 'bull', 'hunk', 'navy_man', 'white', 'cat', 'stud', 'philanderer', 'mankind', 'old_boy', 'ex-boyfriend', 'Neandertal', 'signor', 'inamorato', 'gunner', 'humans', 'conscript', 'Samson', 'iron_man', 'stiff', 'veteran_soldier', 'gentleman', 'Homo_soloensis', 'hombre', 'Neandertal_man', 'boy', 'geezer', 'inductee', 'Peter_Pan', 'ironside', 'leatherneck', 'Homo_rhodesiensis', 'chessman', 'ex-husband', 'patriarch', 'world', 'ironman', 'Neanderthal_man', 'golden_boy', 'womanizer', 'Homo_sapiens_neanderthalensis', 'bachelor', 'beau', 'baboo', 'Esq', 'humanity', 'ejaculator', 'Black_man', 'human_beings', 'fop', 'black', 'housefather', 'striper', 'officer', 'yellow_man', 'guy', 'signore', 'ex', 'ex-serviceman', 'shaver', 'unmarried_man', 'sheik', 'cannoneer', 'human_race', 'wonder_boy', 'ponce', 'dandy', 'macho-man', 'noncombatant', 'bruiser', 'old_man', 'Tarzan', 'eunuch', 'galoot', 'young_buck'}\n"
     ]
    }
   ],
   "source": [
    "hypo = set()\n",
    "for syn in wn.synsets(\"man\"):\n",
    "    for hyp in syn.hyponyms():\n",
    "        for l in hyp.lemmas():\n",
    "            hypo.add(l.name())\n",
    "print(hypo)"
   ]
  },
  {
   "cell_type": "code",
   "execution_count": 11,
   "metadata": {},
   "outputs": [
    {
     "name": "stdout",
     "output_type": "stream",
     "text": [
      "{'manservant', 'staff', 'subsidiary', 'soul', 'mortal', 'skilled_worker', 'individual', 'human', 'do_work', 'body_servant', 'skilled_workman', 'person', 'grouping', 'male_person', 'trained_worker', 'work', 'somebody', 'group', 'foot_soldier', 'man', 'game_equipment', 'subordinate', 'male', 'adult', 'lover', 'underling', 'homo', 'hominid', 'human_being', 'grownup', 'someone'}\n"
     ]
    }
   ],
   "source": [
    "hyper = set()\n",
    "for syn in wn.synsets(\"man\"):\n",
    "    for hype in syn.hypernyms():\n",
    "        for l in hype.lemmas():\n",
    "            hyper.add(l.name())\n",
    "print(hyper)"
   ]
  }
 ],
 "metadata": {
  "kernelspec": {
   "display_name": ".venv",
   "language": "python",
   "name": "python3"
  },
  "language_info": {
   "codemirror_mode": {
    "name": "ipython",
    "version": 3
   },
   "file_extension": ".py",
   "mimetype": "text/x-python",
   "name": "python",
   "nbconvert_exporter": "python",
   "pygments_lexer": "ipython3",
   "version": "3.8.18"
  },
  "orig_nbformat": 4
 },
 "nbformat": 4,
 "nbformat_minor": 2
}

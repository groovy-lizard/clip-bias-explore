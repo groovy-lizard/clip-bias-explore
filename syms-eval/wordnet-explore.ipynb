{
 "cells": [
  {
   "cell_type": "markdown",
   "metadata": {},
   "source": [
    "# WordNet Synset lemmas"
   ]
  },
  {
   "cell_type": "code",
   "execution_count": 8,
   "metadata": {},
   "outputs": [],
   "source": [
    "from nltk.corpus import wordnet as wn"
   ]
  },
  {
   "cell_type": "code",
   "execution_count": 15,
   "metadata": {},
   "outputs": [
    {
     "name": "stdout",
     "output_type": "stream",
     "text": [
      "{'serviceman', 'military_man', 'human_being', 'valet_de_chambre', 'piece', 'humankind', 'human', 'military_personnel', 'Man', 'human_race', 'human_beings', \"gentleman's_gentleman\", 'humans', 'valet', 'mankind', 'adult_male', 'humanity', 'homo', 'Isle_of_Man', 'world', 'gentleman', 'man'}\n"
     ]
    }
   ],
   "source": [
    "synonyms = set()\n",
    "for syn in wn.synsets(\"man\"):\n",
    "    for l in syn.lemmas():\n",
    "        synonyms.add(l.name())\n",
    "print(synonyms)"
   ]
  },
  {
   "cell_type": "code",
   "execution_count": 10,
   "metadata": {},
   "outputs": [
    {
     "name": "stdout",
     "output_type": "stream",
     "text": [
      "set()\n"
     ]
    }
   ],
   "source": [
    "sees = set()\n",
    "for syn in wn.synsets(\"man\"):\n",
    "    for als in syn.also_sees():\n",
    "        for l in als.lemmas():\n",
    "            sees.add(l.name())\n",
    "print(sees)"
   ]
  },
  {
   "cell_type": "code",
   "execution_count": 11,
   "metadata": {},
   "outputs": [
    {
     "name": "stdout",
     "output_type": "stream",
     "text": [
      "man woman\n",
      "serviceman civilian\n",
      "man woman\n"
     ]
    }
   ],
   "source": [
    "for syn in wn.synsets(\"man\"):\n",
    "    for j in syn.lemmas():\n",
    "        if j.antonyms():\n",
    "            print(j.name(), j.antonyms()[0].name())"
   ]
  },
  {
   "cell_type": "code",
   "execution_count": 12,
   "metadata": {},
   "outputs": [
    {
     "name": "stdout",
     "output_type": "stream",
     "text": [
      "set()\n"
     ]
    }
   ],
   "source": [
    "tos = set()\n",
    "for syn in wn.synsets(\"man\"):\n",
    "    for sims in syn.similar_tos():\n",
    "        for l in sims.lemmas():\n",
    "            tos.add(l.name())\n",
    "print(tos)"
   ]
  },
  {
   "cell_type": "code",
   "execution_count": 13,
   "metadata": {},
   "outputs": [
    {
     "name": "stdout",
     "output_type": "stream",
     "text": [
      "{'enlisted_person', 'shipboard_soldier', 'fellow', 'middle-aged_man', 'castrate', 'shaver', 'wonder_boy', 'bozo', 'chequer', 'Esq', 'young_man', 'voluntary', 'he-man', 'Herr', 'stud', 'stiff', 'Homo_sapiens_neanderthalensis', 'draftee', 'human_race', 'veteran', 'fashion_plate', 'posseman', 'military_volunteer', 'galoot', 'checker', 'boy', 'dude', 'clotheshorse', 'divorced_man', 'dandy', 'vet', 'fop', 'bruiser', 'black', 'macho-man', 'Homo_sapiens', 'swell', 'Neandertal_man', 'graybeard', 'inductee', 'gallant', 'paterfamilias', 'baboo', 'Rhodesian_man', 'hombre', 'sir', 'boyfriend', 'cat', 'bull', 'Peter_Pan', 'Homo_rhodesiensis', 'humankind', 'Marine', 'womaniser', 'Neanderthal', 'bey', 'womanizer', 'father-figure', 'leatherneck', 'signor', 'patriarch', 'crew', 'humanity', 'ponce', 'world', 'old_man', 'strapper', 'ex-husband', 'gentleman', 'striper', 'Homo_soloensis', 'signior', 'commando', 'ranger', 'Homo_habilis', 'Tarzan', 'tile', 'noncombatant', 'buster', 'swain', 'devil_dog', 'occupier', 'Esquire', 'bluejacket', 'grass_widower', 'Senhor', 'ex-serviceman', 'Neandertal', 'widowman', 'white_man', 'guy', 'old_boy', 'beau', 'chess_piece', 'Samson', 'military_officer', 'humans', 'Monsieur', 'widower', 'ironside', 'adonis', 'chessman', 'gunner', 'geezer', 'inamorato', 'conscript', 'ex-boyfriend', 'philanderer', 'volunteer', 'young_buck', 'babu', 'artilleryman', 'cannoneer', 'officer', 'machine_gunner', 'hunk', 'air_force_officer', 'navy_man', 'sheik', 'greybeard', 'ironman', 'Neanderthal_man', 'father_surrogate', 'signore', 'unmarried_man', 'housefather', 'human_beings', 'white', 'Methuselah', 'ex', 'sailor', 'Black_man', 'ejaculator', 'iron_man', 'Homo_erectus', 'yellow_man', 'bachelor', 'father_figure', 'commander', 'Hooray_Henry', 'mankind', 'sailor_boy', 'eunuch', 'veteran_soldier', 'golden_boy', 'man'}\n"
     ]
    }
   ],
   "source": [
    "hypo = set()\n",
    "for syn in wn.synsets(\"man\"):\n",
    "    for hyp in syn.hyponyms():\n",
    "        for l in hyp.lemmas():\n",
    "            hypo.add(l.name())\n",
    "print(hypo)"
   ]
  },
  {
   "cell_type": "code",
   "execution_count": 14,
   "metadata": {},
   "outputs": [
    {
     "name": "stdout",
     "output_type": "stream",
     "text": [
      "{'somebody', 'subsidiary', 'individual', 'manservant', 'game_equipment', 'foot_soldier', 'human_being', 'grownup', 'male', 'human', 'person', 'mortal', 'underling', 'soul', 'do_work', 'skilled_workman', 'male_person', 'hominid', 'staff', 'skilled_worker', 'someone', 'work', 'homo', 'trained_worker', 'grouping', 'body_servant', 'lover', 'subordinate', 'adult', 'group', 'man'}\n"
     ]
    }
   ],
   "source": [
    "hyper = set()\n",
    "for syn in wn.synsets(\"man\"):\n",
    "    for hype in syn.hypernyms():\n",
    "        for l in hype.lemmas():\n",
    "            hyper.add(l.name())\n",
    "print(hyper)"
   ]
  }
 ],
 "metadata": {
  "kernelspec": {
   "display_name": ".venv",
   "language": "python",
   "name": "python3"
  },
  "language_info": {
   "codemirror_mode": {
    "name": "ipython",
    "version": 3
   },
   "file_extension": ".py",
   "mimetype": "text/x-python",
   "name": "python",
   "nbconvert_exporter": "python",
   "pygments_lexer": "ipython3",
   "version": "3.8.18"
  },
  "orig_nbformat": 4
 },
 "nbformat": 4,
 "nbformat_minor": 2
}
